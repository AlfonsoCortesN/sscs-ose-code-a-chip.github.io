{
 "cells": [
  {
   "cell_type": "markdown",
   "id": "347a4055-ac11-41a8-9bf8-e75a08565794",
   "metadata": {},
   "source": [
    "# OBS Demo: A demonstration of standard-cell based obfuscation for imaging security in SKY130"
   ]
  },
  {
   "cell_type": "markdown",
   "id": "de360b82-86da-4c87-b58e-1faa861d2839",
   "metadata": {
    "jp-MarkdownHeadingCollapsed": true
   },
   "source": [
    "Ckristian Duran, 2024\n",
    "\n",
    "SPDX-License-Identifier: Apache-2.0\n",
    "\n",
    "#### Team Members \n",
    "\n",
    "|Name|Affiliation|IEEE Member|SSCS Member|\n",
    "|:--:|:----------:|:----------:|:----------:|\n",
    "| Ckristian Duran (Maker) <br /> Email ID: ckdur.iso@gmail.com|N/A| Yes |Yes |"
   ]
  },
  {
   "cell_type": "markdown",
   "id": "d3e46fc8-eaba-4bfb-b979-d21504a09cf1",
   "metadata": {},
   "source": [
    "## Abstract\n",
    "\n",
    "This project demonstrates a standard-cell based obfuscation of an example digital circuit to protect against imaging tools."
   ]
  },
  {
   "cell_type": "markdown",
   "id": "ea95a4bc-b399-40a9-b555-0d78bd3fd324",
   "metadata": {},
   "source": [
    "## 1. Introduction"
   ]
  },
  {
   "cell_type": "markdown",
   "id": "b0344e41-6037-4702-ad59-616f26c21e77",
   "metadata": {},
   "source": [
    "## 2. Contents of the notebook"
   ]
  },
  {
   "cell_type": "markdown",
   "id": "5d29b497-52f0-4e1f-9fe6-ee073753f234",
   "metadata": {},
   "source": [
    "## 3. Installing tools and dependencies"
   ]
  },
  {
   "cell_type": "markdown",
   "id": "6c6bec6f-440f-4acf-bf6d-e4b3f9333c8b",
   "metadata": {},
   "source": [
    "## 4. Creating the obfuscated circuit"
   ]
  },
  {
   "cell_type": "markdown",
   "id": "2cb9d2a6-5edf-4eda-99a3-6216774b70ef",
   "metadata": {},
   "source": [
    "### 4.1 Synthesis and obfuscation"
   ]
  },
  {
   "cell_type": "markdown",
   "id": "a4164fb6-d403-4afd-b0cb-cf535c8c03a3",
   "metadata": {},
   "source": [
    "### 4.2 Place and route, and signoff"
   ]
  },
  {
   "cell_type": "markdown",
   "id": "00e66b02-2e75-4186-b8b6-f3e7b290052b",
   "metadata": {},
   "source": [
    "## 5. Reverse-engineering the circuit"
   ]
  },
  {
   "cell_type": "markdown",
   "id": "f6650713-c3f9-4112-8381-cab8e5a2e622",
   "metadata": {},
   "source": [
    "### 5.1 Imaging the circuits"
   ]
  },
  {
   "cell_type": "markdown",
   "id": "042d2365-d735-45ee-90a4-239c0e04ba11",
   "metadata": {},
   "source": [
    "### 5.2 Setup the attack"
   ]
  },
  {
   "cell_type": "markdown",
   "id": "4188f15b-cd1a-4009-b0f1-edab1cdfdc11",
   "metadata": {},
   "source": [
    "### 5.3 Judging the success of the attack"
   ]
  },
  {
   "cell_type": "markdown",
   "id": "3491949f-f216-44c4-91f3-c57a905a778e",
   "metadata": {},
   "source": [
    "## 8. Conclusions"
   ]
  }
 ],
 "metadata": {
  "kernelspec": {
   "display_name": "Python 3 (ipykernel)",
   "language": "python",
   "name": "python3"
  },
  "language_info": {
   "codemirror_mode": {
    "name": "ipython",
    "version": 3
   },
   "file_extension": ".py",
   "mimetype": "text/x-python",
   "name": "python",
   "nbconvert_exporter": "python",
   "pygments_lexer": "ipython3",
   "version": "3.10.12"
  }
 },
 "nbformat": 4,
 "nbformat_minor": 5
}
