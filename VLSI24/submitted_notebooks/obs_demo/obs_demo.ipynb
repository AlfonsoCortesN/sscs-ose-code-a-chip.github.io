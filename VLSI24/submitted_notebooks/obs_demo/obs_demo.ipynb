{
 "cells": [
  {
   "cell_type": "markdown",
   "id": "347a4055-ac11-41a8-9bf8-e75a08565794",
   "metadata": {},
   "source": [
    "# OBS Demo: A demonstration of standard-cell based obfuscation for imaging security in SKY130"
   ]
  },
  {
   "cell_type": "markdown",
   "id": "de360b82-86da-4c87-b58e-1faa861d2839",
   "metadata": {
    "jp-MarkdownHeadingCollapsed": true
   },
   "source": [
    "Ckristian Duran, 2024\n",
    "\n",
    "SPDX-License-Identifier: Apache-2.0\n",
    "\n",
    "#### Team Members \n",
    "\n",
    "|Name|Affiliation|IEEE Member|SSCS Member|\n",
    "|:--:|:----------:|:----------:|:----------:|\n",
    "| Ckristian Duran (Maker) <br /> Email IDs: <br /> ckdur.iso [at] gmail [dot] com <br /> ckristian.duran [at] correo [dot] uis [dot] edu [dot] com <br /> duran [at] silicon [dot] u-tokyo [dot] ac [dot] jp|Universidad Industrial de Santander (UIS) <br /> The University of Tokyo (東京大学)| Yes |Yes |\n",
    "\n",
    "Replace `[at]` with `@`\n",
    "\n",
    "Replace `[dot]` with `.`"
   ]
  },
  {
   "cell_type": "markdown",
   "id": "d3e46fc8-eaba-4bfb-b979-d21504a09cf1",
   "metadata": {},
   "source": [
    "## Abstract\n",
    "\n",
    "This project demonstrates a standard-cell based obfuscation of an example digital circuit to protect against imaging tools.\n",
    "The obfuscator works by replacing cells from a netlist by cells with identical behavior but different layout.\n",
    "This obfuscation is performed in the post-synthesis digital circuit, and the rest of the steps are executed in a typical digital composition (ej: PnR, DRC, LVS, Simulation, etc).\n",
    "The alternative cells layout do not have a significant impact in area, but the timing and capacitances can vary a little, making Static Timing Analysis vary between the original circuit and an obfuscated one.\n",
    "The cell library was previously built and characterized with enough files to perform digital synthesis and implementation.\n",
    "As part of the demo, an additional imaging-reversal procedure is built by template matching, to try to recognize back the cells in the digital circuit.\n",
    "This demo is built for Skywater 130nm (SKY130)."
   ]
  },
  {
   "cell_type": "markdown",
   "id": "ea95a4bc-b399-40a9-b555-0d78bd3fd324",
   "metadata": {},
   "source": [
    "## 1. Introduction\n",
    "\n",
    "Circuit security is a rising concern in recent years. The analysis of digital circuits to extract information has been a common ocurrence in reverse-engineering. Such analysis includes the extraction of a netlist from different stages of design and fabrication. Despite numerous intents to obscure and secretize the process in such stages, attacks always arise at the end of the production cycle. An attacker can perform decaping of a chip and perform image-reversal of a circuit in critical locations to extract information. This project is yet another way to prevent attacks from chip imaging by obfuscating the digital circuit.\n",
    "\n",
    "### 1.1 Standard cell library\n",
    "\n",
    "The first component of this project is an standard cell library which contains the obfuscation cells. These cells contains the same circuit but contains different layouts. To exemplify this, lets take a regular NAND cell.\n",
    "\n",
    "```spice\n",
    "* This file can be found in obs_demo/lib/sky130.lvs\n",
    ".SUBCKT ND2D1 a1 a2 vdd vss zn\n",
    "*.PININFO a1:I a2:I zn:O vdd:B vss:B \n",
    "M_M13 zn a1 xi1_n6 vss nfet_01v8 l=1.500e-07 w=6.500e-07\n",
    "M_M14 xi1_n6 a2 vss vss nfet_01v8 l=1.500e-07 w=6.500e-07\n",
    "M_M12 zn a2 vdd vdd pfet_01v8 l=1.500e-07 w=1.000e-06\n",
    "M_M11 zn a1 vdd vdd pfet_01v8 l=1.500e-07 w=1.000e-06\n",
    ".ENDS\n",
    "```\n",
    "\n",
    "This circuit contains 4 transistors, 2 NMOS and 2 PMOS. At the moment of creating the layout, there are different ways to arrange the transistors. In the case of the NAND there are 4 possible arrangements for a minimum space layout:\n",
    "\n",
    "```\n",
    "Arrange 1             Arrange 2          Arrange 3          Arrange 4\n",
    "       a1   a2            a1    a2         a1    a2             a1   a2\n",
    "P: vdd | z  | vdd     z   | vdd | z      z | vdd | z        vdd | z  | vdd\n",
    "N: gnd | n6 | z       gnd | n6  | z      z | n6  | gnd      z   | n6 | gnd\n",
    "       a1   a2            a1    a2         a2    a1             a2   a1\n",
    "```\n",
    "\n",
    "With these arrangements, is possible to place and route such cells in 4 different manners in the case of the NAND\n",
    "\n",
    "![ND2D1](assets/img/ND2D1.toon.png \"NAND A.1\")![ND2D1_2](assets/img/ND2D1_2.toon.png \"NAND A.2\")![ND2D1_3](assets/img/ND2D1_3.toon.png \"NAND A.3\")![ND2D1_1](assets/img/ND2D1_1.toon.png \"NAND A.4\")\n",
    "\n",
    "This behaviour can be extended to other cells. In the included library, the cells are limited to 4 different layouts, but this process can be repeated as many times as different arrangements are possible for a cell. This is an example of a D-Flip-Flop.\n",
    "\n",
    "![DFQD1](assets/img/DFQD1.toon.png \"DFQD1 A.1\")![DFQD1_1](assets/img/DFQD1_1.toon.png \"DFQD1 A.2\")\n",
    "\n",
    "![DFQD1_2](assets/img/DFQD1_2.toon.png \"DFQD1 A.3\")![DFQD1_3](assets/img/DFQD1_3.toon.png \"DFQD1 A.4\")\n",
    "\n",
    "With these cells,  a library is composed which contains combinational and sequential circuitry. Such layouts are going to be ramdomly swapped in a netlist to obfuscate the digital circuit at the moment of producing a layout.\n",
    "\n",
    "### 1.2 Obfuscation procedure\n",
    "\n",
    "The obfuscation consists of perform synthesis, obfuscation, place, and route the circuit with the standard cell library. The next figure details the overall flow of this implementation.\n",
    "\n",
    "![Obfuscation procedure](assets/img/obs_demo_flow.png \"OBS flow\")\n",
    "\n",
    "After getting a netlist of the circuit from synthesis, the obfuscation is performed to the output netlist from [yosys](https://github.com/YosysHQ/yosys).\n",
    "The script contains a link list to replace the existing cells to any of the 4 possible alternatives (if they exist).\n",
    "The cell is chosen randomly using the `obs_demo/syn/tcl/aleatorize.py` script.\n",
    "For example, an instance of `ND2D1` can be replaced by `ND2D1`, `ND2D1_1`, `ND2D1_2`, or `ND2D1_3`.\n",
    "The output of this script is a obfuscated netlist, where all the cells are replaced with equivalent circuits with theoretical different layouts.\n",
    "\n",
    "The next steps are included in the typical digital flow to output a macro layout.\n",
    "Placement, Clock Tree Synthesis (CTS) and route of the circuit is done using the obfuscated library and the geometry abstracts.\n",
    "Such process are executed with [OpenROAD](https://github.com/The-OpenROAD-Project/OpenROAD) with scripts included in the project.\n",
    "The output is a definition file which contains placement and routing of the geometry abstract, which is used by [Magic](https://github.com/RTimothyEdwards/magic) to create a final layout GDS file. DRC and LVS can be also performed at this stage.\n",
    "\n",
    "TODO: The DRC and LVS do not work at this point, as the standard cell library does not pass DRC and has connectivity issues.\n",
    "\n",
    "### 1.3 Reverse enginering the circuit\n",
    "\n",
    "After creating the GDS layout of the digital macro, the user can perform a test for a imaging reverse-engineering of the circuit.\n",
    "Imaging tools are used to create a photo-like realistic image of the layouts of the digital macro, as well as every cell implemented in the obfuscated library.\n",
    "Afterwards, all the images are imported into a imaging reversing tool named [degate](https://github.com/DegateCommunity/Degate).\n",
    "This tool allows the user to perform imaging-reversing to a series of die photos to identify digital circuits and their netlists.\n",
    "The user can perform a template matching of the images of this demo to simulate an attack and evaluate the identification rate at a first iteration.\n",
    "\n",
    "![Reverse test procedure](assets/img/obs_demo_rev.png \"REV flow\")"
   ]
  },
  {
   "cell_type": "markdown",
   "id": "b0344e41-6037-4702-ad59-616f26c21e77",
   "metadata": {},
   "source": [
    "## 2. Contents of the notebook\n",
    "\n",
    "This notebook contans an step-to-step guide to execute the [obs_demo](https://github.com/ckdur/obs_demo) project.\n",
    "In the following sections, we will describe to to the following:\n",
    "\n",
    "1. Install tools and dependencies, working for (almost) every linux platform.\n",
    "2. Create the obfuscated circuit, which guide the user to perform synthesis, aleatorize, place/CTS/route, and signoff of the digital macro.\n",
    "3. Perform reverse-engineering using imaging tools, where we guide the user to perform an attack to the image of the layout, either automatically or via scripts.\n",
    "\n",
    "The demo by itself contains the following:\n",
    "\n",
    "1. Synthesis scripts.\n",
    "2. Aleatorize script in the synthesis container.\n",
    "3. Place and route scripts.\n",
    "4. Signoff scripts, including GDS creation, DRC, and LVS.\n",
    "5. Imaging scripts to create photo-like imaging.\n",
    "6. Reverse-engineering scripts, to execute degate with the previous images."
   ]
  },
  {
   "cell_type": "markdown",
   "id": "5d29b497-52f0-4e1f-9fe6-ee073753f234",
   "metadata": {},
   "source": [
    "## 3. Preparing the environment\n",
    "\n",
    "### 3.1 Installing tools and dependencies \n",
    "\n",
    "The following code will allow you to install the dependencies from a new conda environment. Several steps can be skipped if you either installed these requirements locally in your system or in a separate conda environment you already have prepared for digital integration. The checks for these tools are automatically implemented, and this block of code can be ran just as it is."
   ]
  },
  {
   "cell_type": "code",
   "execution_count": null,
   "id": "04856b58-5b39-449f-a08a-8583e72d6d72",
   "metadata": {},
   "outputs": [],
   "source": [
    "import os\n",
    "import pathlib\n",
    "import sys\n",
    "\n",
    "# Section for checking the status of the conda installation\n",
    "conda_prefix_path = os.environ.get('CONDA_PREFIX', None)\n",
    "conda_exists = True\n",
    "if conda_prefix_path is None:\n",
    "    conda_prefix_path = str(pathlib.Path('conda-env').resolve())\n",
    "    if not os.path.isdir(conda_prefix_path):\n",
    "        conda_exists = False\n",
    "%env CONDA_PREFIX={conda_prefix_path}\n",
    "!mkdir -p {conda_prefix_path}/conda-meta\n",
    "\n",
    "# We are going to use micromamba, as seems to be the most neutral to work in any environment\n",
    "micromamba_path=str(pathlib.Path('micromamba').resolve())\n",
    "micromamba=micromamba_path + \"/bin/micromamba\"\n",
    "if not os.path.isfile(micromamba):\n",
    "    !mkdir -p {micromamba_path}/bin\n",
    "    !cd {micromamba_path} && curl -Ls https://micro.mamba.pm/api/micromamba/linux-64/latest | tar -xvj bin/micromamba\n",
    "# Only create the environment if the conda does not exist\n",
    "if not conda_exists:\n",
    "    print(\"Create the conda environment\")\n",
    "    !{micromamba} create --yes --prefix {conda_prefix_path}\n",
    "\n",
    "# Forcing this conda environment to work with python 3.10\n",
    "!echo 'python == 3.10*' >> {conda_prefix_path}/conda-meta/pinned\n",
    "\n",
    "# Set some environment variables\n",
    "PATH = \"{}/bin:{}\".format(conda_prefix_path, os.environ['PATH'])  # Is supposed to not fail\n",
    "LD_LIBRARY_PATH = \"{0}/lib:{0}/lib/python3.10:{1}\".format(conda_prefix_path, os.environ.get('LD_LIBRARY_PATH', ''))\n",
    "%env PATH={PATH}\n",
    "%env LD_LIBRARY_PATH={LD_LIBRARY_PATH}\n",
    "\n",
    "# Now, check progressively for all the dependencies, which will list in this dict\n",
    "req = {\n",
    "    \"magic\": {\"cmd\": \"magic --version\", \"channel\": \"main\"},\n",
    "    \"klayout\": {\"cmd\": \"klayout -v\", \"channel\": \"main\"},\n",
    "    \"yosys\": {\"cmd\": \"yosys --version\", \"channel\": \"main\"},\n",
    "    \"netgen\": {\"cmd\": \"which netgen\", \"channel\": \"main\"},\n",
    "    \"openroad\": {\"cmd\": \"openroad -version\", \"channel\": \"main\"},\n",
    "    \"git>=2.34.1\": {\"cmd\": \"git --version\", \"channel\": \"conda-forge\"},\n",
    "    \"pkg-config>=0.29.2\": {\"cmd\": \"false\", \"channel\": \"conda-forge\"},     # FORCED\n",
    "    \"cmake>=3.22.1\": {\"cmd\": \"false\", \"channel\": \"conda-forge\"},          # FORCED\n",
    "    \"gcc>=12.3.0\": {\"cmd\": \"gcc --version\", \"channel\": \"conda-forge\"},\n",
    "    \"gxx>=12.3.0\": {\"cmd\": \"g++ --version\", \"channel\": \"conda-forge\"},\n",
    "    \"qt6-main>=6.4.1\": {\"cmd\": \"which qtdiag6\", \"channel\": \"conda-forge\"},\n",
    "    \"qt6-charts>=6.4.1\": {\"cmd\": \"which qtdiag6\", \"channel\": \"conda-forge\"},\n",
    "    \"qt6-3d>=6.4.1\": {\"cmd\": \"which qtdiag6\", \"channel\": \"conda-forge\"}\n",
    "}\n",
    "for key, elem in req.items():\n",
    "    ret = os.system(elem[\"cmd\"])\n",
    "    if ret != 0:\n",
    "        # This command does not exist, or does not execute. Regardless, install\n",
    "        print(\"Attempting to install: {}\".format(key))\n",
    "        channel = elem[\"channel\"]\n",
    "        !{micromamba} install --yes --prefix {conda_prefix_path} --channel litex-hub --channel {channel} \"{key}\"\n",
    "    else:\n",
    "        # Detected. Just assume is there\n",
    "        print(\"Detected!: {}\".format(key))\n",
    "\n",
    "# Check exclusively for the PDK_ROOT separatelly... I wish there is a better way to check for the PDK\n",
    "PDK_ROOT = os.environ.get('PDK_ROOT', None)\n",
    "if PDK_ROOT is None:\n",
    "    !{micromamba} install --yes --prefix {conda_prefix_path} --channel litex-hub --channel main open_pdks.sky130a\n",
    "    PDK_ROOT = \"{0}/share/pdk\".format(conda_prefix_path)\n",
    "    %env PDK_ROOT={PDK_ROOT}"
   ]
  },
  {
   "cell_type": "markdown",
   "id": "ac7cff3a-9ade-4112-8341-d89c42cf412d",
   "metadata": {},
   "source": [
    "### 3.2 Download the repository\n",
    "\n",
    "The code below will download the repository where this demo is hosted."
   ]
  },
  {
   "cell_type": "code",
   "execution_count": null,
   "id": "dd684905-c648-481d-9e81-14773288db72",
   "metadata": {},
   "outputs": [],
   "source": [
    "import os\n",
    "import pathlib\n",
    "import sys\n",
    "\n",
    "obs_demo_path = str(pathlib.Path('obs_demo').resolve())\n",
    "obs_demo_settings = obs_demo_path + \"/settings.mk\"\n",
    "\n",
    "if not os.path.isdir(obs_demo_path):\n",
    "    # Download the repository\n",
    "    !git clone -b main --recursive https://github.com/ckdur/obs_demo.git {obs_demo_path}\n",
    "\n",
    "%env ROOT_DIR={obs_demo_path}"
   ]
  },
  {
   "cell_type": "markdown",
   "id": "e271eb95-8354-41ca-b882-e48956df8f49",
   "metadata": {},
   "source": [
    "### 3.3 Build degate\n",
    "\n",
    "This is an extra tool which is not listed in conda packages. The next block will use the repository to build Degate."
   ]
  },
  {
   "cell_type": "code",
   "execution_count": null,
   "id": "6b71fcf4-a219-49fb-abd7-7732e84528bd",
   "metadata": {},
   "outputs": [],
   "source": [
    "import os\n",
    "import pathlib\n",
    "import sys\n",
    "\n",
    "!mkdir -p $ROOT_DIR/rev/src/Degate/build\n",
    "!cd $ROOT_DIR/rev/src/Degate/build && cmake $ROOT_DIR/rev/src/Degate\n",
    "!make -C $ROOT_DIR/rev/src/Degate/build all"
   ]
  },
  {
   "cell_type": "markdown",
   "id": "6c6bec6f-440f-4acf-bf6d-e4b3f9333c8b",
   "metadata": {},
   "source": [
    "## 4. Creating the obfuscated circuit"
   ]
  },
  {
   "cell_type": "markdown",
   "id": "2cb9d2a6-5edf-4eda-99a3-6216774b70ef",
   "metadata": {},
   "source": [
    "### 4.1 Synthesis and obfuscation"
   ]
  },
  {
   "cell_type": "markdown",
   "id": "a4164fb6-d403-4afd-b0cb-cf535c8c03a3",
   "metadata": {},
   "source": [
    "### 4.2 Place and route, and signoff"
   ]
  },
  {
   "cell_type": "markdown",
   "id": "00e66b02-2e75-4186-b8b6-f3e7b290052b",
   "metadata": {},
   "source": [
    "## 5. Reverse-engineering the circuit"
   ]
  },
  {
   "cell_type": "markdown",
   "id": "f6650713-c3f9-4112-8381-cab8e5a2e622",
   "metadata": {},
   "source": [
    "### 5.1 Imaging the circuits"
   ]
  },
  {
   "cell_type": "markdown",
   "id": "042d2365-d735-45ee-90a4-239c0e04ba11",
   "metadata": {},
   "source": [
    "### 5.2 Setup the attack"
   ]
  },
  {
   "cell_type": "markdown",
   "id": "4188f15b-cd1a-4009-b0f1-edab1cdfdc11",
   "metadata": {},
   "source": [
    "### 5.3 Judging the success of the attack"
   ]
  },
  {
   "cell_type": "markdown",
   "id": "3491949f-f216-44c4-91f3-c57a905a778e",
   "metadata": {},
   "source": [
    "## 6. Conclusions"
   ]
  }
 ],
 "metadata": {
  "kernelspec": {
   "display_name": "Python 3 (ipykernel)",
   "language": "python",
   "name": "python3"
  },
  "language_info": {
   "codemirror_mode": {
    "name": "ipython",
    "version": 3
   },
   "file_extension": ".py",
   "mimetype": "text/x-python",
   "name": "python",
   "nbconvert_exporter": "python",
   "pygments_lexer": "ipython3",
   "version": "3.10.12"
  }
 },
 "nbformat": 4,
 "nbformat_minor": 5
}
