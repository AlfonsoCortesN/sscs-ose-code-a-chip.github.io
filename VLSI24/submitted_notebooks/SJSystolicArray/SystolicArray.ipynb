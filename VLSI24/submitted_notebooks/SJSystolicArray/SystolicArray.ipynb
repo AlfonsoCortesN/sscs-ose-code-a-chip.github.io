{
  "nbformat": 4,
  "nbformat_minor": 0,
  "metadata": {
    "colab": {
      "provenance": [],
      "authorship_tag": "ABX9TyNab7GuMc52YMaL8KIuM15c",
      "include_colab_link": true
    },
    "kernelspec": {
      "name": "python3",
      "display_name": "Python 3"
    },
    "language_info": {
      "name": "python"
    }
  },
  "cells": [
    {
      "cell_type": "markdown",
      "metadata": {
        "id": "view-in-github",
        "colab_type": "text"
      },
      "source": [
        "<a href=\"https://colab.research.google.com/github/SiliconJackets/sscs-ose-code-a-chip.github.io/blob/main/VLSI24/submitted_notebooks/SJSystolicArray/SystolicArray.ipynb\" target=\"_parent\"><img src=\"https://colab.research.google.com/assets/colab-badge.svg\" alt=\"Open In Colab\"/></a>"
      ]
    },
    {
      "cell_type": "markdown",
      "source": [
        "# Row Stationary Systolic Array With Openlane\n",
        "\n",
        "```\n",
        "Copyright 2023 SiliconJackets\n",
        "SPDX-License-Identifier: GPL-3.0-or-later\n",
        "```\n",
        "\n",
        "Running a 3x3 systolic array design inspired by [EYERISS](https://courses.cs.washington.edu/courses/cse550/21au/papers/CSE550.Eyeriss.pdf) design thru the [OpenLane](https://github.com/The-OpenROAD-Project/OpenLane/) GDS to RTL flow targeting the [open source SKY130 PDK](https://github.com/google/skywater-pdk/)."
      ],
      "metadata": {
        "id": "VV2vOq0Oq_CF"
      }
    },
    {
      "cell_type": "markdown",
      "source": [
        "|Name|Affiliation| Email |IEEE Member|SSCS Member|\n",
        "|:--:|:----------:|:----------:|:----------:|:----------:|\n",
        "|Zachary Ellis|Georgia Institute of Technology|zellis7@gatech.edu|Yes|Yes|\n",
        "|Nealson Li|Georgia Institute of Technology|nealson@gatech.edu|Yes|Yes|\n",
        "|Addison Elliott|Georgia Institute of Technology|addisonelliott@gatech.edu|Yes|Yes|\n",
        "|Zeyan Wu|Georgia Institute of Technology|zwu477@gatech.edu|Yes|Yes|"
      ],
      "metadata": {
        "id": "pzPuBWmSrjK_"
      }
    },
    {
      "cell_type": "markdown",
      "source": [
        "## Introduction\n",
        "---\n",
        "\n",
        "In this notebook we will be going through the process of design specification, simulation, and implementation for a resource constrained design intended to submitted to another open source silicon initiative [Tiny Tapeout](https://tinytapeout.com/). Tiny tapeout allows individuals to purchase tiny 160um x 100um blocks on a silicon die for an acceptable price in order to gain exposure to the semiconductor deisng process. Our plan is to create a hardware accelerator for Convolutional Neural Networks \\(CNNs\\), losely based on the design from [EYERISS](https://courses.cs.washington.edu/courses/cse550/21au/papers/CSE550.Eyeriss.pdf) for the purpose of recognizing hardwritten numbers. This project will demonstrate the principles behind how a systolic array operates for doing 2D convolution operators, demonstrate the performance of our implementation, and show how the final design can fit within *a few* tiny tapeout blocks."
      ],
      "metadata": {
        "id": "4RZvXIjpdd7d"
      }
    },
    {
      "cell_type": "markdown",
      "source": [
        "### What is a Systolic Array\n",
        "---"
      ],
      "metadata": {
        "id": "c_0UEEX4fn75"
      }
    },
    {
      "cell_type": "markdown",
      "source": [
        "#### How does the row stationary dataflow work\n",
        "---"
      ],
      "metadata": {
        "id": "XwpY9TT-fs0C"
      }
    },
    {
      "cell_type": "markdown",
      "source": [
        "#### What can this hardware be used for\n",
        "---"
      ],
      "metadata": {
        "id": "nE8mvJTtf8Vj"
      }
    },
    {
      "cell_type": "markdown",
      "source": [
        "### Simulation\n",
        "---"
      ],
      "metadata": {
        "id": "PXz0NAIzgDob"
      }
    },
    {
      "cell_type": "code",
      "source": [
        "#@title Install Dependencies {display-mode: \"form\"}\n",
        "#@markdown Click the ▷ button to setup the simulation environment.\n",
        "\n",
        "#@markdown Main components we will install\n",
        "\n",
        "#@markdown *   verilator : a free and open-source software tool which converts Verilog (a hardware description language) to a cycle-accurate behavioral model in C++ or SystemC.\n",
        "\n",
        "!apt-get install verilator"
      ],
      "metadata": {
        "id": "_nx0Xss6Nu3u",
        "outputId": "af1cd257-1040-4d8a-d2b3-3cbf4e3f91c5",
        "colab": {
          "base_uri": "https://localhost:8080/"
        }
      },
      "execution_count": 1,
      "outputs": [
        {
          "output_type": "stream",
          "name": "stdout",
          "text": [
            "Reading package lists... Done\n",
            "Building dependency tree... Done\n",
            "Reading state information... Done\n",
            "The following additional packages will be installed:\n",
            "  libsystemc libsystemc-dev\n",
            "Suggested packages:\n",
            "  gtkwave\n",
            "The following NEW packages will be installed:\n",
            "  libsystemc libsystemc-dev verilator\n",
            "0 upgraded, 3 newly installed, 0 to remove and 45 not upgraded.\n",
            "Need to get 5,473 kB of archives.\n",
            "After this operation, 25.9 MB of additional disk space will be used.\n",
            "Get:1 http://archive.ubuntu.com/ubuntu jammy/universe amd64 libsystemc amd64 2.3.3-5.1 [500 kB]\n",
            "Get:2 http://archive.ubuntu.com/ubuntu jammy/universe amd64 libsystemc-dev amd64 2.3.3-5.1 [241 kB]\n",
            "Get:3 http://archive.ubuntu.com/ubuntu jammy/universe amd64 verilator amd64 4.038-1 [4,732 kB]\n",
            "Fetched 5,473 kB in 0s (12.7 MB/s)\n",
            "Selecting previously unselected package libsystemc:amd64.\n",
            "(Reading database ... 121752 files and directories currently installed.)\n",
            "Preparing to unpack .../libsystemc_2.3.3-5.1_amd64.deb ...\n",
            "Unpacking libsystemc:amd64 (2.3.3-5.1) ...\n",
            "Selecting previously unselected package libsystemc-dev:amd64.\n",
            "Preparing to unpack .../libsystemc-dev_2.3.3-5.1_amd64.deb ...\n",
            "Unpacking libsystemc-dev:amd64 (2.3.3-5.1) ...\n",
            "Selecting previously unselected package verilator.\n",
            "Preparing to unpack .../verilator_4.038-1_amd64.deb ...\n",
            "Unpacking verilator (4.038-1) ...\n",
            "Setting up verilator (4.038-1) ...\n",
            "Setting up libsystemc:amd64 (2.3.3-5.1) ...\n",
            "Setting up libsystemc-dev:amd64 (2.3.3-5.1) ...\n",
            "Processing triggers for man-db (2.10.2-1) ...\n",
            "Processing triggers for libc-bin (2.35-0ubuntu3.4) ...\n",
            "/sbin/ldconfig.real: /usr/local/lib/libtbbmalloc.so.2 is not a symbolic link\n",
            "\n",
            "/sbin/ldconfig.real: /usr/local/lib/libtbbbind_2_5.so.3 is not a symbolic link\n",
            "\n",
            "/sbin/ldconfig.real: /usr/local/lib/libtbbbind.so.3 is not a symbolic link\n",
            "\n",
            "/sbin/ldconfig.real: /usr/local/lib/libtbbbind_2_0.so.3 is not a symbolic link\n",
            "\n",
            "/sbin/ldconfig.real: /usr/local/lib/libtbbmalloc_proxy.so.2 is not a symbolic link\n",
            "\n",
            "/sbin/ldconfig.real: /usr/local/lib/libtbb.so.12 is not a symbolic link\n",
            "\n"
          ]
        }
      ]
    },
    {
      "cell_type": "code",
      "source": [
        "%%capture\n",
        "\n",
        "#@title Download Systolic Array Verilog Files\n",
        "\n",
        "#@markdown Click the ▷ button to download the rtl files.\n",
        "#@markdown The files will be downloaded to the SytolicArray directory\n",
        "#@markdown the file structure is described below:\n",
        "\n",
        "#@markdown *   SystolicArray/src\n",
        "#@markdown    *\n",
        "#@markdown *   SystolicArray/sim\n",
        "#@markdown    *   `result` : file containing result\n",
        "#@markdown    *   `waveform.vcd` : waveform VCD file dumpped by Verilator.\n",
        "\n",
        "\n",
        "!rm -rf SystolicArray\n",
        "!git clone https://github.com/SiliconJackets/sscs-ose-code-a-chip.github.io.git SystolicArray\n",
        "!mv SystolicArray/VLSI24/submitted_notebooks/SJSystolicArray/src SystolicArray/\n",
        "!rm -rf SystolicArray/ISSCC23/\n",
        "!rm -rf SystolicArray/ISSCC24/\n",
        "!rm -rf SystolicArray/VLSI23/\n",
        "!rm -rf SystolicArray/VLSI24/\n",
        "!rm SystolicArray/*.md\n",
        "!rm SystolicArray/LICENSE"
      ],
      "metadata": {
        "id": "_XFXF33tN0jp"
      },
      "execution_count": 10,
      "outputs": []
    },
    {
      "cell_type": "code",
      "source": [
        "!rm -rf src\n",
        "!rm -rf obj_dir\n",
        "!verilator --trace --cc SystolicArray/src/top.sv SystolicArray/src/topLevelControl.sv SystolicArray/src/PE.sv --exe SystolicArray/src/tb_top.cpp\n",
        "!cd ..\n",
        "!make -C obj_dir -f Vtop.mk Vtop\n",
        "!./obj_dir/Vtop"
      ],
      "metadata": {
        "id": "QXfKFOdVTMJF",
        "outputId": "642a1d95-3623-49a5-ca54-bed10b80fd49",
        "colab": {
          "base_uri": "https://localhost:8080/"
        }
      },
      "execution_count": 25,
      "outputs": [
        {
          "output_type": "stream",
          "name": "stdout",
          "text": [
            "make: Entering directory '/content/obj_dir'\n",
            "g++  -I.  -MMD -I/usr/share/verilator/include -I/usr/share/verilator/include/vltstd -DVM_COVERAGE=0 -DVM_SC=0 -DVM_TRACE=1 -faligned-new -fcf-protection=none -Wno-bool-operation -Wno-sign-compare -Wno-uninitialized -Wno-unused-but-set-variable -Wno-unused-parameter -Wno-unused-variable -Wno-shadow      -Os -c -o tb_top.o ../SystolicArray/src/tb_top.cpp\n",
            "g++  -I.  -MMD -I/usr/share/verilator/include -I/usr/share/verilator/include/vltstd -DVM_COVERAGE=0 -DVM_SC=0 -DVM_TRACE=1 -faligned-new -fcf-protection=none -Wno-bool-operation -Wno-sign-compare -Wno-uninitialized -Wno-unused-but-set-variable -Wno-unused-parameter -Wno-unused-variable -Wno-shadow      -Os -c -o verilated.o /usr/share/verilator/include/verilated.cpp\n",
            "g++  -I.  -MMD -I/usr/share/verilator/include -I/usr/share/verilator/include/vltstd -DVM_COVERAGE=0 -DVM_SC=0 -DVM_TRACE=1 -faligned-new -fcf-protection=none -Wno-bool-operation -Wno-sign-compare -Wno-uninitialized -Wno-unused-but-set-variable -Wno-unused-parameter -Wno-unused-variable -Wno-shadow      -Os -c -o verilated_vcd_c.o /usr/share/verilator/include/verilated_vcd_c.cpp\n",
            "/usr/bin/perl /usr/share/verilator/bin/verilator_includer -DVL_INCLUDE_OPT=include Vtop.cpp Vtop__Trace.cpp Vtop__Slow.cpp Vtop__Syms.cpp Vtop__Trace__Slow.cpp > Vtop__ALL.cpp\n",
            "g++  -I.  -MMD -I/usr/share/verilator/include -I/usr/share/verilator/include/vltstd -DVM_COVERAGE=0 -DVM_SC=0 -DVM_TRACE=1 -faligned-new -fcf-protection=none -Wno-bool-operation -Wno-sign-compare -Wno-uninitialized -Wno-unused-but-set-variable -Wno-unused-parameter -Wno-unused-variable -Wno-shadow      -Os -c -o Vtop__ALL.o Vtop__ALL.cpp\n",
            "ar -cr Vtop__ALL.a Vtop__ALL.o\n",
            "ranlib Vtop__ALL.a\n",
            "g++    tb_top.o verilated.o verilated_vcd_c.o Vtop__ALL.a      -o Vtop\n",
            "make: Leaving directory '/content/obj_dir'\n",
            "Correct result at time: 4\n",
            "Correct result at time: 6\n",
            "Correct result at time: 8\n",
            "Correct result at time: 10\n",
            "Correct result at time: 12\n",
            "Correct result at time: 14\n",
            "Correct result at time: 16\n",
            "Correct result at time: 18\n",
            "Correct result at time: 20\n",
            "Correct result at time: 22\n",
            "Correct result at time: 24\n",
            "Correct result at time: 26\n",
            "Correct result at time: 28\n",
            "Correct result at time: 30\n",
            "Correct result at time: 32\n",
            "Correct result at time: 34\n",
            "Correct result at time: 36\n",
            "Correct result at time: 38\n",
            "Correct result at time: 40\n",
            "Correct result at time: 42\n",
            "Correct result at time: 44\n",
            "Correct result at time: 46\n",
            "Correct result at time: 48\n",
            "Correct result at time: 50\n"
          ]
        }
      ]
    },
    {
      "cell_type": "code",
      "source": [
        "#@title Install Dependencies {display-mode: \"form\"}\n",
        "#@markdown Click the ▷ button to setup the digital design environment based on [conda-eda](https://github.com/hdl/conda-eda).\n",
        "\n",
        "#@markdown Main components we will install\n",
        "\n",
        "#@markdown *   Open_pdks.sky130a : a PDK installer for open-source EDA tools.\n",
        "#@markdown *   Openlane : an automated RTL to GDSII flow based on several components including OpenROAD, Yosys, Magic, Netgen, CVC, SPEF-Extractor, KLayout and a number of custom scripts for design exploration and optimization.\n",
        "#@markdown *   GDSTK : a C++ library for creation and manipulation of GDSII and OASIS files.\n",
        "\n",
        "import os\n",
        "import pathlib\n",
        "import sys\n",
        "\n",
        "!curl -Ls https://micro.mamba.pm/api/micromamba/linux-64/latest | tar -xvj bin/micromamba\n",
        "conda_prefix_path = pathlib.Path('conda-env')\n",
        "site_package_path = conda_prefix_path / 'lib/python3.7/site-packages'\n",
        "sys.path.append(str(site_package_path.resolve()))\n",
        "\n",
        "CONDA_PREFIX = str(conda_prefix_path.resolve())\n",
        "PATH = os.environ['PATH']\n",
        "LD_LIBRARY_PATH = os.environ.get('LD_LIBRARY_PATH', '')\n",
        "\n",
        "%env CONDA_PREFIX={CONDA_PREFIX}\n",
        "%env PATH={CONDA_PREFIX}/bin:{PATH}\n",
        "%env LD_LIBRARY_PATH={CONDA_PREFIX}/lib:{LD_LIBRARY_PATH}\n",
        "\n",
        "!bin/micromamba create --yes --prefix $CONDA_PREFIX\n",
        "!echo 'python ==3.7*' >> {CONDA_PREFIX}/conda-meta/pinned\n",
        "\n",
        "!bin/micromamba install --quiet \\\n",
        "                        --yes \\\n",
        "                        --prefix $CONDA_PREFIX \\\n",
        "                        --channel litex-hub \\\n",
        "                        --channel main \\\n",
        "                        open_pdks.sky130a \\\n",
        "                        openlane\n",
        "\n",
        "!bin/micromamba install --quiet \\\n",
        "                        --yes \\\n",
        "                        --prefix $CONDA_PREFIX \\\n",
        "                        --channel conda-forge \\\n",
        "                        gdstk"
      ],
      "metadata": {
        "id": "Y6snMoxpslsr"
      },
      "execution_count": null,
      "outputs": []
    },
    {
      "cell_type": "code",
      "source": [
        "%%writefile config.json\n",
        "{\n",
        "    \"DESIGN_NAME\": \"top\",\n",
        "    \"VERILOG_FILES\": \"dir::SystolicArray/src/*.sv\",\n",
        "    \"CLOCK_PERIOD\": 40,\n",
        "    \"CLOCK_NET\": \"clk\",\n",
        "    \"CLOCK_PORT\": \"clk\",\n",
        "\n",
        "    \"FP_SIZING\": \"absolute\",\n",
        "    \"DIE_AREA\": \"0 0 480 200\",\n",
        "    \"PL_TARGET_DENSITY\": 0.8\n",
        "}"
      ],
      "metadata": {
        "id": "2JPlqKcqZjg8",
        "outputId": "eb0c8a35-6c4c-4c74-a647-92d5f8fb5345",
        "colab": {
          "base_uri": "https://localhost:8080/"
        }
      },
      "execution_count": 14,
      "outputs": [
        {
          "output_type": "stream",
          "name": "stdout",
          "text": [
            "Overwriting config.json\n"
          ]
        }
      ]
    },
    {
      "cell_type": "code",
      "source": [
        "%env PDK=sky130A\n",
        "!flow.tcl -design ."
      ],
      "metadata": {
        "id": "pgpxBIVAaSIo"
      },
      "execution_count": null,
      "outputs": []
    },
    {
      "cell_type": "code",
      "source": [
        "import pathlib\n",
        "import gdstk\n",
        "\n",
        "gdss = sorted(pathlib.Path('runs').glob('*/results/final/gds/*.gds'))\n",
        "library = gdstk.read_gds(gdss[-1])\n",
        "top_cells = library.top_level()\n",
        "top_cells[0].write_svg('systolicarray.svg')"
      ],
      "metadata": {
        "id": "gnz4w7-ofBv4"
      },
      "execution_count": null,
      "outputs": []
    }
  ]
}