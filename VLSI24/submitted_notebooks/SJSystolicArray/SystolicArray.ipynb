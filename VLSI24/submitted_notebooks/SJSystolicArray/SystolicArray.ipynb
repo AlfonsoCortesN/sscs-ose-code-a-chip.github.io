{
  "cells": [
    {
      "cell_type": "markdown",
      "metadata": {
        "colab_type": "text",
        "id": "view-in-github"
      },
      "source": [
        "<a href=\"https://colab.research.google.com/github/SiliconJackets/sscs-ose-code-a-chip.github.io/blob/main/VLSI24/submitted_notebooks/SJSystolicArray/SystolicArray.ipynb\" target=\"_parent\"><img src=\"https://colab.research.google.com/assets/colab-badge.svg\" alt=\"Open In Colab\"/></a>"
      ]
    },
    {
      "cell_type": "markdown",
      "metadata": {
        "id": "VV2vOq0Oq_CF"
      },
      "source": [
        "# Row Stationary Systolic Array With Openlane\n",
        "\n",
        "```\n",
        "Copyright 2023 SiliconJackets @ Georgia Institute of Technology\n",
        "SPDX-License-Identifier: GPL-3.0-or-later\n",
        "```\n",
        "\n",
        "Running a 3x3 systolic array design inspired by [EYERISS](https://courses.cs.washington.edu/courses/cse550/21au/papers/CSE550.Eyeriss.pdf) design thru the [OpenLane](https://github.com/The-OpenROAD-Project/OpenLane/) GDS to RTL flow targeting the [open source SKY130 PDK](https://github.com/google/skywater-pdk/)."
      ]
    },
    {
      "cell_type": "markdown",
      "metadata": {
        "id": "pzPuBWmSrjK_"
      },
      "source": [
        "|Name|Affiliation| Email |IEEE Member|SSCS Member|\n",
        "|:--:|:----------:|:----------:|:----------:|:----------:|\n",
        "|Zachary Ellis|Georgia Institute of Technology|zellis7@gatech.edu|Yes|Yes|\n",
        "|Nealson Li|Georgia Institute of Technology|nealson@gatech.edu|Yes|Yes|\n",
        "|Addison Elliott|Georgia Institute of Technology|addisonelliott@gatech.edu|Yes|Yes|\n",
        "|Zeyan Wu|Georgia Institute of Technology|zwu477@gatech.edu|Yes|Yes|"
      ]
    },
    {
      "cell_type": "markdown",
      "metadata": {
        "id": "wCAFcKzsBMgE"
      },
      "source": [
        "This notebook goes through the process of design specification, simulation, and implementation of Systolic Array with open-source tools and PDKs.\n",
        "The parallel computation and data reuse ability of a systolic array is crutial for the acceleration of neural networks, and this notebook with the reusable design aims to contribute to the hardware open-source community to enable more efficient ML applications.\n",
        "This project will explain the principles behind how a systolic array operates 2D convolution, demonstrate the performance of our implementation with image results, and show the final GDS generated with open-source flow.\n",
        "Additionally, to further demonstrate the feasibility of the open source flow and our design, we are also submitting this systolic array design to the open source silicon initiative, [Tiny Tapeout](https://tinytapeout.com/).\n",
        "\n",
        "\n",
        "\n",
        "<!-- In this notebook we will be going through the process of design specification, simulation, and implementation for a resource constrained design intended to submitted to another open source silicon initiative [Tiny Tapeout](https://tinytapeout.com/). Tiny tapeout allows individuals to purchase tiny 160um x 100um blocks on a silicon die for an acceptable price in order to gain exposure to the semiconductor deisng process. Our plan is to create a hardware accelerator for Convolutional Neural Networks \\(CNNs\\), losely based on the design from [EYERISS](https://courses.cs.washington.edu/courses/cse550/21au/papers/CSE550.Eyeriss.pdf) for the purpose of recognizing hardwritten numbers. This project will demonstrate the principles behind how a systolic array operates for doing 2D convolution operators, demonstrate the performance of our implementation, and show how the final design can fit within *a few* tiny tapeout blocks. -->\n",
        "\n",
        "\n",
        "<!-- From the github page\n",
        "\n",
        "1. Promote reproducible chip design using open-source tools and notebook-driven design flows and\n",
        "2. Enable up-and-coming talents as well as seasoned open-source enthusiasts to travel to IEEE SSCS conferences and interact with the leading-edge chip design community.\n",
        "\n",
        "Applicants must submit an open-source Jupyter notebook detailing an innovative circuit design using open-source tools. The objective is to disseminate the main ideas and design choices using open-source tools and PDKs in a reproducible manner. Generating a final layout of your circuit is encouraged but not required. -->\n"
      ]
    },
    {
      "cell_type": "markdown",
      "metadata": {
        "id": "4RZvXIjpdd7d"
      },
      "source": [
        "## Introduction\n",
        "---\n"
      ]
    },
    {
      "cell_type": "markdown",
      "metadata": {},
      "source": [
        "In this noteboook, we will first explain what a systolic array is and its application by referencing the row stationary data flow introduced in [EYERISS](https://courses.cs.washington.edu/courses/cse550/21au/papers/CSE550.Eyeriss.pdf), which our design is losely based on. Then, the hardware specification and design of the high level architecture and processing unit are explained. We will then demonstrate the performance by simulating the hardware design to perform convolution for an edge detection task, and varify it with the software golden referrence. Lastly, the systolic array is poshed through [OpenLane](https://github.com/The-OpenROAD-Project/OpenLane/) RTL to GDS flow with the open-source [SKY130 PDK](https://github.com/google/skywater-pdk/)."
      ]
    },
    {
      "cell_type": "markdown",
      "metadata": {
        "id": "w-Nig77dBMgF"
      },
      "source": [
        "## Systolic Array\n",
        "---"
      ]
    },
    {
      "cell_type": "markdown",
      "metadata": {
        "id": "c_0UEEX4fn75"
      },
      "source": [
        "### What is a Systolic Array\n",
        "\n",
        "1. Genrel intro to systolic array and different scemes (output stationary...)\n",
        "2. The focus of this work is row stationary"
      ]
    },
    {
      "cell_type": "markdown",
      "metadata": {
        "id": "XwpY9TT-fs0C"
      },
      "source": [
        "#### Row Stationary Dataflow"
      ]
    },
    {
      "cell_type": "markdown",
      "metadata": {
        "id": "pgWw7tPeBMgF"
      },
      "source": [
        "In a row stationary dataflow, the individual processing elements in a systolic array each have small amounts of scratchpad memory whish is devoted to keep row value data in place while it is operated on. In this mode, each processing element computes a single output from a 1D convolution operation computed locally and then those partial sums are added down the colums for the final outputs. During the intial loading of the filter weights and row data, the full scratchpads need to be populated before any computation can occur, but as the convolution operation moves across the rows, only one new byte of data needs to be read per PE making this form of 2D convolution operation very memory efficient.\n",
        "\n",
        "<div>\n",
        "<img src=\"img/systolic_array_flow.gif\" width=\"1000\"/>\n",
        "</div>\n",
        "\n",
        "<!-- ![Flow](https://github.com/SiliconJackets/sscs-ose-code-a-chip.github.io/blob/main/VLSI24/submitted_notebooks/SJSystolicArray/img/systolic_array_flow.gif?raw=true){: width=250} -->"
      ]
    },
    {
      "cell_type": "markdown",
      "metadata": {
        "id": "rk799ZBaBMgF"
      },
      "source": [
        "#### Applications"
      ]
    },
    {
      "cell_type": "markdown",
      "metadata": {
        "id": "XJCgjjfJBMgH"
      },
      "source": [
        "Explain convolution can be accalerated through paralell computing and data reuse"
      ]
    },
    {
      "cell_type": "markdown",
      "metadata": {
        "id": "nE8mvJTtf8Vj"
      },
      "source": [
        "### How is the hardware designed?\n",
        "\n",
        "Intro the top design (1 controll, 9 PE) and ports"
      ]
    },
    {
      "cell_type": "markdown",
      "metadata": {
        "id": "IiS5mhFrBMgH"
      },
      "source": [
        "#### Top Level Design"
      ]
    },
    {
      "cell_type": "markdown",
      "metadata": {
        "id": "xjEMHpZ2BMgH"
      },
      "source": [
        "Detailed top level design"
      ]
    },
    {
      "cell_type": "markdown",
      "metadata": {
        "id": "Wxlw9LhCBMgH"
      },
      "source": [
        "#### PE Design"
      ]
    },
    {
      "cell_type": "markdown",
      "metadata": {
        "id": "fMnogy0ZBMgH"
      },
      "source": [
        "Detailed PE design\n",
        "\n",
        "<div>\n",
        "<img src=\"img/PE.png\" width=\"1000\"/>\n",
        "</div>\n",
        "\n",
        "<!-- ![Flow](https://github.com/SiliconJackets/sscs-ose-code-a-chip.github.io/blob/main/VLSI24/submitted_notebooks/SJSystolicArray/img/PE.png?raw=true){width=250} -->"
      ]
    },
    {
      "cell_type": "markdown",
      "metadata": {
        "id": "PXz0NAIzgDob"
      },
      "source": [
        "## Simulation\n",
        "---"
      ]
    },
    {
      "cell_type": "markdown",
      "metadata": {
        "id": "qxSqLtXoBMgH"
      },
      "source": [
        "### Edge Detection with 2D Convolution accelarated by Systolic Array \n",
        "<!-- Explain convolving the input image with sobel filter emhances the edge of the objects, and the convolution can be accelerated by the Systolic array. -->\n",
        "\n",
        "To demonstrate the our systolic array's abbility to accelerate convolution operation, we are performing Canny edge detection witch requires convolving an image. The edges of an image is enhanced after it is convolved with Sobel filters in x and y direction seperately. The filters are 3x3 kernels show as below:\n",
        "\n",
        "$$\\text{Sobel Filter x} = \n",
        "\\begin{bmatrix} \n",
        "-0.5 & 0 & 0.5 \\\\\n",
        "-1.0 & 0 & 1.0 \\\\\n",
        "-0.5 & 0 & 0.5\n",
        "\\end{bmatrix}$$\n",
        "\n",
        "$$\\text{Sobel Filter y} = \n",
        "\\begin{bmatrix} \n",
        "-0.5 & -1.0 & -0.5 \\\\\n",
        "0 & 0 & 0 \\\\\n",
        "0.5 & 1.0 & 0.5\n",
        "\\end{bmatrix}$$\n",
        "\n",
        "The results are the first derivative in the x and y directions, $grad_x$ and $grad_y$, we can then iterate through all the pixels and calculate the intensity gradient of the image, which represents the edges, with:\n",
        "\n",
        "$$\\text{Grad Intensity} = \\sqrt{grad_x ^ 2 + grad_y ^ 2}$$\n",
        "\n",
        "We have a python implementation of the Canny edge detection algorithm as our golden referrence to verify or systolic array design. Dedicated data sequence generator is developed with the hardware architecture data flow to process the image and kernels and generate input sequence to the systolic array. The example image that undergoes the convolusion operation in both the hardware simulation and the software is:\n",
        "\n",
        "<div>\n",
        "<img src=\"src/python/rubiks_cube.jpg\"/>\n",
        "</div>\n",
        "\n",
        "The demonstration has following steps:\n",
        "1. Install the software dependencies\n",
        "2. Download the python and verilog files of our design\n",
        "3. Run convolution in both software and hardware:\n",
        "\n",
        "    a. Grayscale and resize the input image to 256 by 256\n",
        "    \n",
        "    b. In software, performe convolution and generate the golden image\n",
        "    \n",
        "    c. In hardware, performe convolution\n",
        "\n",
        "    d. In software, process the hardware result and generate the output image\n",
        "\n",
        "4. Compare the golden image and the output image\n",
        "\n",
        "We would first demonstrate with the rubik's cube image, after this example you can upload any image to try it out, and see how well the systolic array acceleratre edge detection is performing.\n",
        "\n",
        "\n",
        "<!-- \n",
        "Explain image size, show original image.\n",
        "\n",
        "Explain the following experiment steps -->"
      ]
    },
    {
      "cell_type": "code",
      "execution_count": null,
      "metadata": {
        "colab": {
          "base_uri": "https://localhost:8080/"
        },
        "id": "_nx0Xss6Nu3u",
        "outputId": "29c92e01-538e-429f-8a4b-61b5f6100f3a"
      },
      "outputs": [
        {
          "name": "stdout",
          "output_type": "stream",
          "text": [
            "zsh:1: command not found: apt-get\n",
            "\u001b[33mDEPRECATION: Loading egg at /usr/local/lib/python3.11/site-packages/scalesim-2.0.2-py3.11.egg is deprecated. pip 24.3 will enforce this behaviour change. A possible replacement is to use pip for package installation.. Discussion can be found at https://github.com/pypa/pip/issues/12330\u001b[0m\u001b[33m\n",
            "\u001b[0mRequirement already satisfied: torch in /usr/local/lib/python3.11/site-packages (2.2.2)\n",
            "Requirement already satisfied: filelock in /usr/local/lib/python3.11/site-packages (from torch) (3.13.1)\n",
            "Requirement already satisfied: typing-extensions>=4.8.0 in /usr/local/lib/python3.11/site-packages (from torch) (4.10.0)\n",
            "Requirement already satisfied: sympy in /usr/local/lib/python3.11/site-packages (from torch) (1.12)\n",
            "Requirement already satisfied: networkx in /usr/local/lib/python3.11/site-packages (from torch) (3.2.1)\n",
            "Requirement already satisfied: jinja2 in /usr/local/lib/python3.11/site-packages (from torch) (3.1.3)\n",
            "Requirement already satisfied: fsspec in /usr/local/lib/python3.11/site-packages (from torch) (2024.3.1)\n",
            "Requirement already satisfied: MarkupSafe>=2.0 in /usr/local/lib/python3.11/site-packages (from jinja2->torch) (2.1.5)\n",
            "Requirement already satisfied: mpmath>=0.19 in /usr/local/lib/python3.11/site-packages (from sympy->torch) (1.3.0)\n",
            "\n",
            "\u001b[1m[\u001b[0m\u001b[34;49mnotice\u001b[0m\u001b[1;39;49m]\u001b[0m\u001b[39;49m A new release of pip is available: \u001b[0m\u001b[31;49m23.3.2\u001b[0m\u001b[39;49m -> \u001b[0m\u001b[32;49m24.0\u001b[0m\n",
            "\u001b[1m[\u001b[0m\u001b[34;49mnotice\u001b[0m\u001b[1;39;49m]\u001b[0m\u001b[39;49m To update, run: \u001b[0m\u001b[32;49mpython3.11 -m pip install --upgrade pip\u001b[0m\n",
            "\u001b[33mDEPRECATION: Loading egg at /usr/local/lib/python3.11/site-packages/scalesim-2.0.2-py3.11.egg is deprecated. pip 24.3 will enforce this behaviour change. A possible replacement is to use pip for package installation.. Discussion can be found at https://github.com/pypa/pip/issues/12330\u001b[0m\u001b[33m\n",
            "\u001b[0mRequirement already satisfied: torchvision in /usr/local/lib/python3.11/site-packages (0.17.2)\n",
            "Requirement already satisfied: numpy in /usr/local/lib/python3.11/site-packages (from torchvision) (1.26.4)\n",
            "Requirement already satisfied: torch==2.2.2 in /usr/local/lib/python3.11/site-packages (from torchvision) (2.2.2)\n",
            "Requirement already satisfied: pillow!=8.3.*,>=5.3.0 in /usr/local/lib/python3.11/site-packages (from torchvision) (9.3.0)\n",
            "Requirement already satisfied: filelock in /usr/local/lib/python3.11/site-packages (from torch==2.2.2->torchvision) (3.13.1)\n",
            "Requirement already satisfied: typing-extensions>=4.8.0 in /usr/local/lib/python3.11/site-packages (from torch==2.2.2->torchvision) (4.10.0)\n",
            "Requirement already satisfied: sympy in /usr/local/lib/python3.11/site-packages (from torch==2.2.2->torchvision) (1.12)\n",
            "Requirement already satisfied: networkx in /usr/local/lib/python3.11/site-packages (from torch==2.2.2->torchvision) (3.2.1)\n",
            "Requirement already satisfied: jinja2 in /usr/local/lib/python3.11/site-packages (from torch==2.2.2->torchvision) (3.1.3)\n",
            "Requirement already satisfied: fsspec in /usr/local/lib/python3.11/site-packages (from torch==2.2.2->torchvision) (2024.3.1)\n",
            "Requirement already satisfied: MarkupSafe>=2.0 in /usr/local/lib/python3.11/site-packages (from jinja2->torch==2.2.2->torchvision) (2.1.5)\n",
            "Requirement already satisfied: mpmath>=0.19 in /usr/local/lib/python3.11/site-packages (from sympy->torch==2.2.2->torchvision) (1.3.0)\n",
            "\n",
            "\u001b[1m[\u001b[0m\u001b[34;49mnotice\u001b[0m\u001b[1;39;49m]\u001b[0m\u001b[39;49m A new release of pip is available: \u001b[0m\u001b[31;49m23.3.2\u001b[0m\u001b[39;49m -> \u001b[0m\u001b[32;49m24.0\u001b[0m\n",
            "\u001b[1m[\u001b[0m\u001b[34;49mnotice\u001b[0m\u001b[1;39;49m]\u001b[0m\u001b[39;49m To update, run: \u001b[0m\u001b[32;49mpython3.11 -m pip install --upgrade pip\u001b[0m\n",
            "\u001b[33mDEPRECATION: Loading egg at /usr/local/lib/python3.11/site-packages/scalesim-2.0.2-py3.11.egg is deprecated. pip 24.3 will enforce this behaviour change. A possible replacement is to use pip for package installation.. Discussion can be found at https://github.com/pypa/pip/issues/12330\u001b[0m\u001b[33m\n",
            "\u001b[0mRequirement already satisfied: opencv-python in /usr/local/lib/python3.11/site-packages (4.9.0.80)\n",
            "Requirement already satisfied: numpy>=1.21.2 in /usr/local/lib/python3.11/site-packages (from opencv-python) (1.26.4)\n",
            "\n",
            "\u001b[1m[\u001b[0m\u001b[34;49mnotice\u001b[0m\u001b[1;39;49m]\u001b[0m\u001b[39;49m A new release of pip is available: \u001b[0m\u001b[31;49m23.3.2\u001b[0m\u001b[39;49m -> \u001b[0m\u001b[32;49m24.0\u001b[0m\n",
            "\u001b[1m[\u001b[0m\u001b[34;49mnotice\u001b[0m\u001b[1;39;49m]\u001b[0m\u001b[39;49m To update, run: \u001b[0m\u001b[32;49mpython3.11 -m pip install --upgrade pip\u001b[0m\n",
            "\u001b[33mDEPRECATION: Loading egg at /usr/local/lib/python3.11/site-packages/scalesim-2.0.2-py3.11.egg is deprecated. pip 24.3 will enforce this behaviour change. A possible replacement is to use pip for package installation.. Discussion can be found at https://github.com/pypa/pip/issues/12330\u001b[0m\u001b[33m\n",
            "\u001b[0mCollecting fxpmath\n",
            "  Downloading fxpmath-0.4.9.tar.gz (51 kB)\n",
            "\u001b[2K     \u001b[90m━━━━━━━━━━━━━━━━━━━━━━━━━━━━━━━━━━━━━━━━\u001b[0m \u001b[32m51.4/51.4 kB\u001b[0m \u001b[31m3.2 MB/s\u001b[0m eta \u001b[36m0:00:00\u001b[0m\n",
            "\u001b[?25h  Preparing metadata (setup.py) ... \u001b[?25ldone\n",
            "\u001b[?25hRequirement already satisfied: numpy in /usr/local/lib/python3.11/site-packages (from fxpmath) (1.26.4)\n",
            "Building wheels for collected packages: fxpmath\n",
            "  Building wheel for fxpmath (setup.py) ... \u001b[?25ldone\n",
            "\u001b[?25h  Created wheel for fxpmath: filename=fxpmath-0.4.9-py3-none-any.whl size=35221 sha256=7c6385a94191e0dde1825829c117ef7c035e57b992730a4ac859e17c311e648e\n",
            "  Stored in directory: /Users/addisonelliott/Library/Caches/pip/wheels/4a/75/f7/65a895cb07af2c0c9590a063373ade5b7215f26198c3704574\n",
            "Successfully built fxpmath\n",
            "Installing collected packages: fxpmath\n",
            "Successfully installed fxpmath-0.4.9\n",
            "\n",
            "\u001b[1m[\u001b[0m\u001b[34;49mnotice\u001b[0m\u001b[1;39;49m]\u001b[0m\u001b[39;49m A new release of pip is available: \u001b[0m\u001b[31;49m23.3.2\u001b[0m\u001b[39;49m -> \u001b[0m\u001b[32;49m24.0\u001b[0m\n",
            "\u001b[1m[\u001b[0m\u001b[34;49mnotice\u001b[0m\u001b[1;39;49m]\u001b[0m\u001b[39;49m To update, run: \u001b[0m\u001b[32;49mpython3.11 -m pip install --upgrade pip\u001b[0m\n",
            "\u001b[33mDEPRECATION: Loading egg at /usr/local/lib/python3.11/site-packages/scalesim-2.0.2-py3.11.egg is deprecated. pip 24.3 will enforce this behaviour change. A possible replacement is to use pip for package installation.. Discussion can be found at https://github.com/pypa/pip/issues/12330\u001b[0m\u001b[33m\n",
            "\u001b[0mRequirement already satisfied: numpy in /usr/local/lib/python3.11/site-packages (1.26.4)\n",
            "\n",
            "\u001b[1m[\u001b[0m\u001b[34;49mnotice\u001b[0m\u001b[1;39;49m]\u001b[0m\u001b[39;49m A new release of pip is available: \u001b[0m\u001b[31;49m23.3.2\u001b[0m\u001b[39;49m -> \u001b[0m\u001b[32;49m24.0\u001b[0m\n",
            "\u001b[1m[\u001b[0m\u001b[34;49mnotice\u001b[0m\u001b[1;39;49m]\u001b[0m\u001b[39;49m To update, run: \u001b[0m\u001b[32;49mpython3.11 -m pip install --upgrade pip\u001b[0m\n"
          ]
        }
      ],
      "source": [
        "#@title Install Dependencies {display-mode: \"form\"}\n",
        "#@markdown Click the ▷ button to setup the simulation environment.\n",
        "\n",
        "#@markdown Main components we will install\n",
        "\n",
        "#@markdown *   verilator : a free and open-source software tool which converts Verilog (a hardware description language) to a cycle-accurate behavioral model in C++ or SystemC.\n",
        "#@markdown *   pytorch :\n",
        "#@markdown *   opencv :\n",
        "#@markdown *   fxpmath : This module helps emulate the floating point math behavior of our systolic array\n",
        "\n",
        "\n",
        "!apt-get install verilator\n",
        "!pip install torch\n",
        "!pip install torchvision\n",
        "!pip install opencv-python\n",
        "!pip install fxpmath\n",
        "!pip install numpy"
      ]
    },
    {
      "cell_type": "code",
      "execution_count": 1,
      "metadata": {
        "id": "ekdNyNjnBMgI"
      },
      "outputs": [],
      "source": [
        "%%capture\n",
        "\n",
        "#@title Download Systolic Array Files\n",
        "\n",
        "#@markdown Click the ▷ button to download the rtl files.\n",
        "#@markdown The files will be downloaded to the SytolicArray directory\n",
        "#@markdown the file structure is described below:\n",
        "\n",
        "#@markdown *   SystolicArray/src\n",
        "#@markdown    *  python/\n",
        "#@markdown       *   `canny.py` : python implementation of the Canny Edge Detection algorithm\n",
        "#@markdown       *   `full_flow.py` : performes the edge detection on a given image with either software or hardware\n",
        "#@markdown       *   `rubiks_cube.jpg` : the default example image\n",
        "#@markdown       *   `seq_generator.py` : generates the Systolic Array input sequence from the image and kernel\n",
        "#@markdown    *   `PE.sv` :\n",
        "#@markdown    *   `tb_top.cpp` :\n",
        "#@markdown    *   `top.sv` :\n",
        "#@markdown    *   `topLevelControl.sv` :\n",
        "\n",
        "%cd /content/\n",
        "!rm -rf SystolicArray\n",
        "!git clone https://github.com/SiliconJackets/sscs-ose-code-a-chip.github.io.git SystolicArray\n",
        "!mv SystolicArray/VLSI24/submitted_notebooks/SJSystolicArray/src SystolicArray/\n",
        "!mv SystolicArray/VLSI24/submitted_notebooks/SJSystolicArray/img SystolicArray/\n",
        "!rm -rf SystolicArray/ISSCC23/\n",
        "!rm -rf SystolicArray/ISSCC24/\n",
        "!rm -rf SystolicArray/VLSI23/\n",
        "!rm -rf SystolicArray/VLSI24/\n",
        "!rm SystolicArray/*.md\n",
        "!rm SystolicArray/LICENSE"
      ]
    },
    {
      "cell_type": "markdown",
      "metadata": {
        "id": "uE5D3C5IxlWy"
      },
      "source": [
        "### Compile Verilator Testbench"
      ]
    },
    {
      "cell_type": "code",
      "execution_count": null,
      "metadata": {
        "colab": {
          "base_uri": "https://localhost:8080/"
        },
        "id": "QXfKFOdVTMJF",
        "outputId": "bc30f66b-72ac-459f-a473-0c5c1d41d523"
      },
      "outputs": [
        {
          "name": "stdout",
          "output_type": "stream",
          "text": [
            "[Errno 2] No such file or directory: '/content/'\n",
            "/Users/addisonelliott/Desktop/Spring 2024 Courses/HML/sscs-ose-code-a-chip.github.io/VLSI24/submitted_notebooks/SJSystolicArray\n",
            "zsh:1: command not found: verilator\n",
            "^C\n"
          ]
        }
      ],
      "source": [
        "%cd /content/\n",
        "!rm -rf obj_dir\n",
        "!verilator --trace --cc SystolicArray/src/top.sv SystolicArray/src/topLevelControl.sv SystolicArray/src/PE.sv --exe SystolicArray/src/tb_top.cpp\n",
        "!make -C obj_dir -f Vtop.mk Vtop"
      ]
    },
    {
      "cell_type": "markdown",
      "metadata": {
        "id": "z0vRPk19x0z2"
      },
      "source": [
        "### Run 2D Convolution in both Software and Hardware"
      ]
    },
    {
      "cell_type": "code",
      "execution_count": null,
      "metadata": {
        "colab": {
          "base_uri": "https://localhost:8080/"
        },
        "id": "c4xh0hf5m552",
        "outputId": "7f39806d-a953-48af-9dba-82a6d3f82801"
      },
      "outputs": [
        {
          "name": "stdout",
          "output_type": "stream",
          "text": [
            "/content/SystolicArray/src/python\n",
            "Parameter containing:\n",
            "tensor([[[[-0.5000,  0.0000,  0.5000],\n",
            "          [-1.0000,  0.0000,  1.0000],\n",
            "          [-0.5000,  0.0000,  0.5000]]]], requires_grad=True)\n",
            "Parameter containing:\n",
            "tensor([[[[-0.5000, -1.0000, -0.5000],\n",
            "          [ 0.0000,  0.0000,  0.0000],\n",
            "          [ 0.5000,  1.0000,  0.5000]]]], requires_grad=True)\n",
            "Systolic Array Result Correct: False\n"
          ]
        }
      ],
      "source": [
        "%cd /content/SystolicArray/src/python/\n",
        "!python3 full_flow.py rubikscube"
      ]
    },
    {
      "cell_type": "code",
      "execution_count": null,
      "metadata": {
        "cellView": "form",
        "id": "4X678sSQxyc2"
      },
      "outputs": [],
      "source": [
        "#@title Compare Results\n",
        "\n",
        "#@markdown Because the hardware is limited to 8 bit integer math, the output is not as bright as the software version, but it is still able to achieve a similar looking result\n",
        "\n",
        "\n",
        "# code for displaying multiple images in one figure\n",
        "\n",
        "#import libraries\n",
        "import cv2\n",
        "from matplotlib import pyplot as plt\n",
        "\n",
        "# create figure\n",
        "fig = plt.figure(figsize=(10, 7))\n",
        "\n",
        "# setting values to rows and column variables\n",
        "rows = 1\n",
        "columns = 3\n",
        "\n",
        "# reading images\n",
        "Image1 = cv2.imread('/content/SystolicArray/src/python/rubiks_cube.jpg')\n",
        "Image2 = cv2.imread('/content/SystolicArray/src/python/edge_rubiks_cube.jpg')\n",
        "Image3 = cv2.imread('/content/SystolicArray/src/python/edge_rubiks_cube_sa.jpg')\n",
        "\n",
        "#Adds a subplot at the 1st position\n",
        "fig.add_subplot(rows, columns, 1)\n",
        "\n",
        "# showing image\n",
        "plt.imshow(Image1)\n",
        "plt.axis('off')\n",
        "plt.title(\"Original\")\n",
        "\n",
        "# Adds a subplot at the 2nd position\n",
        "fig.add_subplot(rows, columns, 2)\n",
        "\n",
        "# showing image\n",
        "plt.imshow(Image2)\n",
        "plt.axis('off')\n",
        "plt.title(\"Software Edge Detection\")\n",
        "\n",
        "# Adds a subplot at the 3rd position\n",
        "fig.add_subplot(rows, columns, 3)\n",
        "\n",
        "# showing image\n",
        "plt.imshow(Image3)\n",
        "plt.axis('off')\n",
        "plt.title(\"Systolic Array Edge Detection\")\n"
      ]
    },
    {
      "cell_type": "markdown",
      "metadata": {
        "id": "t4auaKP0BMgJ"
      },
      "source": [
        "### Try it yourself"
      ]
    },
    {
      "cell_type": "code",
      "execution_count": null,
      "metadata": {
        "id": "lwsAIO0WBMgJ"
      },
      "outputs": [],
      "source": [
        "#@markdown Click the ▷ button to upload your own image for edge detection\n",
        "\n",
        "from google.colab import files\n",
        "import ipywidgets as widgets\n",
        "from IPython.display import display, clear_output\n",
        "\n",
        "UPLOADED = False\n",
        "\n",
        "def upload_image(_):\n",
        "    clear_output()\n",
        "    upload_widget = widgets.FileUpload(accept='.jpg', multiple=False)\n",
        "    display(upload_widget)\n",
        "    upload_widget.observe(save_image, names='value')\n",
        "\n",
        "def save_image(change):\n",
        "    global UPLOADED\n",
        "    if change.new:\n",
        "        uploaded_filename = next(iter(change.new))\n",
        "        content = change.new[uploaded_filename]['content']\n",
        "        with open('/content/SystolicArray/src/python/uploadedimage.jpg', 'wb') as f:\n",
        "            f.write(content)\n",
        "            UPLOADED = True\n",
        "        print('Image successfully uploaded!')\n",
        "    else:\n",
        "        print('Please select a file.')\n",
        "\n",
        "upload_button = widgets.Button(description=\"Upload Image\")\n",
        "upload_button.on_click(upload_image)\n",
        "display(upload_button)"
      ]
    },
    {
      "cell_type": "code",
      "execution_count": null,
      "metadata": {
        "id": "2XB-luVMBMgJ"
      },
      "outputs": [],
      "source": [
        "#@markdown Click the ▷ button to start the demonstration with your image\n",
        "\n",
        "%cd /content/SystolicArray/src/python/\n",
        "import cv2\n",
        "from matplotlib import pyplot as plt\n",
        "if not UPLOADED:\n",
        "    print(\"First, upload a jpg in the cell above\")\n",
        "else:\n",
        "    !python3 full_flow.py userinput\n",
        "    #@markdown Because the hardware is limited to 8 bit integer math, the output is not as bright as the software version, but it is still able to achieve a similar looking result\n",
        "\n",
        "\n",
        "    # code for displaying multiple images in one figure\n",
        "\n",
        "\n",
        "    # create figure\n",
        "    fig = plt.figure(figsize=(10, 7))\n",
        "\n",
        "    # setting values to rows and column variables\n",
        "    rows = 1\n",
        "    columns = 3\n",
        "\n",
        "    # reading images\n",
        "    Image1 = cv2.imread('/content/SystolicArray/src/python/uploadedimage.jpg')\n",
        "    Image2 = cv2.imread('/content/SystolicArray/src/python/edge_uploadedimage.jpg')\n",
        "    Image3 = cv2.imread('/content/SystolicArray/src/python/edge_uploadedimage_sa.jpg')\n",
        "\n",
        "    #Adds a subplot at the 1st position\n",
        "    fig.add_subplot(rows, columns, 1)\n",
        "\n",
        "    # showing image\n",
        "    plt.imshow(Image1)\n",
        "    plt.axis('off')\n",
        "    plt.title(\"Original\")\n",
        "\n",
        "    # Adds a subplot at the 2nd position\n",
        "    fig.add_subplot(rows, columns, 2)\n",
        "\n",
        "    # showing image\n",
        "    plt.imshow(Image2)\n",
        "    plt.axis('off')\n",
        "    plt.title(\"Software Edge Detection\")\n",
        "\n",
        "    # Adds a subplot at the 3rd position\n",
        "    fig.add_subplot(rows, columns, 3)\n",
        "\n",
        "    # showing image\n",
        "    plt.imshow(Image3)\n",
        "    plt.axis('off')\n",
        "    plt.title(\"Systolic Array Edge Detection\")"
      ]
    },
    {
      "cell_type": "markdown",
      "metadata": {
        "id": "FeDMr6K6BMgJ"
      },
      "source": [
        "### RTL2GDS Flow"
      ]
    },
    {
      "cell_type": "code",
      "execution_count": 4,
      "metadata": {
        "colab": {
          "base_uri": "https://localhost:8080/"
        },
        "id": "Y6snMoxpslsr",
        "outputId": "fb385774-24bc-4f2c-f6df-30a200532116"
      },
      "outputs": [
        {
          "name": "stdout",
          "output_type": "stream",
          "text": [
            "Empty environment created at prefix: /content/conda-env\n",
            "\n",
            "Pinned packages:\n",
            "  - python 3.7*\n",
            "\n",
            "\n",
            "Transaction\n",
            "\n",
            "  Prefix: /content/conda-env\n",
            "\n",
            "  Updating specs:\n",
            "\n",
            "   - openlane=2023.11.03_0_gf4f8dad8\n",
            "   - open_pdks.sky130a=1.0.458_0_g8c68aca\n",
            "   - openroad=2.0_10927_g0922eecb9\n",
            "   - verilator=5.018_57_ga022b672a\n",
            "\n",
            "\n",
            "  Package                                                Version  Build                 Channel         Size\n",
            "──────────────────────────────────────────────────────────────────────────────────────────────────────────────\n",
            "  Install:\n",
            "──────────────────────────────────────────────────────────────────────────────────────────────────────────────\n",
            "\n",
            "  \u001b[32m+ open_pdks.sky130a                   \u001b[0m      1.0.458_0_g8c68aca  20231104_052339       litex-hub\u001b[32m     Cached\u001b[0m\n",
            "  \u001b[32m+ _libgcc_mutex                       \u001b[0m                     0.1  main                  main     \u001b[32m     Cached\u001b[0m\n",
            "  \u001b[32m+ libstdcxx-ng                        \u001b[0m                  11.2.0  h1234567_1            main     \u001b[32m     Cached\u001b[0m\n",
            "  \u001b[32m+ ca-certificates                     \u001b[0m               2024.3.11  h06a4308_0            main     \u001b[32m     Cached\u001b[0m\n",
            "  \u001b[32m+ libstdcxx-devel_linux-64            \u001b[0m                  11.2.0  h1234567_1            main     \u001b[32m     Cached\u001b[0m\n",
            "  \u001b[32m+ libgcc-devel_linux-64               \u001b[0m                  11.2.0  h1234567_1            main     \u001b[32m     Cached\u001b[0m\n",
            "  \u001b[32m+ ld_impl_linux-64                    \u001b[0m                    2.38  h1181459_1            main     \u001b[32m     Cached\u001b[0m\n",
            "  \u001b[32m+ libgomp                             \u001b[0m                  11.2.0  h1234567_1            main     \u001b[32m     Cached\u001b[0m\n",
            "  \u001b[32m+ _openmp_mutex                       \u001b[0m                     5.1  1_gnu                 main     \u001b[32m     Cached\u001b[0m\n",
            "  \u001b[32m+ libgcc-ng                           \u001b[0m                  11.2.0  h1234567_1            main     \u001b[32m     Cached\u001b[0m\n",
            "  \u001b[32m+ libuuid                             \u001b[0m                  1.41.5  h5eee18b_0            main     \u001b[32m     Cached\u001b[0m\n",
            "  \u001b[32m+ yaml                                \u001b[0m                   0.1.7  had09818_2            main     \u001b[32m     Cached\u001b[0m\n",
            "  \u001b[32m+ gmp                                 \u001b[0m                   6.2.1  h295c915_3            main     \u001b[32m     Cached\u001b[0m\n",
            "  \u001b[32m+ lz4-c                               \u001b[0m                   1.9.4  h6a678d5_0            main     \u001b[32m     Cached\u001b[0m\n",
            "  \u001b[32m+ bzip2                               \u001b[0m                   1.0.8  h5eee18b_5            main     \u001b[32m     Cached\u001b[0m\n",
            "  \u001b[32m+ libev                               \u001b[0m                    4.33  h7f8727e_1            main     \u001b[32m     Cached\u001b[0m\n",
            "  \u001b[32m+ c-ares                              \u001b[0m                  1.19.1  h5eee18b_0            main     \u001b[32m     Cached\u001b[0m\n",
            "  \u001b[32m+ fmt                                 \u001b[0m                   8.1.1  hd09550d_1            main     \u001b[32m     Cached\u001b[0m\n",
            "  \u001b[32m+ libffi                              \u001b[0m                   3.4.4  h6a678d5_0            main     \u001b[32m     Cached\u001b[0m\n",
            "  \u001b[32m+ xz                                  \u001b[0m                   5.4.6  h5eee18b_0            main     \u001b[32m     Cached\u001b[0m\n",
            "  \u001b[32m+ pixman                              \u001b[0m                  0.40.0  h7f8727e_1            main     \u001b[32m     Cached\u001b[0m\n",
            "  \u001b[32m+ ncurses                             \u001b[0m                     6.4  h6a678d5_0            main     \u001b[32m     Cached\u001b[0m\n",
            "  \u001b[32m+ openssl                             \u001b[0m                  1.1.1w  h7f8727e_0            main     \u001b[32m     Cached\u001b[0m\n",
            "  \u001b[32m+ libxcb                              \u001b[0m                    1.15  h7f8727e_0            main     \u001b[32m     Cached\u001b[0m\n",
            "  \u001b[32m+ jpeg                                \u001b[0m                      9e  h5eee18b_1            main     \u001b[32m     Cached\u001b[0m\n",
            "  \u001b[32m+ icu                                 \u001b[0m                    58.2  he6710b0_3            main     \u001b[32m     Cached\u001b[0m\n",
            "  \u001b[32m+ libiconv                            \u001b[0m                    1.16  h7f8727e_2            main     \u001b[32m     Cached\u001b[0m\n",
            "  \u001b[32m+ expat                               \u001b[0m                   2.5.0  h6a678d5_0            main     \u001b[32m     Cached\u001b[0m\n",
            "  \u001b[32m+ m4                                  \u001b[0m                  1.4.18  h4e445db_0            main     \u001b[32m     Cached\u001b[0m\n",
            "  \u001b[32m+ zlib                                \u001b[0m                  1.2.13  h5eee18b_0            main     \u001b[32m     Cached\u001b[0m\n",
            "  \u001b[32m+ spdlog                              \u001b[0m                   1.9.2  hd09550d_0            main     \u001b[32m     Cached\u001b[0m\n",
            "  \u001b[32m+ libedit                             \u001b[0m            3.1.20230828  h5eee18b_0            main     \u001b[32m     Cached\u001b[0m\n",
            "  \u001b[32m+ readline                            \u001b[0m                     8.2  h5eee18b_0            main     \u001b[32m     Cached\u001b[0m\n",
            "  \u001b[32m+ libssh2                             \u001b[0m                  1.10.0  h37d81fd_2            main     \u001b[32m     Cached\u001b[0m\n",
            "  \u001b[32m+ flex                                \u001b[0m                   2.6.4  ha10e3a4_1            main     \u001b[32m     Cached\u001b[0m\n",
            "  \u001b[32m+ zstd                                \u001b[0m                   1.5.5  hc292b87_0            main     \u001b[32m     Cached\u001b[0m\n",
            "  \u001b[32m+ libnghttp2                          \u001b[0m                  1.52.0  ha637b67_1            main     \u001b[32m     Cached\u001b[0m\n",
            "  \u001b[32m+ libpng                              \u001b[0m                  1.6.39  h5eee18b_0            main     \u001b[32m     Cached\u001b[0m\n",
            "  \u001b[32m+ pcre2                               \u001b[0m                   10.42  hebb0a14_0            main     \u001b[32m     Cached\u001b[0m\n",
            "  \u001b[32m+ tk                                  \u001b[0m                  8.6.12  h1ccaba5_0            main     \u001b[32m     Cached\u001b[0m\n",
            "  \u001b[32m+ krb5                                \u001b[0m                  1.20.1  h568e23c_1            main     \u001b[32m     Cached\u001b[0m\n",
            "  \u001b[32m+ sqlite                              \u001b[0m                  3.41.2  h5eee18b_0            main     \u001b[32m     Cached\u001b[0m\n",
            "  \u001b[32m+ bison                               \u001b[0m                   3.7.5  h2531618_1            main     \u001b[32m     Cached\u001b[0m\n",
            "  \u001b[32m+ libboost                            \u001b[0m                  1.73.0  h28710b8_12           main     \u001b[32m     Cached\u001b[0m\n",
            "  \u001b[32m+ freetype                            \u001b[0m                  2.12.1  h4a9f257_0            main     \u001b[32m     Cached\u001b[0m\n",
            "  \u001b[32m+ libglib                             \u001b[0m                  2.78.4  hdc74915_0            main     \u001b[32m     Cached\u001b[0m\n",
            "  \u001b[32m+ ruby                                \u001b[0m                   2.5.1  haf1161a_0            main     \u001b[32m     Cached\u001b[0m\n",
            "  \u001b[32m+ libcurl                             \u001b[0m                   8.2.1  h91b91d3_0            main     \u001b[32m     Cached\u001b[0m\n",
            "  \u001b[32m+ python                              \u001b[0m                  3.7.16  h7a1cb2a_0            main     \u001b[32m     Cached\u001b[0m\n",
            "  \u001b[32m+ glib-tools                          \u001b[0m                  2.78.4  h6a678d5_0            main     \u001b[32m     Cached\u001b[0m\n",
            "  \u001b[32m+ curl                                \u001b[0m                   8.2.1  h37d81fd_0            main     \u001b[32m     Cached\u001b[0m\n",
            "  \u001b[32m+ certifi                             \u001b[0m               2022.12.7  py37h06a4308_0        main     \u001b[32m     Cached\u001b[0m\n",
            "  \u001b[32m+ wheel                               \u001b[0m                  0.38.4  py37h06a4308_0        main     \u001b[32m     Cached\u001b[0m\n",
            "  \u001b[32m+ libgit2                             \u001b[0m                   1.6.4  ha637b67_0            main     \u001b[32m     Cached\u001b[0m\n",
            "  \u001b[32m+ setuptools                          \u001b[0m                  65.6.3  py37h06a4308_0        main     \u001b[32m     Cached\u001b[0m\n",
            "  \u001b[32m+ pip                                 \u001b[0m                  22.3.1  py37h06a4308_0        main     \u001b[32m     Cached\u001b[0m\n",
            "  \u001b[32m+ pyyaml                              \u001b[0m                   5.3.1  py37h7b6447c_0        main     \u001b[32m     Cached\u001b[0m\n",
            "  \u001b[32m+ zipp                                \u001b[0m                  3.11.0  py37h06a4308_0        main     \u001b[32m     Cached\u001b[0m\n",
            "  \u001b[32m+ glib                                \u001b[0m                  2.78.4  h6a678d5_0            main     \u001b[32m     Cached\u001b[0m\n",
            "  \u001b[32m+ gstreamer                           \u001b[0m                  1.14.1  h5eee18b_1            main     \u001b[32m     Cached\u001b[0m\n",
            "  \u001b[32m+ dbus                                \u001b[0m                 1.13.18  hb2f20db_0            main     \u001b[32m     Cached\u001b[0m\n",
            "  \u001b[32m+ gst-plugins-base                    \u001b[0m                  1.14.1  h6a678d5_1            main     \u001b[32m     Cached\u001b[0m\n",
            "  \u001b[32m+ _sysroot_linux-64_curr_repodata_hack\u001b[0m                       3  haa98f57_10           main     \u001b[32m     Cached\u001b[0m\n",
            "  \u001b[32m+ flit-core                           \u001b[0m                   3.6.0  pyhd3eb1b0_0          main     \u001b[32m     Cached\u001b[0m\n",
            "  \u001b[32m+ kernel-headers_linux-64             \u001b[0m                  3.10.0  h57e8cba_10           main     \u001b[32m     Cached\u001b[0m\n",
            "  \u001b[32m+ sysroot_linux-64                    \u001b[0m                    2.17  h57e8cba_10           main     \u001b[32m     Cached\u001b[0m\n",
            "  \u001b[32m+ libxml2                             \u001b[0m                   2.9.9  20220706_155948       litex-hub\u001b[32m     Cached\u001b[0m\n",
            "  \u001b[32m+ netgen                              \u001b[0m      1.5.272_0_g178af5f  20240223_100318       litex-hub\u001b[32m     Cached\u001b[0m\n",
            "  \u001b[32m+ yosys                               \u001b[0m      0.38_93_g84116c9a3  20240223_100318_py37  litex-hub\u001b[32m     Cached\u001b[0m\n",
            "  \u001b[32m+ tcllib                              \u001b[0m     1_21_150_g102aa4b6e  20240223_100318       litex-hub\u001b[32m     Cached\u001b[0m\n",
            "  \u001b[32m+ typing_extensions                   \u001b[0m                   4.4.0  py37h06a4308_0        main     \u001b[32m     Cached\u001b[0m\n",
            "  \u001b[32m+ binutils_impl_linux-64              \u001b[0m                    2.38  h2a08ee3_1            main     \u001b[32m     Cached\u001b[0m\n",
            "  \u001b[32m+ fontconfig                          \u001b[0m                  2.13.0  h9420a91_0            main     \u001b[32m     Cached\u001b[0m\n",
            "  \u001b[32m+ importlib-metadata                  \u001b[0m                  4.11.3  py37h06a4308_0        main     \u001b[32m     Cached\u001b[0m\n",
            "  \u001b[32m+ gcc_impl_linux-64                   \u001b[0m                  11.2.0  h1234567_1            main     \u001b[32m     Cached\u001b[0m\n",
            "  \u001b[32m+ binutils_linux-64                   \u001b[0m                  2.38.0  hc2dff05_0            main     \u001b[32m     Cached\u001b[0m\n",
            "  \u001b[32m+ cairo                               \u001b[0m                 1.14.12  h8948797_3            main     \u001b[32m     Cached\u001b[0m\n",
            "  \u001b[32m+ qt                                  \u001b[0m                   5.9.7  h5867ecd_1            main     \u001b[32m     Cached\u001b[0m\n",
            "  \u001b[32m+ click                               \u001b[0m                   8.0.4  py37h06a4308_0        main     \u001b[32m     Cached\u001b[0m\n",
            "  \u001b[32m+ gxx_impl_linux-64                   \u001b[0m                  11.2.0  h1234567_1            main     \u001b[32m     Cached\u001b[0m\n",
            "  \u001b[32m+ gcc_linux-64                        \u001b[0m                  11.2.0  h5c386dc_0            main     \u001b[32m     Cached\u001b[0m\n",
            "  \u001b[32m+ gxx_linux-64                        \u001b[0m                  11.2.0  hc2dff05_0            main     \u001b[32m     Cached\u001b[0m\n",
            "  \u001b[32m+ magic                               \u001b[0m      8.3.450_0_g2133660  20231104_052339       litex-hub\u001b[32m     Cached\u001b[0m\n",
            "  \u001b[32m+ klayout                             \u001b[0m  0.28.17_212_gfa14afbbf  20240223_100318_py37  litex-hub\u001b[32m     Cached\u001b[0m\n",
            "  \u001b[32m+ openroad                            \u001b[0m    2.0_10927_g0922eecb9  20231104_052339_py37  litex-hub\u001b[32m     Cached\u001b[0m\n",
            "  \u001b[32m+ verilator                           \u001b[0m     5.018_57_ga022b672a  20231104_052339       litex-hub\u001b[32m     Cached\u001b[0m\n",
            "  \u001b[32m+ openlane                            \u001b[0m  2023.11.03_0_gf4f8dad8  20231104_052339_py37  litex-hub\u001b[32m     Cached\u001b[0m\n",
            "\n",
            "  Summary:\n",
            "\n",
            "  Install: 87 packages\n",
            "\n",
            "  Total download: 0 B\n",
            "\n",
            "──────────────────────────────────────────────────────────────────────────────────────────────────────────────\n",
            "\n",
            "\n",
            "\n",
            "Transaction starting\n",
            "Linking open_pdks.sky130a-1.0.458_0_g8c68aca-20231104_052339\n",
            "Linking _libgcc_mutex-0.1-main\n",
            "Linking libstdcxx-ng-11.2.0-h1234567_1\n",
            "Linking ca-certificates-2024.3.11-h06a4308_0\n",
            "Linking libstdcxx-devel_linux-64-11.2.0-h1234567_1\n",
            "Linking libgcc-devel_linux-64-11.2.0-h1234567_1\n",
            "Linking ld_impl_linux-64-2.38-h1181459_1\n",
            "Linking libgomp-11.2.0-h1234567_1\n",
            "Linking _openmp_mutex-5.1-1_gnu\n",
            "Linking libgcc-ng-11.2.0-h1234567_1\n",
            "Linking libuuid-1.41.5-h5eee18b_0\n",
            "Linking yaml-0.1.7-had09818_2\n",
            "Linking gmp-6.2.1-h295c915_3\n",
            "Linking lz4-c-1.9.4-h6a678d5_0\n",
            "Linking bzip2-1.0.8-h5eee18b_5\n",
            "Linking libev-4.33-h7f8727e_1\n",
            "Linking c-ares-1.19.1-h5eee18b_0\n",
            "Linking fmt-8.1.1-hd09550d_1\n",
            "Linking libffi-3.4.4-h6a678d5_0\n",
            "Linking xz-5.4.6-h5eee18b_0\n",
            "Linking pixman-0.40.0-h7f8727e_1\n",
            "Linking ncurses-6.4-h6a678d5_0\n",
            "Linking openssl-1.1.1w-h7f8727e_0\n",
            "Linking libxcb-1.15-h7f8727e_0\n",
            "Linking jpeg-9e-h5eee18b_1\n",
            "Linking icu-58.2-he6710b0_3\n",
            "Linking libiconv-1.16-h7f8727e_2\n",
            "Linking expat-2.5.0-h6a678d5_0\n",
            "Linking m4-1.4.18-h4e445db_0\n",
            "Linking zlib-1.2.13-h5eee18b_0\n",
            "Linking spdlog-1.9.2-hd09550d_0\n",
            "Linking libedit-3.1.20230828-h5eee18b_0\n",
            "Linking readline-8.2-h5eee18b_0\n",
            "Linking libssh2-1.10.0-h37d81fd_2\n",
            "Linking flex-2.6.4-ha10e3a4_1\n",
            "Linking zstd-1.5.5-hc292b87_0\n",
            "Linking libnghttp2-1.52.0-ha637b67_1\n",
            "Linking libpng-1.6.39-h5eee18b_0\n",
            "Linking pcre2-10.42-hebb0a14_0\n",
            "Linking tk-8.6.12-h1ccaba5_0\n",
            "Linking krb5-1.20.1-h568e23c_1\n",
            "Linking sqlite-3.41.2-h5eee18b_0\n",
            "Linking bison-3.7.5-h2531618_1\n",
            "Linking libboost-1.73.0-h28710b8_12\n",
            "Linking freetype-2.12.1-h4a9f257_0\n",
            "Linking libglib-2.78.4-hdc74915_0\n",
            "Linking ruby-2.5.1-haf1161a_0\n",
            "Linking libcurl-8.2.1-h91b91d3_0\n",
            "Linking python-3.7.16-h7a1cb2a_0\n",
            "Linking glib-tools-2.78.4-h6a678d5_0\n",
            "Linking curl-8.2.1-h37d81fd_0\n",
            "Linking certifi-2022.12.7-py37h06a4308_0\n",
            "Linking wheel-0.38.4-py37h06a4308_0\n",
            "Linking libgit2-1.6.4-ha637b67_0\n",
            "Linking setuptools-65.6.3-py37h06a4308_0\n",
            "Linking pip-22.3.1-py37h06a4308_0\n",
            "Linking pyyaml-5.3.1-py37h7b6447c_0\n",
            "Linking zipp-3.11.0-py37h06a4308_0\n",
            "Linking glib-2.78.4-h6a678d5_0\n",
            "Linking gstreamer-1.14.1-h5eee18b_1\n",
            "Linking dbus-1.13.18-hb2f20db_0\n",
            "Linking gst-plugins-base-1.14.1-h6a678d5_1\n",
            "Linking _sysroot_linux-64_curr_repodata_hack-3-haa98f57_10\n",
            "Linking flit-core-3.6.0-pyhd3eb1b0_0\n",
            "Linking kernel-headers_linux-64-3.10.0-h57e8cba_10\n",
            "Linking sysroot_linux-64-2.17-h57e8cba_10\n",
            "Linking libxml2-2.9.9-20220706_155948\n",
            "Linking netgen-1.5.272_0_g178af5f-20240223_100318\n",
            "Linking yosys-0.38_93_g84116c9a3-20240223_100318_py37\n",
            "Linking tcllib-1_21_150_g102aa4b6e-20240223_100318\n",
            "Linking typing_extensions-4.4.0-py37h06a4308_0\n",
            "Linking binutils_impl_linux-64-2.38-h2a08ee3_1\n",
            "\u001b[33m\u001b[1mwarning  libmamba\u001b[m [binutils_impl_linux-64-2.38-h2a08ee3_1] The following files were already present in the environment:\n",
            "    - lib/liblsan.so\n",
            "    - lib/liblsan.so.0\n",
            "    - lib/liblsan.so.0.0.0\n",
            "    - share/info/libgomp.info\n",
            "    - share/info/libquadmath.info\n",
            "    - share/licenses/gcc-libs/RUNTIME.LIBRARY.EXCEPTION\n",
            "    - share/licenses/gcc-libs/RUNTIME.LIBRARY.EXCEPTION.gomp_copy\n",
            "    - share/licenses/libstdc++/RUNTIME.LIBRARY.EXCEPTION\n",
            "Linking fontconfig-2.13.0-h9420a91_0\n",
            "Linking importlib-metadata-4.11.3-py37h06a4308_0\n",
            "Linking gcc_impl_linux-64-11.2.0-h1234567_1\n",
            "Linking binutils_linux-64-2.38.0-hc2dff05_0\n",
            "Linking cairo-1.14.12-h8948797_3\n",
            "Linking qt-5.9.7-h5867ecd_1\n",
            "Linking click-8.0.4-py37h06a4308_0\n",
            "Linking gxx_impl_linux-64-11.2.0-h1234567_1\n",
            "Linking gcc_linux-64-11.2.0-h5c386dc_0\n",
            "Linking gxx_linux-64-11.2.0-hc2dff05_0\n",
            "Linking magic-8.3.450_0_g2133660-20231104_052339\n",
            "Linking klayout-0.28.17_212_gfa14afbbf-20240223_100318_py37\n",
            "Linking openroad-2.0_10927_g0922eecb9-20231104_052339_py37\n",
            "Linking verilator-5.018_57_ga022b672a-20231104_052339\n",
            "Linking openlane-2023.11.03_0_gf4f8dad8-20231104_052339_py37\n",
            "\n",
            "Transaction finished\n",
            "\n",
            "To activate this environment, use:\n",
            "\n",
            "    micromamba activate /content/conda-env\n",
            "\n",
            "Or to execute a single command in this environment, use:\n",
            "\n",
            "    micromamba run -p /content/conda-env mycommand\n",
            "\n",
            "\u001b[31m\u001b[1merror    libmamba\u001b[m Could not solve for environment specs\n",
            "    The following package could not be installed\n",
            "    └─ \u001b[31mlibparse\u001b[0m does not exist (perhaps a typo or a missing channel).\n",
            "\u001b[1m\u001b[41mcritical libmamba\u001b[m Could not solve for environment specs\n",
            "Collecting libparse\n",
            "  Downloading libparse-0.3.1-cp37-cp37m-manylinux_2_17_x86_64.manylinux2014_x86_64.whl (1.0 MB)\n",
            "\u001b[2K     \u001b[90m━━━━━━━━━━━━━━━━━━━━━━━━━━━━━━━━━━━━━━━━\u001b[0m \u001b[32m1.0/1.0 MB\u001b[0m \u001b[31m28.1 MB/s\u001b[0m eta \u001b[36m0:00:00\u001b[0m\n",
            "\u001b[?25hRequirement already satisfied: wheel in ./conda-env/lib/python3.7/site-packages (from libparse) (0.38.4)\n",
            "Installing collected packages: libparse\n",
            "Successfully installed libparse-0.3.1\n",
            "\u001b[33mWARNING: Running pip as the 'root' user can result in broken permissions and conflicting behaviour with the system package manager. It is recommended to use a virtual environment instead: https://pip.pypa.io/warnings/venv\u001b[0m\u001b[33m\n",
            "\u001b[0menv: CONDA_PREFIX=/content/conda-env\n",
            "env: PATH=/content/conda-env/bin:/content/conda-env/bin:/content/conda-env/bin:/opt/bin:/usr/local/nvidia/bin:/usr/local/cuda/bin:/usr/local/sbin:/usr/local/bin:/usr/sbin:/usr/bin:/sbin:/bin:/tools/node/bin:/tools/google-cloud-sdk/bin\n"
          ]
        }
      ],
      "source": [
        "#@title Install Dependencies {display-mode: \"form\"}\n",
        "#@markdown Click the ▷ button to setup the digital design environment based on [conda-eda](https://github.com/hdl/conda-eda).\n",
        "\n",
        "#@markdown Main components we will install\n",
        "\n",
        "#@markdown *   Open_pdks.sky130a : a PDK installer for open-source EDA tools.\n",
        "#@markdown *   Openlane : an automated RTL to GDSII flow based on several components including OpenROAD, Yosys, Magic, Netgen, CVC, SPEF-Extractor, KLayout and a number of custom scripts for design exploration and optimization.\n",
        "#@markdown *   GDSTK : a C++ library for creation and manipulation of GDSII and OASIS files.\n",
        "\n",
        "openlane_version = 'custom_set' #@param {type:\"string\"}\n",
        "open_pdks_version = 'custom_set' #@param {type:\"string\"}\n",
        "\n",
        "if openlane_version == 'latest':\n",
        "  openlane_version = ''\n",
        "if open_pdks_version == 'latest':\n",
        "  open_pdks_version = ''\n",
        "\n",
        "import os\n",
        "import pathlib\n",
        "\n",
        "!curl -Ls https://micro.mamba.pm/api/micromamba/linux-64/latest | tar -xj bin/micromamba\n",
        "conda_prefix_path = pathlib.Path('conda-env')\n",
        "CONDA_PREFIX = str(conda_prefix_path.resolve())\n",
        "!bin/micromamba create --yes --prefix $CONDA_PREFIX\n",
        "!echo 'python ==3.7*' >> {CONDA_PREFIX}/conda-meta/pinned\n",
        "!CI=0 bin/micromamba install --yes --prefix $CONDA_PREFIX \\\n",
        "                     --channel litex-hub \\\n",
        "                     --channel main \\\n",
        "                     openlane={\"2023.11.03_0_gf4f8dad8\"} \\\n",
        "                     open_pdks.sky130a={\"1.0.458_0_g8c68aca\"} \\\n",
        "                     openroad={\"2.0_10927_g0922eecb9\"} \\\n",
        "                     verilator={\"5.018_57_ga022b672a\"}\n",
        "!bin/micromamba install --quiet \\\n",
        "                        --yes \\\n",
        "                        --prefix $CONDA_PREFIX \\\n",
        "                        --channel conda-forge \\\n",
        "                        --channel main \\\n",
        "                        gdstk\n",
        "!pip install libparse\n",
        "PATH = os.environ['PATH']\n",
        "%env CONDA_PREFIX={CONDA_PREFIX}\n",
        "%env PATH={CONDA_PREFIX}/bin:{PATH}"
      ]
    },
    {
      "cell_type": "code",
      "execution_count": 6,
      "metadata": {
        "colab": {
          "base_uri": "https://localhost:8080/"
        },
        "id": "2JPlqKcqZjg8",
        "outputId": "ac7945a7-b160-45c9-93be-992d71e39a04"
      },
      "outputs": [
        {
          "name": "stdout",
          "output_type": "stream",
          "text": [
            "Writing config.json\n"
          ]
        }
      ],
      "source": [
        "%%writefile config.json\n",
        "{\n",
        "    \"DESIGN_NAME\": \"top\",\n",
        "    \"VERILOG_FILES\": \"dir::SystolicArray/src/*.sv\",\n",
        "    \"CLOCK_PERIOD\": 40,\n",
        "    \"CLOCK_NET\": \"clk\",\n",
        "    \"CLOCK_PORT\": \"clk\",\n",
        "\n",
        "    \"FP_SIZING\": \"absolute\",\n",
        "    \"DIE_AREA\": \"0 0 480 200\",\n",
        "    \"PL_TARGET_DENSITY\": 0.8\n",
        "}"
      ]
    },
    {
      "cell_type": "code",
      "execution_count": 5,
      "metadata": {
        "id": "ZWnwPk1Amez6"
      },
      "outputs": [],
      "source": [
        "from libparse import LibertyParser"
      ]
    },
    {
      "cell_type": "code",
      "execution_count": 7,
      "metadata": {
        "colab": {
          "base_uri": "https://localhost:8080/"
        },
        "id": "pgpxBIVAaSIo",
        "outputId": "d80b670b-bf92-4a7b-e351-0e4447bbc1cd"
      },
      "outputs": [
        {
          "name": "stdout",
          "output_type": "stream",
          "text": [
            "env: PDK=sky130A\n",
            "OpenLane 2023.11.03_0_gf4f8dad8-conda\n",
            "All rights reserved. (c) 2020-2022 Efabless Corporation and contributors.\n",
            "Available under the Apache License, version 2.0. See the LICENSE file for more details.\n",
            "\n",
            "\u001b[36m[INFO]: Using configuration in 'config.json'...\u001b[39m\n",
            "\u001b[36m[INFO]: PDK Root: /content/conda-env/share/pdk\u001b[39m\n",
            "\u001b[36m[INFO]: Process Design Kit: sky130A\u001b[39m\n",
            "\u001b[36m[INFO]: Standard Cell Library: sky130_fd_sc_hd\u001b[39m\n",
            "\u001b[36m[INFO]: Optimization Standard Cell Library: sky130_fd_sc_hd\u001b[39m\n",
            "\u001b[36m[INFO]: Run Directory: /content/runs/RUN_2024.04.13_04.18.31\u001b[39m\n",
            "\u001b[36m[INFO]: Saving runtime environment...\u001b[39m\n",
            "\u001b[36m[INFO]: Preparing LEF files for the nom corner...\u001b[39m\n",
            "\u001b[36m[INFO]: Preparing LEF files for the min corner...\u001b[39m\n",
            "\u001b[36m[INFO]: Preparing LEF files for the max corner...\u001b[39m\n",
            "\u001b[33m[WARNING]: PNR_SDC_FILE is not set. It is recommended to write a custom SDC file for the design. Defaulting to BASE_SDC_FILE\u001b[39m\n",
            "\u001b[33m[WARNING]: SIGNOFF_SDC_FILE is not set. It is recommended to write a custom SDC file for the design. Defaulting to BASE_SDC_FILE\u001b[39m\n",
            "\u001b[36m[INFO]: Running linter (Verilator) (log: runs/RUN_2024.04.13_04.18.31/logs/synthesis/linter.log)...\u001b[39m\n",
            "\u001b[36m[INFO]: 0 errors found by linter\u001b[39m\n",
            "\u001b[33m[WARNING]: 10 warnings found by linter\u001b[39m\n",
            "[STEP 1]\n",
            "\u001b[36m[INFO]: Running Synthesis (log: runs/RUN_2024.04.13_04.18.31/logs/synthesis/1-synthesis.log)...\u001b[39m\n",
            "[STEP 2]\n",
            "\u001b[36m[INFO]: Running Single-Corner Static Timing Analysis (log: runs/RUN_2024.04.13_04.18.31/logs/synthesis/2-sta.log)...\u001b[39m\n",
            "[STEP 3]\n",
            "\u001b[36m[INFO]: Running Initial Floorplanning (log: runs/RUN_2024.04.13_04.18.31/logs/floorplan/3-initial_fp.log)...\u001b[39m\n",
            "\u001b[36m[INFO]: Floorplanned with width 468.74 and height 176.8.\u001b[39m\n",
            "[STEP 4]\n",
            "\u001b[36m[INFO]: Running IO Placement (log: runs/RUN_2024.04.13_04.18.31/logs/floorplan/4-io.log)...\u001b[39m\n",
            "[STEP 5]\n",
            "\u001b[36m[INFO]: Running Tap/Decap Insertion (log: runs/RUN_2024.04.13_04.18.31/logs/floorplan/5-tap.log)...\u001b[39m\n",
            "\u001b[36m[INFO]: Power planning with power {VPWR} and ground {VGND}...\u001b[39m\n",
            "[STEP 6]\n",
            "\u001b[36m[INFO]: Generating PDN (log: runs/RUN_2024.04.13_04.18.31/logs/floorplan/6-pdn.log)...\u001b[39m\n",
            "[STEP 7]\n",
            "\u001b[36m[INFO]: Running Global Placement (log: runs/RUN_2024.04.13_04.18.31/logs/placement/7-global_skip_io.log)...\u001b[39m\n",
            "[STEP 8]\n",
            "\u001b[36m[INFO]: Running Single-Corner Static Timing Analysis (log: runs/RUN_2024.04.13_04.18.31/logs/placement/8-gpl_sta.log)...\u001b[39m\n",
            "[STEP 9]\n",
            "\u001b[36m[INFO]: Running IO Placement (log: runs/RUN_2024.04.13_04.18.31/logs/placement/9-io.log)...\u001b[39m\n",
            "[STEP 10]\n",
            "\u001b[36m[INFO]: Running Global Placement (log: runs/RUN_2024.04.13_04.18.31/logs/placement/10-global.log)...\u001b[39m\n",
            "[STEP 11]\n",
            "\u001b[36m[INFO]: Running Single-Corner Static Timing Analysis (log: runs/RUN_2024.04.13_04.18.31/logs/placement/11-gpl_sta.log)...\u001b[39m\n",
            "[STEP 12]\n",
            "\u001b[36m[INFO]: Running Placement Resizer Design Optimizations (log: runs/RUN_2024.04.13_04.18.31/logs/placement/12-resizer.log)...\u001b[39m\n",
            "[STEP 13]\n",
            "\u001b[36m[INFO]: Running Detailed Placement (log: runs/RUN_2024.04.13_04.18.31/logs/placement/13-detailed.log)...\u001b[39m\n",
            "[STEP 14]\n",
            "\u001b[36m[INFO]: Running Single-Corner Static Timing Analysis (log: runs/RUN_2024.04.13_04.18.31/logs/placement/14-dpl_sta.log)...\u001b[39m\n",
            "[STEP 15]\n",
            "\u001b[36m[INFO]: Running Clock Tree Synthesis (log: runs/RUN_2024.04.13_04.18.31/logs/cts/15-cts.log)...\u001b[39m\n",
            "[STEP 16]\n",
            "\u001b[36m[INFO]: Running Single-Corner Static Timing Analysis (log: runs/RUN_2024.04.13_04.18.31/logs/cts/16-cts_sta.log)...\u001b[39m\n",
            "[STEP 17]\n",
            "\u001b[36m[INFO]: Running Placement Resizer Timing Optimizations (log: runs/RUN_2024.04.13_04.18.31/logs/cts/17-resizer.log)...\u001b[39m\n",
            "[STEP 18]\n",
            "\u001b[36m[INFO]: Running Global Routing Resizer Design Optimizations (log: runs/RUN_2024.04.13_04.18.31/logs/routing/18-resizer_design.log)...\u001b[39m\n",
            "[STEP 19]\n",
            "\u001b[36m[INFO]: Running Single-Corner Static Timing Analysis (log: runs/RUN_2024.04.13_04.18.31/logs/routing/19-rsz_design_sta.log)...\u001b[39m\n",
            "[STEP 20]\n",
            "\u001b[36m[INFO]: Running Global Routing Resizer Timing Optimizations (log: runs/RUN_2024.04.13_04.18.31/logs/routing/20-resizer_timing.log)...\u001b[39m\n",
            "[STEP 21]\n",
            "\u001b[36m[INFO]: Running Single-Corner Static Timing Analysis (log: runs/RUN_2024.04.13_04.18.31/logs/routing/21-rsz_timing_sta.log)...\u001b[39m\n",
            "[STEP 22]\n",
            "\u001b[36m[INFO]: Running Global Routing (log: runs/RUN_2024.04.13_04.18.31/logs/routing/22-global.log)...\u001b[39m\n",
            "\u001b[36m[INFO]: Starting OpenROAD Antenna Repair Iterations...\u001b[39m\n",
            "[STEP 23]\n",
            "\u001b[36m[INFO]: Writing Verilog (log: runs/RUN_2024.04.13_04.18.31/logs/routing/22-global_write_netlist.log)...\u001b[39m\n",
            "[STEP 24]\n",
            "\u001b[36m[INFO]: Running Single-Corner Static Timing Analysis (log: runs/RUN_2024.04.13_04.18.31/logs/routing/24-grt_sta.log)...\u001b[39m\n",
            "[STEP 25]\n",
            "\u001b[36m[INFO]: Running Fill Insertion (log: runs/RUN_2024.04.13_04.18.31/logs/routing/25-fill.log)...\u001b[39m\n",
            "[STEP 26]\n",
            "\u001b[36m[INFO]: Running Detailed Routing (log: runs/RUN_2024.04.13_04.18.31/logs/routing/26-detailed.log)...\u001b[39m\n",
            "\u001b[36m[INFO]: No DRC violations after detailed routing.\u001b[39m\n",
            "[STEP 27]\n",
            "\u001b[36m[INFO]: Checking Wire Lengths (log: runs/RUN_2024.04.13_04.18.31/logs/routing/27-wire_lengths.log)...\u001b[39m\n",
            "[STEP 28]\n",
            "\u001b[36m[INFO]: Running SPEF Extraction at the min process corner (log: runs/RUN_2024.04.13_04.18.31/logs/signoff/28-parasitics_extraction.min.log)...\u001b[39m\n",
            "[STEP 29]\n",
            "\u001b[36m[INFO]: Running Multi-Corner Static Timing Analysis at the min process corner (log: runs/RUN_2024.04.13_04.18.31/logs/signoff/29-rcx_mcsta.min.log)...\u001b[39m\n",
            "[STEP 30]\n",
            "\u001b[36m[INFO]: Running SPEF Extraction at the max process corner (log: runs/RUN_2024.04.13_04.18.31/logs/signoff/30-parasitics_extraction.max.log)...\u001b[39m\n",
            "[STEP 31]\n",
            "\u001b[36m[INFO]: Running Multi-Corner Static Timing Analysis at the max process corner (log: runs/RUN_2024.04.13_04.18.31/logs/signoff/31-rcx_mcsta.max.log)...\u001b[39m\n",
            "[STEP 32]\n",
            "\u001b[36m[INFO]: Running SPEF Extraction at the nom process corner (log: runs/RUN_2024.04.13_04.18.31/logs/signoff/32-parasitics_extraction.nom.log)...\u001b[39m\n",
            "[STEP 33]\n",
            "\u001b[36m[INFO]: Running Multi-Corner Static Timing Analysis at the nom process corner (log: runs/RUN_2024.04.13_04.18.31/logs/signoff/33-rcx_mcsta.nom.log)...\u001b[39m\n",
            "\u001b[33m[WARNING]: Module sky130_fd_sc_hd__tapvpwrvgnd_1 blackboxed during sta\u001b[39m\n",
            "\u001b[33m[WARNING]: Module sky130_ef_sc_hd__decap_12 blackboxed during sta\u001b[39m\n",
            "\u001b[33m[WARNING]: Module sky130_fd_sc_hd__fill_1 blackboxed during sta\u001b[39m\n",
            "\u001b[33m[WARNING]: Module sky130_fd_sc_hd__fill_2 blackboxed during sta\u001b[39m\n",
            "[STEP 34]\n",
            "\u001b[36m[INFO]: Creating IR Drop Report (log: runs/RUN_2024.04.13_04.18.31/logs/signoff/34-irdrop.log)...\u001b[39m\n",
            "\u001b[33m[WARNING]: VSRC_LOC_FILES is not defined. The IR drop analysis will run, but the values may be inaccurate.\u001b[39m\n",
            "[STEP 35]\n",
            "\u001b[36m[INFO]: Running Magic to generate various views...\u001b[39m\n",
            "\u001b[36m[INFO]: Streaming out GDSII with Magic (log: runs/RUN_2024.04.13_04.18.31/logs/signoff/35-gdsii.log)...\u001b[39m\n",
            "\u001b[36m[INFO]: Generating MAGLEF views...\u001b[39m\n",
            "\u001b[36m[INFO]: Generating lef with Magic (/content/runs/RUN_2024.04.13_04.18.31/logs/signoff/35-lef.log)...\u001b[39m\n",
            "[STEP 36]\n",
            "\u001b[36m[INFO]: Streaming out GDSII with KLayout (log: runs/RUN_2024.04.13_04.18.31/logs/signoff/36-gdsii-klayout.log)...\u001b[39m\n",
            "\u001b[33m[WARNING]: 'runs/RUN_2024.04.13_04.18.31/results/signoff/top.klayout.gds' wasn't found. Skipping GDS XOR.\u001b[39m\n",
            "[STEP 37]\n",
            "\u001b[36m[INFO]: Running Magic Spice Export from LEF (log: runs/RUN_2024.04.13_04.18.31/logs/signoff/37-spice.log)...\u001b[39m\n",
            "[STEP 38]\n",
            "\u001b[36m[INFO]: Writing Powered Verilog (logs: runs/RUN_2024.04.13_04.18.31/logs/signoff/38-write_powered_def.log, runs/RUN_2024.04.13_04.18.31/logs/signoff/38-write_powered_verilog.log)...\u001b[39m\n",
            "[STEP 39]\n",
            "\u001b[36m[INFO]: Writing Verilog (log: runs/RUN_2024.04.13_04.18.31/logs/signoff/38-write_powered_verilog.log)...\u001b[39m\n",
            "[STEP 40]\n",
            "\u001b[36m[INFO]: Running LVS (log: runs/RUN_2024.04.13_04.18.31/logs/signoff/40-lvs.lef.log)...\u001b[39m\n",
            "[STEP 41]\n",
            "\u001b[36m[INFO]: Running Magic DRC (log: runs/RUN_2024.04.13_04.18.31/logs/signoff/41-drc.log)...\u001b[39m\n",
            "\u001b[36m[INFO]: Converting Magic DRC database to various tool-readable formats...\u001b[39m\n",
            "\u001b[36m[INFO]: No DRC violations after GDS streaming out.\u001b[39m\n",
            "[STEP 42]\n",
            "\u001b[36m[INFO]: Running OpenROAD Antenna Rule Checker (log: runs/RUN_2024.04.13_04.18.31/logs/signoff/42-arc.log)...\u001b[39m\n",
            "\u001b[36m[INFO]: Saving current set of views in 'runs/RUN_2024.04.13_04.18.31/results/final'...\u001b[39m\n",
            "\u001b[36m[INFO]: Saving runtime environment...\u001b[39m\n",
            "\u001b[36m[INFO]: Generating final set of reports...\u001b[39m\n",
            "\u001b[36m[INFO]: Created manufacturability report at 'runs/RUN_2024.04.13_04.18.31/reports/manufacturability.rpt'.\u001b[39m\n",
            "\u001b[36m[INFO]: Created metrics report at 'runs/RUN_2024.04.13_04.18.31/reports/metrics.csv'.\u001b[39m\n",
            "\u001b[33m[WARNING]: There are max fanout violations in the design at the Typical corner. Please refer to 'runs/RUN_2024.04.13_04.18.31/reports/signoff/33-sta-rcx_nom/multi_corner_sta.checks.rpt'.\u001b[39m\n",
            "\u001b[36m[INFO]: There are no hold violations in the design at the Typical corner.\u001b[39m\n",
            "\u001b[36m[INFO]: There are no setup violations in the design at the Typical corner.\u001b[39m\n",
            "\u001b[32m[SUCCESS]: Flow complete.\u001b[39m\n",
            "\u001b[36m[INFO]: Note that the following warnings have been generated:\u001b[39m\n",
            "\u001b[33m[WARNING]: PNR_SDC_FILE is not set. It is recommended to write a custom SDC file for the design. Defaulting to BASE_SDC_FILE\n",
            "[WARNING]: SIGNOFF_SDC_FILE is not set. It is recommended to write a custom SDC file for the design. Defaulting to BASE_SDC_FILE\n",
            "[WARNING]: 10 warnings found by linter\n",
            "[WARNING]: Module sky130_fd_sc_hd__tapvpwrvgnd_1 blackboxed during sta\n",
            "[WARNING]: Module sky130_ef_sc_hd__decap_12 blackboxed during sta\n",
            "[WARNING]: Module sky130_fd_sc_hd__fill_1 blackboxed during sta\n",
            "[WARNING]: Module sky130_fd_sc_hd__fill_2 blackboxed during sta\n",
            "[WARNING]: VSRC_LOC_FILES is not defined. The IR drop analysis will run, but the values may be inaccurate.\n",
            "[WARNING]: 'runs/RUN_2024.04.13_04.18.31/results/signoff/top.klayout.gds' wasn't found. Skipping GDS XOR.\n",
            "[WARNING]: There are max fanout violations in the design at the Typical corner. Please refer to 'runs/RUN_2024.04.13_04.18.31/reports/signoff/33-sta-rcx_nom/multi_corner_sta.checks.rpt'.\n",
            "\u001b[39m\n"
          ]
        }
      ],
      "source": [
        "%env PDK=sky130A\n",
        "!flow.tcl -design ."
      ]
    },
    {
      "cell_type": "code",
      "execution_count": null,
      "metadata": {
        "colab": {
          "base_uri": "https://localhost:8080/"
        },
        "id": "gnz4w7-ofBv4",
        "outputId": "71007a32-f21d-419d-fc86-f072fea50344"
      },
      "outputs": [
        {
          "name": "stdout",
          "output_type": "stream",
          "text": [
            "Requirement already satisfied: CairoSVG in /usr/local/lib/python3.10/dist-packages (2.7.1)\n",
            "Requirement already satisfied: cairocffi in /usr/local/lib/python3.10/dist-packages (from CairoSVG) (1.6.1)\n",
            "Requirement already satisfied: cssselect2 in /usr/local/lib/python3.10/dist-packages (from CairoSVG) (0.7.0)\n",
            "Requirement already satisfied: defusedxml in /usr/local/lib/python3.10/dist-packages (from CairoSVG) (0.7.1)\n",
            "Requirement already satisfied: pillow in /usr/local/lib/python3.10/dist-packages (from CairoSVG) (9.4.0)\n",
            "Requirement already satisfied: tinycss2 in /usr/local/lib/python3.10/dist-packages (from CairoSVG) (1.2.1)\n",
            "Requirement already satisfied: cffi>=1.1.0 in /usr/local/lib/python3.10/dist-packages (from cairocffi->CairoSVG) (1.16.0)\n",
            "Requirement already satisfied: webencodings in /usr/local/lib/python3.10/dist-packages (from cssselect2->CairoSVG) (0.5.1)\n",
            "Requirement already satisfied: pycparser in /usr/local/lib/python3.10/dist-packages (from cffi>=1.1.0->cairocffi->CairoSVG) (2.22)\n"
          ]
        }
      ],
      "source": [
        "!pip install CairoSVG\n",
        "import pathlib\n",
        "import gdstk\n",
        "from cairosvg import svg2png\n",
        "\n",
        "gdss = sorted(pathlib.Path('runs').glob('*/results/final/gds/*.gds'))\n",
        "library = gdstk.read_gds(gdss[-1])\n",
        "top_cells = library.top_level()\n",
        "top_cells[0].write_svg('systolicarray.svg')\n",
        "f = open(\"systolicarray.svg\")\n",
        "svg2png(bytestring=f.read().encode(\"utf-8\"),write_to=\"systolicarray.png\")\n",
        "f.close()"
      ]
    }
  ],
  "metadata": {
    "colab": {
      "include_colab_link": true,
      "provenance": []
    },
    "kernelspec": {
      "display_name": "Python 3",
      "name": "python3"
    },
    "language_info": {
      "codemirror_mode": {
        "name": "ipython",
        "version": 3
      },
      "file_extension": ".py",
      "mimetype": "text/x-python",
      "name": "python",
      "nbconvert_exporter": "python",
      "pygments_lexer": "ipython3",
      "version": "3.9.18"
    }
  },
  "nbformat": 4,
  "nbformat_minor": 0
}
