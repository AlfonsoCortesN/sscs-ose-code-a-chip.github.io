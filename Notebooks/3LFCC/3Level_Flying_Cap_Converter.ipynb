{
 "cells": [
  {
   "cell_type": "markdown",
   "metadata": {
    "id": "aK2t7aSWNojQ"
   },
   "source": [
    "# 3 Level Flying Cap Converter"
   ]
  },
  {
   "cell_type": "markdown",
   "metadata": {
    "id": "view-in-github"
   },
   "source": [
    "<a href=\"https://colab.research.google.com/github/idea-fasoc/OpenFASOC/blob/main/docs/source/notebooks/temp_sense_genCollab.ipynb\" target=\"_parent\"><img src=\"https://colab.research.google.com/assets/colab-badge.svg\" alt=\"Open In Colab\"/></a>"
   ]
  },
  {
   "cell_type": "markdown",
   "metadata": {
    "id": "xjDewsT5Y4lP"
   },
   "source": [
    "```\n",
    "AC3E Microelectronics Team, November 2022\n",
    "SPDX-License-Identifier: Apache-2.0\n",
    "```"
   ]
  },
  {
   "cell_type": "markdown",
   "metadata": {
    "id": "qAMsCOCMVMSy"
   },
   "source": [
    "\n",
    "|Name|Affiliation|IEEE Member|SSCS Member|\n",
    "|:--:|:----------:|:----------:|:----------:|\n",
    "| Jorge Marín <br /> Email ID: jorge.marinn@usm.cl|AC3E (Chile)| No |No|\n",
    "| Christian Rojas |AC3E, Universidad Técnica Federico Santa María (Chile)| Yes |No|\n",
    "| Joel |Universidad Católica de Uruguay (Uruguay)| No |No|\n",
    "| |Universidad Católica de Uruguay (Uruguay)| No |No|\n",
    "| Alfonso cortés |AC3E, Universidad Técnica Federico Santa María (Chile)| Yes |No|\n",
    "| Kevin Pizarro |Universidad Técnica Federico Santa María (Chile)| No |No|\n",
    "| Vicente Osorio |Universidad Técnica Federico Santa María (Chile)| No |No|\n",
    "| Tomás Velásquez|Universidad Técnica Federico Santa María (Chile)| No |No|\n",
    "| Max Vega |Universidad Técnica Federico Santa María (Chile)| No |No|\n",
    "| Julio Contreras |Universidad Técnica Federico Santa María (Chile)| No |No|\n",
    "| Diego Almonacid |Universidad Técnica Federico Santa María (Chile)| No |No|\n",
    "| Carolina Beckman|Universidad Técnica Federico Santa María (Chile)| Yes |No|\n",
    "| Pablo Vera |Universidad Técnica Federico Santa María (Chile)| No |No|\n"
   ]
  },
  {
   "cell_type": "markdown",
   "metadata": {},
   "source": [
    "## Intro"
   ]
  },
  {
   "cell_type": "markdown",
   "metadata": {
    "id": "-Xp4cEjkeHIx"
   },
   "source": [
    "Welcome!\n",
    "This notebook[^1] serves as an introduction to the temperature sensor generator: an open-source silicon generator parts of [OpenFASoC](https://github.com/idea-fasoc/OpenFASOC) - An open-source framework for autonomous generation of tapeout-ready temperature sensors. This framework uses a leakage-based digital temperature sensor design as the template. A cell-based design methodology is employed to allow full synthesizability and compatibility with computer-aided designs (CADs) flow and advanced technology nodes. Furthermore, the generator automates the design flow end-to-end in Python and supports designing completely with open-source CAD tools.\n",
    "\n",
    "**_Index Terms:_** Circuit generator, leakage-based temperature dependency, open source, synthesizable design, temperature sensor.\n",
    "\n",
    "Citation: Q. Zhang et al., \"An Open-Source and Autonomous Temperature Sensor Generator Verified With 64 Instances in SkyWater 130 nm for Comprehensive Design Space Exploration,\" in IEEE Solid-State Circuits Letters, vol. 5, pp. 174-177, 2022, doi: 10.1109/LSSC.2022.3188925.\n",
    "\n",
    "\n",
    "[^1]: This notebook is targeted at users of all professional backgrounds aiming to learn how to *code* their chips. The goal is to go through all the steps of generating the temperature sensor and an overview of the simulation results. "
   ]
  },
  {
   "cell_type": "markdown",
   "metadata": {},
   "source": [
    "## Install all tools and dependencies"
   ]
  },
  {
   "cell_type": "code",
   "execution_count": null,
   "metadata": {},
   "outputs": [],
   "source": []
  },
  {
   "cell_type": "markdown",
   "metadata": {},
   "source": [
    "## Simulation"
   ]
  },
  {
   "cell_type": "markdown",
   "metadata": {},
   "source": [
    "### Ron"
   ]
  },
  {
   "cell_type": "code",
   "execution_count": null,
   "metadata": {},
   "outputs": [],
   "source": []
  },
  {
   "cell_type": "markdown",
   "metadata": {},
   "source": [
    "### Efficiency"
   ]
  },
  {
   "cell_type": "code",
   "execution_count": null,
   "metadata": {},
   "outputs": [],
   "source": []
  },
  {
   "cell_type": "code",
   "execution_count": null,
   "metadata": {},
   "outputs": [],
   "source": []
  },
  {
   "cell_type": "markdown",
   "metadata": {
    "id": "h3XOYZkOjJhj"
   },
   "source": [
    " Generator Flow\n",
    "The temperature sensor applies the below described process to translate a specification into a circuit GDS. \n",
    "\n",
    "Before beginning, we must set up our python environment with the necessary open-source tools. The generator uses a flexible set of tools and will support even more in the future. In the below flow walkthrough, we will use:\n",
    "*   Yosys for logic synthesis\n",
    "*   Openroad for placing and routing\n",
    "*   Klayout to produce the final GDS file\n",
    "*   Magic for DRC and LVS checks as well as PEX\n",
    "*   Ngspice for simulation\n",
    "\n",
    "There may be a restart runtime warning after this code block, but disregard.\n"
   ]
  },
  {
   "cell_type": "code",
   "execution_count": null,
   "metadata": {
    "id": "StLVb9Q-zYQK"
   },
   "outputs": [],
   "source": [
    "# install all tools and dependencies\n",
    "import os\n",
    "import pathlib\n",
    "import sys\n",
    "\n",
    "!pip install matplotlib pandas pyinstaller\n",
    "!apt-get install -y ruby-full time build-essential\n",
    "!apt install -f libqt4-designer libqt4-xml libqt4-sql libqt4-network libqtcore4 libqtgui4\n",
    "!curl -Ls https://micro.mamba.pm/api/micromamba/linux-64/latest | tar -xvj bin/micromamba\n",
    "conda_prefix_path = pathlib.Path('conda-env')\n",
    "site_package_path = conda_prefix_path / 'lib/python3.7/site-packages'\n",
    "sys.path.append(str(site_package_path.resolve()))\n",
    "CONDA_PREFIX = str(conda_prefix_path.resolve())\n",
    "PATH = os.environ['PATH']\n",
    "LD_LIBRARY_PATH = os.environ.get('LD_LIBRARY_PATH', '')\n",
    "%env CONDA_PREFIX={CONDA_PREFIX}\n",
    "%env PATH={CONDA_PREFIX}/bin:{PATH}\n",
    "%env LD_LIBRARY_PATH={CONDA_PREFIX}/lib:{LD_LIBRARY_PATH}\n",
    "!bin/micromamba create --yes --prefix $CONDA_PREFIX\n",
    "!echo 'python ==3.7*' >> {CONDA_PREFIX}/conda-meta/pinned\n",
    "!bin/micromamba install --yes --prefix $CONDA_PREFIX \\\n",
    "                        --channel litex-hub \\\n",
    "                        --channel main \\\n",
    "                        open_pdks.sky130a \\\n",
    "                        magic \\\n",
    "                        netgen \\\n",
    "                        openroad \\\n",
    "                        yosys\n",
    "!bin/micromamba install --yes --prefix $CONDA_PREFIX \\\n",
    "                        --channel conda-forge \\\n",
    "                        tcllib gdstk pyyaml click svgutils ngspice\n",
    "#!bin/micromamba install --yes --prefix $CONDA_PREFIX \\\n",
    "#                        --channel conda-forge \\\n",
    "#                        klayout\n",
    "\n",
    "!wget https://www.klayout.org/downloads/Ubuntu-18/klayout_0.27.11-1_amd64.deb\n",
    "!dpkg -i klayout_0.27.11-1_amd64.deb\n",
    "\n",
    "# clone OpenFASOC repo\n",
    "!git clone https://github.com/idea-fasoc/OpenFASOC\n",
    "# setup env\n",
    "OPENFASOC_ROOT=str(pathlib.Path('OpenFASOC').resolve())\n",
    "TEMP_SENSE_ROOT=OPENFASOC_ROOT+\"/openfasoc/generators/temp-sense-gen/\"\n",
    "PATH=os.environ['PATH']\n",
    "%env PDK_ROOT={CONDA_PREFIX}/share/pdk\n",
    "%env OPENFASOC_ROOT={OPENFASOC_ROOT}\n",
    "%env PATH={PATH}:{OPENFASOC_ROOT}:{OPENFASOC_ROOT}/openfasoc/generators/temp-sense-gen/tools\n",
    "# pip3 packages\n",
    "!apt install python3-pip\n",
    "!pip3 install matplotlib pandas pyinstaller ipykernel"
   ]
  },
  {
   "cell_type": "markdown",
   "metadata": {
    "id": "5gyYr7tTjrep"
   },
   "source": [
    "### Understanding User Input\n",
    "The generator must first parse the user’s requirements into a high-level circuit description or verilog. Note that verilog is a circuit description type that uses theoretical constructs (like mathematical operators, if-else blocks, always @ blocks,... etc) to concisely describe circuits. User input parsing is implemented by reading from a JSON spec file directly in the temp-sense-gen repository. The JSON allows for specifying power, area, maximum error (temperature result accuracy), an optimization option (to choose which option to prioritize), and an operating temperature range (minimum and maximum operating temperature values). The operating temperature range and optimization must be specified, but other items can be left blank. The example we are using here runs the sky130 node, and we already have a silicon model file for this node. The generator uses this model file to automatically determine the number of headers and inverters, among other necessary modifications that can be made to meet spec. The generator references the model file in an iterative process until either meeting spec or failing. A verilog description is then produced by substituting specifics into several template verilog files.\n",
    "\n",
    "You can see this solve and verilog generation by running the code below and exploring the temp-sense-gen/src folder in your python virtual environment:\n"
   ]
  },
  {
   "cell_type": "code",
   "execution_count": null,
   "metadata": {
    "id": "Bu55CvsAlbIh"
   },
   "outputs": [],
   "source": [
    "!cd OpenFASOC/openfasoc/generators/temp-sense-gen && make sky130hd_temp_verilog"
   ]
  },
  {
   "cell_type": "markdown",
   "metadata": {
    "id": "XEd8QqFgkog2"
   },
   "source": [
    "### Logic Synthesis\n",
    "At this phase, the implementation of fundamental components — such as transistors and resistors — is not considered. Logic synthesis takes the verilog description from the previous step and outputs a more detailed netlist by parsing theoretical verilog constructs like always, case, if-else, operator, etc… blocks. Note that a netlist is just a list of pins and component connections. Additionally the entire description is consolidated into one file (not considering the node specific library files we will need later) which means that the low and high voltage components are correctly connected. Specifics such as the shapes, placement, length, size of wires and components, along with power connections are still not considered. \n",
    "\n",
    "You can see the synthesis step by running the code below and viewing the temp-sense-gen/flow/results/sky130hd/tempsense/1_synth.v file in your python virtual environment:"
   ]
  },
  {
   "cell_type": "code",
   "execution_count": null,
   "metadata": {
    "id": "414sh8FtlgTk"
   },
   "outputs": [],
   "source": [
    "!cd OpenFASOC/openfasoc/generators/temp-sense-gen/flow && make synth"
   ]
  },
  {
   "cell_type": "markdown",
   "metadata": {
    "id": "Jd1rMEAzlLUT"
   },
   "source": [
    "### Automatic Place and Route\n",
    "Now that we have a description of our circuit which includes specific connections and components to use, it is possible to consider drawing the wires, placing the components, and choosing materials. Below is a step-by-step visual breakdown of the openroad APR."
   ]
  },
  {
   "cell_type": "markdown",
   "metadata": {
    "id": "_JBpH5AOmEcl"
   },
   "source": [
    "#### Floorplan\n",
    "First, an outline of the circuit is created encompassing the area that the circuit will occupy and including all the input and output pins for the top level circuit. Inside the temperature sensor, power rails, tap, and decap cells are placed. The tap and decap cells serve to address manufacturing and real-world circuit performance concerns. Within the box, a grid is formed with rows of fixed height.\n",
    "\n",
    "Run floorplan and render a polygon graphic for this stage by executing the code below:"
   ]
  },
  {
   "cell_type": "code",
   "execution_count": null,
   "metadata": {
    "id": "ognjm4xZK01-"
   },
   "outputs": [],
   "source": [
    "!cd OpenFASOC/openfasoc/generators/temp-sense-gen/flow && make floorplan"
   ]
  },
  {
   "cell_type": "code",
   "execution_count": null,
   "metadata": {
    "id": "BW8q1xrsmjre"
   },
   "outputs": [],
   "source": [
    "import gdstk\n",
    "import os\n",
    "import IPython.display\n",
    "import svgutils.transform as sg\n",
    "# work dir setup\n",
    "!cp OpenFASOC/openfasoc/generators/temp-sense-gen/flow/results/sky130hd/tempsense/2_floorplan.odb OpenFASOC/docs/source/notebooks/aux_files\n",
    "os.environ['from_oprd_'] = '2_floorplan.odb'\n",
    "os.environ['to_oprd_'] = 'out2.def'\n",
    "# convert odb to def\n",
    "!cd OpenFASOC/docs/source/notebooks/aux_files && openroad -no_init -exit dbtodef.tcl\n",
    "# convert def to gds\n",
    "!cd OpenFASOC/docs/source/notebooks/aux_files && klayout -zz -rd design_name=tempsenseInst_error \\\n",
    "\t        -rd in_def=\"out2.def\" \\\n",
    "\t        -rd in_gds=\"HEADER.gds SLC.gds sky130_fd_sc_hd.gds\" \\\n",
    "\t        -rd config_file=\"fill.json\" \\\n",
    "\t        -rd out_gds=\"out2.gds\" \\\n",
    "\t        -rd tech_file=\"klayout.lyt\" \\\n",
    "\t        -rm def2gds.py\n",
    "!cp OpenFASOC/docs/source/notebooks/aux_files/out2.gds /content\n",
    "flrpln = gdstk.read_gds(\"out2.gds\".format(TEMP_SENSE_ROOT))\n",
    "flrpln_top_cell = flrpln.top_level()\n",
    "flrpln_top_cell[0].write_svg('out2.svg')\n",
    "fig = sg.fromfile('out2.svg')\n",
    "fig.set_size(('700','700'))\n",
    "fig.save('out2.svg')\n",
    "IPython.display.SVG('out2.svg')"
   ]
  },
  {
   "cell_type": "markdown",
   "metadata": {
    "id": "7WhybkqFKhAC"
   },
   "source": [
    "####Place\n",
    "Within the rows (visualized in the run above) the standard cells are placed. Cells are building block circuits that, when combined, implement the bulk of temperature sensor functionality. These standard components include: inverters or other logic gates, headers (used to convert from high to low voltage), SLC (used to convert from low to high voltage), etc. \n",
    "\n",
    "Run place and render a polygon graphic for this stage by executing the code below:"
   ]
  },
  {
   "cell_type": "code",
   "execution_count": null,
   "metadata": {
    "id": "SwsxoyqaNfL-"
   },
   "outputs": [],
   "source": [
    "!cd OpenFASOC/openfasoc/generators/temp-sense-gen/flow && make place"
   ]
  },
  {
   "cell_type": "code",
   "execution_count": null,
   "metadata": {
    "id": "38GZw7r2Nj3r"
   },
   "outputs": [],
   "source": [
    "import gdstk\n",
    "import IPython.display\n",
    "import svgutils.transform as sg\n",
    "# work dir setup\n",
    "!cp OpenFASOC/openfasoc/generators/temp-sense-gen/flow/results/sky130hd/tempsense/3_place.odb OpenFASOC/docs/source/notebooks/aux_files\n",
    "os.environ['from_oprd_'] = '3_place.odb'\n",
    "os.environ['to_oprd_'] = 'out3.def'\n",
    "# convert odb to def\n",
    "!cd OpenFASOC/docs/source/notebooks/aux_files && openroad -no_init -exit dbtodef.tcl\n",
    "# convert def to gds\n",
    "!cd OpenFASOC/docs/source/notebooks/aux_files && klayout -zz -rd design_name=tempsenseInst_error \\\n",
    "\t        -rd in_def=\"out3.def\" \\\n",
    "\t        -rd in_gds=\"HEADER.gds SLC.gds sky130_fd_sc_hd.gds\" \\\n",
    "\t        -rd config_file=\"fill.json\" \\\n",
    "\t        -rd out_gds=\"out3.gds\" \\\n",
    "\t        -rd tech_file=\"klayout.lyt\" \\\n",
    "\t        -rm def2gds.py\n",
    "!cp OpenFASOC/docs/source/notebooks/aux_files/out3.gds /content\n",
    "flrpln = gdstk.read_gds(\"out3.gds\".format(TEMP_SENSE_ROOT))\n",
    "flrpln_top_cell = flrpln.top_level()\n",
    "flrpln_top_cell[0].write_svg('out3.svg')\n",
    "fig = sg.fromfile('out3.svg')\n",
    "fig.set_size(('700','700'))\n",
    "fig.save('out3.svg')\n",
    "IPython.display.SVG('out3.svg')"
   ]
  },
  {
   "cell_type": "markdown",
   "metadata": {
    "id": "XJMjGSEAOaZA"
   },
   "source": [
    "#### CTS\n",
    "CTS stands for clock tree synthesis (balancing a clock delay to all parts of a circuit); We do not require this in the temperature sensor, but we do require the filler cells which are placed by openroad during CTS. Filler cells are exactly what they sound like. There are many large gaps (see the above run graphic) within each row, between components. These gaps must be filled such that there are continous silicon p and n wells — among other manufacturing and performance reasons. Fillers are placed to fill the gaps.\n",
    "\n",
    "Run CTS and render a polygon graphic for this stage by executing the code below:"
   ]
  },
  {
   "cell_type": "code",
   "execution_count": null,
   "metadata": {
    "id": "g9RZCeac3xwn"
   },
   "outputs": [],
   "source": [
    "!cd OpenFASOC/openfasoc/generators/temp-sense-gen/flow && make cts"
   ]
  },
  {
   "cell_type": "code",
   "execution_count": null,
   "metadata": {
    "id": "95kPlokE3_bG"
   },
   "outputs": [],
   "source": [
    "import gdstk\n",
    "import IPython.display\n",
    "import svgutils.transform as sg\n",
    "# work dir setup\n",
    "!cp OpenFASOC/openfasoc/generators/temp-sense-gen/flow/results/sky130hd/tempsense/4_cts.odb OpenFASOC/docs/source/notebooks/aux_files\n",
    "os.environ['from_oprd_'] = '4_cts.odb'\n",
    "os.environ['to_oprd_'] = 'out4.def'\n",
    "# convert odb to def\n",
    "!cd OpenFASOC/docs/source/notebooks/aux_files && openroad -no_init -exit dbtodef.tcl\n",
    "# convert def to gds\n",
    "!cd OpenFASOC/docs/source/notebooks/aux_files && klayout -zz -rd design_name=tempsenseInst_error \\\n",
    "\t        -rd in_def=\"out4.def\" \\\n",
    "\t        -rd in_gds=\"HEADER.gds SLC.gds sky130_fd_sc_hd.gds\" \\\n",
    "\t        -rd config_file=\"fill.json\" \\\n",
    "\t        -rd out_gds=\"out4.gds\" \\\n",
    "\t        -rd tech_file=\"klayout.lyt\" \\\n",
    "\t        -rm def2gds.py\n",
    "!cp OpenFASOC/docs/source/notebooks/aux_files/out4.gds /content\n",
    "flrpln = gdstk.read_gds(\"out4.gds\".format(TEMP_SENSE_ROOT))\n",
    "flrpln_top_cell = flrpln.top_level()\n",
    "flrpln_top_cell[0].write_svg('out4.svg')\n",
    "fig = sg.fromfile('out4.svg')\n",
    "fig.set_size(('700','700'))\n",
    "fig.save('out4.svg')\n",
    "IPython.display.SVG('out4.svg')"
   ]
  },
  {
   "cell_type": "markdown",
   "metadata": {
    "id": "c69tCiuC4TIM"
   },
   "source": [
    "####Routing\n",
    "The last step is to connect the components. During routing, wire-like pathways known as traces are placed in the design.\n",
    "\n",
    "Run route and finish then render a polygon graphic by executing the code below:"
   ]
  },
  {
   "cell_type": "code",
   "execution_count": null,
   "metadata": {
    "id": "bd8LNyPM6KYD"
   },
   "outputs": [],
   "source": [
    "!cd OpenFASOC/openfasoc/generators/temp-sense-gen/flow && make finish"
   ]
  },
  {
   "cell_type": "code",
   "execution_count": null,
   "metadata": {
    "id": "CJtokFjA6TJn"
   },
   "outputs": [],
   "source": [
    "import gdstk\n",
    "import IPython.display\n",
    "import svgutils.transform as sg\n",
    "!cp OpenFASOC/openfasoc/generators/temp-sense-gen/flow/results/sky130hd/tempsense/6_final.gds /content\n",
    "flrpln = gdstk.read_gds(\"6_final.gds\".format(TEMP_SENSE_ROOT))\n",
    "flrpln_top_cell = flrpln.top_level()\n",
    "flrpln_top_cell[0].write_svg('6_final.svg')\n",
    "fig = sg.fromfile('6_final.svg')\n",
    "fig.set_size(('700','700'))\n",
    "fig.save('6_final.svg')\n",
    "IPython.display.SVG('6_final.svg')"
   ]
  },
  {
   "cell_type": "markdown",
   "metadata": {
    "id": "EoI8lnEq-cJ9"
   },
   "source": [
    "### DRC and LVS\n",
    "Now that the generator has completed the flow, an automatic checking process is initiated. DRC or design rule checking ensures that the final circuit obeys manufacturing rules. Rules are set by the foundry for each of their nodes. LVS or layout vs schematic will compare the final output from APR to the netlist that we gave the APR tool (in this case openroad). This ensures that APR ran correctly and our final circuit matches our netlist description from logic synthesis. Both of these steps will use magic (LVS will also run on magic).\n",
    "\n",
    "Run checks by executing the below code. Both checks will give command line output below with complete status:"
   ]
  },
  {
   "cell_type": "code",
   "execution_count": null,
   "metadata": {
    "id": "g6ER_-6VAIIG"
   },
   "outputs": [],
   "source": [
    "!cd OpenFASOC/openfasoc/generators/temp-sense-gen/flow && make magic_drc\n",
    "!cd OpenFASOC/openfasoc/generators/temp-sense-gen/flow && make netgen_lvs"
   ]
  },
  {
   "cell_type": "markdown",
   "metadata": {
    "id": "SRb8x4VlTPfz"
   },
   "source": [
    " Simulations\n",
    "To see how the final design functions, run simulations across a temperature range by executing the code block below.\n",
    "\n",
    "**_Note:_** This may take over 30 minutes."
   ]
  },
  {
   "cell_type": "code",
   "execution_count": null,
   "metadata": {
    "id": "ZRpMHTBPN6Pc"
   },
   "outputs": [],
   "source": [
    "%cd /content/OpenFASOC/openfasoc/generators/temp-sense-gen\n",
    "!mkdir -p work\n",
    "%cd tools\n",
    "from simulation import generate_runs\n",
    "import shutil\n",
    "import json\n",
    "import os\n",
    "shutil.copyfile(\n",
    "    \"/content/OpenFASOC/openfasoc/generators/temp-sense-gen/flow/results/sky130hd/tempsense/6_final.gds\",\n",
    "    \"/content/OpenFASOC/openfasoc/generators/temp-sense-gen/work/tempsenseInst_error.gds\",\n",
    ")\n",
    "shutil.copyfile(\n",
    "    \"/content/OpenFASOC/openfasoc/generators/temp-sense-gen/flow/results/sky130hd/tempsense/6_final.def\",\n",
    "    \"/content/OpenFASOC/openfasoc/generators/temp-sense-gen/work/tempsenseInst_error.def\",\n",
    ")\n",
    "shutil.copyfile(\n",
    "    \"/content/OpenFASOC/openfasoc/generators/temp-sense-gen/flow/objects/sky130hd/tempsense/netgen_lvs/spice/tempsenseInst_error.spice\",\n",
    "    \"/content/OpenFASOC/openfasoc/generators/temp-sense-gen/work/tempsenseInst_error.spice\",\n",
    ")\n",
    "shutil.copyfile(\n",
    "    \"/content/OpenFASOC/openfasoc/generators/temp-sense-gen/flow/objects/sky130hd/tempsense/netgen_lvs/spice/tempsenseInst_error_pex.spice\",\n",
    "    \"/content/OpenFASOC/openfasoc/generators/temp-sense-gen/work/tempsenseInst_error_pex.spice\",\n",
    ")\n",
    "%cd ..\n",
    "stage_var = [int(6) - 1]\n",
    "header_var = [int(3)]\n",
    "# make a temp list\n",
    "temp_start = -20\n",
    "temp_stop = 100\n",
    "temp_step = 20\n",
    "temp_points = int((temp_stop - temp_start) / temp_step)\n",
    "temp_list = []\n",
    "for i in range(0, temp_points + 1):\n",
    "    temp_list.append(temp_start + i * temp_step)\n",
    "with open(\"/content/OpenFASOC/openfasoc/common/platform_config.json\") as file:\n",
    "    jsonConfig = json.load(file)\n",
    "pdkrt = os.environ.get('PDK_ROOT')\n",
    "prepexDir = generate_runs(\n",
    "    \"/content/OpenFASOC/openfasoc/generators/temp-sense-gen/\",\n",
    "    \"tempsenseInst_error\",\n",
    "    header_var,\n",
    "    stage_var,\n",
    "    temp_list,\n",
    "    jsonConfig,\n",
    "    \"sky130hd\",\n",
    "    pdkrt+\"/sky130A/\",\n",
    "    spiceDir=\"work\",\n",
    "    prePEX=True,\n",
    ")\n",
    "%cd /content"
   ]
  },
  {
   "cell_type": "markdown",
   "metadata": {
    "id": "uBkrKOa_ckOl"
   },
   "source": [
    "Run the below code block to view the sensor inaccuracy over the operating range -20 to 100C :"
   ]
  },
  {
   "cell_type": "code",
   "execution_count": null,
   "metadata": {
    "id": "NE_sFcgqcvyb"
   },
   "outputs": [],
   "source": [
    "%cd /content/OpenFASOC/openfasoc/generators/temp-sense-gen\n",
    "with open(\"tools/readparamgen.py\",\"r\") as pltr:\n",
    "  pltr_str=pltr.read()\n",
    "  pltr_str=pltr_str+\"\\nplot()\\n\"\n",
    "with open(\"tools/readparamgen.py\",\"w\") as pltr:\n",
    "  pltr.write(pltr_str)\n",
    "!python3 tools/readparamgen.py --specfile test.json --outputDir ./work --platform sky130hd --mode macro\n",
    "IPython.display.SVG('run_stats.svg')"
   ]
  },
  {
   "cell_type": "code",
   "execution_count": null,
   "metadata": {},
   "outputs": [],
   "source": []
  },
  {
   "cell_type": "markdown",
   "metadata": {},
   "source": [
    "## Analog Layout Generation\n",
    "\n",
    "insertar comandos para correr tcls"
   ]
  },
  {
   "cell_type": "code",
   "execution_count": null,
   "metadata": {},
   "outputs": [],
   "source": []
  },
  {
   "cell_type": "code",
   "execution_count": null,
   "metadata": {},
   "outputs": [],
   "source": []
  }
 ],
 "metadata": {
  "colab": {
   "collapsed_sections": [],
   "provenance": []
  },
  "kernelspec": {
   "display_name": "Python 3 (ipykernel)",
   "language": "python",
   "name": "python3"
  },
  "language_info": {
   "codemirror_mode": {
    "name": "ipython",
    "version": 3
   },
   "file_extension": ".py",
   "mimetype": "text/x-python",
   "name": "python",
   "nbconvert_exporter": "python",
   "pygments_lexer": "ipython3",
   "version": "3.9.7"
  },
  "vscode": {
   "interpreter": {
    "hash": "397704579725e15f5c7cb49fe5f0341eb7531c82d19f2c29d197e8b64ab5776b"
   }
  }
 },
 "nbformat": 4,
 "nbformat_minor": 1
}
