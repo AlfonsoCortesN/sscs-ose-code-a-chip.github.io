{
 "cells": [
  {
   "cell_type": "markdown",
   "metadata": {
    "id": "aK2t7aSWNojQ"
   },
   "source": [
    "# 3 - Level Flying Cap Converter"
   ]
  },
  {
   "cell_type": "markdown",
   "metadata": {
    "id": "view-in-github"
   },
   "source": [
    "<a href=\"https://colab.research.google.com/github/idea-fasoc/OpenFASOC/blob/main/docs/source/notebooks/temp_sense_genCollab.ipynb\" target=\"_parent\"><img src=\"https://colab.research.google.com/assets/colab-badge.svg\" alt=\"Open In Colab\"/></a>"
   ]
  },
  {
   "cell_type": "markdown",
   "metadata": {
    "id": "xjDewsT5Y4lP"
   },
   "source": [
    "```\n",
    "AC3E Microelectronics Team, November 2022\n",
    "SPDX-License-Identifier: Apache-2.0\n",
    "```"
   ]
  },
  {
   "cell_type": "markdown",
   "metadata": {
    "id": "qAMsCOCMVMSy"
   },
   "source": [
    "\n",
    "|Name|Affiliation|IEEE Member|SSCS Member|\n",
    "|:--:|:----------:|:----------:|:----------:|\n",
    "| Jorge Marín <br /> Email ID: jorge.marinn@usm.cl|AC3E (Chile)| Yes |Yes|\n",
    "| Christian Rojas <br /> Email ID: c.a.rojas@ieee.org|AC3E, Universidad Técnica Federico Santa María (Chile)| Yes |No|\n",
    "| Joel Gak |Universidad Católica de Uruguay (Uruguay)| Yes |No|\n",
    "| Alejandro Oliva |Universidad Nacional del Sur (Argentina)| Yes |No|\n",
    "| Esteban Lindstrom |Allegro MicroSystems (Argentina)| Yes |No|\n",
    "| Nicolás Calarco |Universidad Católica de Uruguay (Uruguay)| Yes |No|\n",
    "| Alfonso Cortés |AC3E, Universidad Técnica Federico Santa María (Chile)| Yes |No|\n",
    "| Aquiles Viza |AC3E, Universidad Técnica Federico Santa María (Chile)| No |No|\n",
    "| Kevin Pizarro |Universidad Técnica Federico Santa María (Chile)| No |No|\n",
    "| Sebastián Neira |AC3E, Universidad Técnica Federico Santa María (Chile)| No |No|\n",
    "| Vicente Osorio |Universidad Técnica Federico Santa María (Chile)| No |No|\n",
    "| Tomás Velásquez|Universidad Técnica Federico Santa María (Chile)| No |No|\n",
    "| Max Vega |Universidad Técnica Federico Santa María (Chile)| No |No|\n",
    "| Julio Contreras |Universidad Técnica Federico Santa María (Chile)| No |No|\n",
    "| Diego Almonacid |Universidad Técnica Federico Santa María (Chile)| No |No|\n",
    "| Carolina Beckmann |Universidad Técnica Federico Santa María (Chile)| Yes |No|\n",
    "| Pablo Vera |Universidad Técnica Federico Santa María (Chile)| No |No|\n"
   ]
  },
  {
   "cell_type": "markdown",
   "metadata": {},
   "source": [
    "\n",
    "Our project focuses on designing and implementing a DC-DC buck converter demonstrator based on the three-level flying capacitor converter (3L-FCC) architecture, a simple but versatile type of flyingcapacitor multi-level (FCML) converter, using the Skywater 130nm CMOS technology (SKY130). This notebook shows the main steps of the analog design flow, namely simulation, layout and verification of a single converter core. \n",
    "\n",
    "This converter core was designed in the context of the 2022 SSCS \"PICO\" Open-Source Chipathon contest. More information can be found at https://platform.efabless.com/projects/881. As an open source project it is based on the Open PMIC project (@Efabless platform: https://github.com/westonb/Open-PMIC-tapeout).\n"
   ]
  },
  {
   "cell_type": "markdown",
   "metadata": {
    "id": "-Xp4cEjkeHIx"
   },
   "source": [
    "## 1. Introduction\n",
    "\n",
    "Recent development in miniaturization of satellites have led to the widespread of the CubeSat standard. These applications have serious volume and weight restrictions and could greatly benefit from fully-integrating DC-DC converters, as they tend to be bulky and heavy. Figure 1 shows the different converters stages in the electronic power system of a CubeSat, where versatile topologies like FCML could prove convinient. High current density, reversibility and small passive devices are some of the major challenges. \n",
    "\n",
    "</br>\n",
    "\n",
    "<div>\n",
    "<img src=\"Images/EPS_.png\" width=\"450\"/>\n",
    "</div>\n",
    "\n",
    "</br> \n",
    "\n",
    "<center>Figure 1: Typical electronic power system (EPS) architecture of a CubeSat</center>\n",
    "\n",
    "</br> \n",
    "\n",
    "\n",
    "Through this noteboook, it will be shown in simulation that a single converter core based on 3-L architecture can achieve high levels of efficiency at the targeted loads. The layout of the core is built using Tcl scripts. It is possible for the user to customize the flying capacitor depending on the desired operation frequency and output ripple. After verifying the layout and obtaining the GDS, an additional simulation will demonstrate that 2 converter cores can be connected in an interleaved manner to further improve the efficiency. \n"
   ]
  },
  {
   "cell_type": "markdown",
   "metadata": {},
   "source": [
    "## 2. Design Description\n",
    "\n",
    "A block diagram of the design is presented in figure 2.\n",
    "\n",
    "</br>\n",
    "\n",
    "<div>\n",
    "<img src=\"Images/block_diagram.png\" width=\"450\"/>\n",
    "</div>\n",
    "\n",
    "</br> \n",
    "\n",
    "<center>Figure 2: Block diagram of the converter core</center>\n",
    "\n",
    "</br>\n",
    "\n",
    "### 2.1. The power stage \n",
    "\n",
    "In general, this converter topology is very flexible, allowing high quality convertion at a wide range of ratios, through the control scheme. Also, it can be used as a buck or as a boost converter. \n",
    "\n",
    "When used as a buck converter, there are 4 states, described in Figure 3 and table 1. \n",
    "\n",
    "</br>\n",
    "\n",
    "<div>\n",
    "<img src=\"Images/3LFC_states.png\" width=\"600\"/>\n",
    "</div>\n",
    "\n",
    "</br> \n",
    "\n",
    "<center>Figure 3: 3L-FCC system states</center>\n",
    "\n",
    "</br> \n",
    "\n",
    "\n",
    "</br> \n",
    "\n",
    "| State | M1 | M2 | M3 | M4 | v_f | v_c |\n",
    "|:-----:|:--:|:--:|:--:|:--:|:---:|:---:|\n",
    "| 0 | OFF | OFF | ON | ON | ~| v_dc|\n",
    "| 1 | OFF | ON | OFF | ON | ↑ | v_dc - v_f|\n",
    "| 2 | ON | OFF | ON | OFF | ↓ | v_f|\n",
    "| 3 | ON | ON | OFF | OFF | ~| 0|\n",
    "\n",
    "<center>Table 1: 3L-FCC switching states</center>\n",
    "\n",
    "</br> \n",
    "\n",
    "The main components of the converter stage are the power MOS transistors. Their design is essential to achieve high levels of current and switching frequency. To the best of our knowledge, The Open PMIC project was the first open source project to fabricate and test high voltage transistors in SKY130 for currents over 100mA (https://github.com/westonb/Open-PMIC-tapeout). The transistor waffles (NMOS and PMOS) designed in Open PMIC are then used as is, for they match the maximum current rating targeted by this project and they can offer reliable operation in this technology. Also, the waffle structure of the transistors leads to higher tap density, and that is expected to increase the robustness against particle impacts, a relevant feature in space applications.\n",
    "\n",
    "\n",
    "### 2.2. The drivers\n",
    "\n",
    "Level shifters are used to convert the logic inputs signals to the high voltage domain. The design is kept simple, as depicted in Figure 4, and small in area. However, a large output stage is added to ensure enough current to drive the gates of the power transistors.\n",
    "\n",
    "</br>\n",
    "\n",
    "<div>\n",
    "<img src=\"Images/levelshift.jpeg\" width=\"450\"/>\n",
    "</div>\n",
    "\n",
    "</br> \n",
    "\n",
    "<center>Figure 4: Level Shifter schematic</center>\n",
    "\n",
    "</br> \n",
    "\n",
    "\n",
    "After characterizing the power transistors' gate capacitance, the level shifters were designed by our colaborators at UCU (Uruguay), focusing on transition delays."
   ]
  },
  {
   "cell_type": "markdown",
   "metadata": {},
   "source": [
    "## 3. Install tools and dependencies"
   ]
  },
  {
   "cell_type": "code",
   "execution_count": null,
   "metadata": {},
   "outputs": [],
   "source": [
    "# install all tools and dependencies\n",
    "import os\n",
    "import pathlib\n",
    "import sys\n",
    "\n",
    "!pip install matplotlib pandas pyinstaller\n",
    "!apt-get install -y ruby-full time build-essential\n",
    "!apt install -f libqt4-designer libqt4-xml libqt4-sql libqt4-network libqtcore4 libqtgui4\n",
    "!curl -Ls https://micro.mamba.pm/api/micromamba/linux-64/latest | tar -xvj bin/micromamba\n",
    "conda_prefix_path = pathlib.Path('conda-env')\n",
    "site_package_path = conda_prefix_path / 'lib/python3.7/site-packages'\n",
    "sys.path.append(str(site_package_path.resolve()))\n",
    "CONDA_PREFIX = str(conda_prefix_path.resolve())\n",
    "PATH = os.environ['PATH']\n",
    "LD_LIBRARY_PATH = os.environ.get('LD_LIBRARY_PATH', '')\n",
    "%env CONDA_PREFIX={CONDA_PREFIX}\n",
    "%env PATH={CONDA_PREFIX}/bin:{PATH}\n",
    "%env LD_LIBRARY_PATH={CONDA_PREFIX}/lib:{LD_LIBRARY_PATH}\n",
    "!bin/micromamba create --yes --prefix $CONDA_PREFIX\n",
    "!echo 'python ==3.7*' >> {CONDA_PREFIX}/conda-meta/pinned\n",
    "!bin/micromamba install --yes --prefix $CONDA_PREFIX \\\n",
    "                        --channel litex-hub \\\n",
    "                        --channel main \\\n",
    "                        open_pdks.sky130a \\\n",
    "                        magic \\\n",
    "                        netgen \\\n",
    "                        openroad \\\n",
    "                        yosys\n",
    "!bin/micromamba install --yes --prefix $CONDA_PREFIX \\\n",
    "                        --channel conda-forge \\\n",
    "                        tcllib gdstk pyyaml click svgutils ngspice\n",
    "#!bin/micromamba install --yes --prefix $CONDA_PREFIX \\\n",
    "#                        --channel conda-forge \\\n",
    "#                        klayout\n",
    "\n",
    "!wget https://www.klayout.org/downloads/Ubuntu-18/klayout_0.27.11-1_amd64.deb\n",
    "!dpkg -i klayout_0.27.11-1_amd64.deb\n",
    "\n",
    "# clone OpenFASOC repo\n",
    "!git clone https://github.com/idea-fasoc/OpenFASOC\n",
    "# setup env\n",
    "OPENFASOC_ROOT=str(pathlib.Path('OpenFASOC').resolve())\n",
    "TEMP_SENSE_ROOT=OPENFASOC_ROOT+\"/openfasoc/generators/temp-sense-gen/\"\n",
    "PATH=os.environ['PATH']\n",
    "%env PDK_ROOT={CONDA_PREFIX}/share/pdk\n",
    "%env OPENFASOC_ROOT={OPENFASOC_ROOT}\n",
    "%env PATH={PATH}:{OPENFASOC_ROOT}:{OPENFASOC_ROOT}/openfasoc/generators/temp-sense-gen/tools\n",
    "# pip3 packages\n",
    "!apt install python3-pip\n",
    "!pip3 install matplotlib pandas pyinstaller ipykernel"
   ]
  },
  {
   "cell_type": "markdown",
   "metadata": {},
   "source": [
    "## 4. Simulation\n",
    "\n",
    "The switch design is initially based on the 10V thick oxide NMOS and PMOS power devices implemented in the Open PMIC project. The device sizes are shown below.\n",
    "\n",
    "**ver si esto va**\n"
   ]
  },
  {
   "cell_type": "markdown",
   "metadata": {},
   "source": [
    "For implementing this converter, it is needed to determine the R_ON characteristic of the switches for different voltage levels, as the transistors at the level shifters are receiving different voltages than the ones at the converter as such. For this, a code cell is inserted under to install all tools and dependencies to use the **sky130a PDK** to then simulate through **xschem** to get the data necessary to be plotted at **python**.\n",
    "  \n",
    "  After that, the code to simulate a single *core* is listed below to get the values to determine the efficiency versus output current curve of the *core*. An extra simulation for the interleaved module is added as mentioned earlier.\n",
    "  \n",
    "  Then, after simulating, the chip implementation may be done. This is achieved through various *.tcl* code files as seen on below cells."
   ]
  },
  {
   "cell_type": "markdown",
   "metadata": {},
   "source": [
    "### Understanding user input\n",
    "\n"
   ]
  },
  {
   "cell_type": "markdown",
   "metadata": {},
   "source": [
    "### PMOS Characterization\n",
    "\n",
    "Below, there will be two sections that have parameters that can be tweaked for the case to be analyzed by the user, both being the schematic and the python file used to manipulate the data.\n",
    "\n",
    "#### Generating the data\n",
    "This cell allows to run the **.sch** file for calculating the PMOS Ron characteristic through a SPICE simulation"
   ]
  },
  {
   "cell_type": "code",
   "execution_count": null,
   "metadata": {},
   "outputs": [],
   "source": [
    "!xschem PMOS_allfingers_RONcalc.sch -n -S"
   ]
  },
  {
   "cell_type": "markdown",
   "metadata": {},
   "source": [
    "#### Running the plot \n",
    "\n",
    "This cell allows to run a **.py** file to plot the R_ON characteristic for a PMOS for different VGS values by using the data generated by the **.sch** file.\n",
    "\n",
    "The R_ON value for the typical PMOS switch device at 70°C , without parasitics, for IDS = 300mA and VGS = -5V, **is roughly 0.28Ohm** (see plot below)."
   ]
  },
  {
   "cell_type": "code",
   "execution_count": 1,
   "metadata": {
    "scrolled": true
   },
   "outputs": [
    {
     "name": "stdout",
     "output_type": "stream",
     "text": [
      "R_ON: 0.277558636734693 ohms\n",
      "R_ON: 0.2993140091809199 ohms\n",
      "R_ON: 0.32867490759075996 ohms\n",
      "R_ON: 0.3706082824482437 ohms\n",
      "R_ON: 0.43586852775277507 ohms\n",
      "R_ON: 0.5534022452445249 ohms\n",
      "R_ON: 0.8455867212121212 ohms\n"
     ]
    },
    {
     "data": {
      "image/png": "[encoded data removed]",
      "text/plain": [
       "<Figure size 432x288 with 1 Axes>"
      ]
     },
     "metadata": {
      "needs_background": "light"
     },
     "output_type": "display_data"
    }
   ],
   "source": [
    "import pandas as pd\n",
    "import numpy as np\n",
    "import random as rand\n",
    "from matplotlib import pyplot as plt\n",
    "\n",
    "colors=(0,0.1,0.2,0.3,0.4,0.5,0.6,0.7,0.8,0.9,1)\n",
    "\n",
    "df=pd.read_fwf('PMOS_R_on_calc.txt')\n",
    "df.to_csv('PMOS_R_on_calc.csv', index=False)\n",
    "data = pd.read_csv('PMOS_R_on_calc.csv').values\n",
    "\n",
    "## If you want to change the start, stop and step in the .sch file, you may change this parametres\n",
    "## here, named start, stop and step.\n",
    "start=-5\n",
    "stop=-2\n",
    "step=0.5\n",
    "VGS=[]\n",
    "while start<=stop:\n",
    "    VGS.append('VGS='+str(start)+'V')\n",
    "    start+=step\n",
    "\n",
    "## If you want to change the current sweep step  in the for more data, you may change this parametre\n",
    "## here, named current_sweep_step.\n",
    "current_sweep_step=100\n",
    "under=0\n",
    "top=current_sweep_step-1   \n",
    "\n",
    "\n",
    "row1=0\n",
    "row2=0\n",
    "i=0\n",
    "\n",
    "flag=True\n",
    "for volt in VGS:\n",
    "    \n",
    "    row1=under\n",
    "    row2=top\n",
    "    if flag:\n",
    "        under+=current_sweep_step\n",
    "        flag=False\n",
    "    else:\n",
    "        under+=current_sweep_step+1\n",
    "    top+=current_sweep_step+1\n",
    "    if volt==VGS[0]:\n",
    "        current = data[0:row2,0]\n",
    "        VD = data[0:row2,1]\n",
    "        VS = data[0:row2,3]\n",
    "    else:\n",
    "        current = data[row1:row2,0]\n",
    "        VD = data[row1:row2,1]\n",
    "        VS = data[row1:row2,3]\n",
    "    voltage=VD-VS\n",
    "    slope,_=np.polyfit(current,voltage,1)\n",
    "    print('R_ON:', -1*slope, 'ohms')\n",
    "    plt.plot(current,voltage, color=(rand.choice(colors),rand.choice(colors),rand.choice(colors)),label=volt)\n",
    "    \n",
    "    \n",
    "plt.xlabel('Current (A)')\n",
    "plt.ylabel('VDS (V)')\n",
    "plt.title('PMOS R_ON characteristic for various VGS')\n",
    "plt.legend()\n",
    "plt.show()"
   ]
  },
  {
   "cell_type": "markdown",
   "metadata": {},
   "source": [
    "### NMOS Characterization\n",
    "\n",
    "Below, there will be two sections that have parameters that can be tweaked for the case to be analyzed by the user, both being the schematic and the python file used to manipulate the data.\n",
    "\n",
    "#### Opening and simulating the schematic\n",
    "This cell below allows to run the **.sch** file for calculating the NMOS R_ON characteristic through a SPICE simulation"
   ]
  },
  {
   "cell_type": "code",
   "execution_count": null,
   "metadata": {},
   "outputs": [],
   "source": [
    "!xschem NMOS_allfingers_RONcalc.sch -n -S\n",
    "!xschem core.sch -n -o core_schem.spice"
   ]
  },
  {
   "cell_type": "markdown",
   "metadata": {},
   "source": [
    "#### Running the plot\n",
    "\n",
    "This cell allows to run a **.py** file to plot the R_ON characteristic for a NMOS for different VGS values by using the data generated by the **.sch** file.\n",
    "\n",
    "The R_ON value for the typical NMOS switch device at 70°C , without parasitics, for IDS = 300mA and VGS = 5V, **is roughly 0.17Ohm** (see plot below)."
   ]
  },
  {
   "cell_type": "code",
   "execution_count": 10,
   "metadata": {},
   "outputs": [
    {
     "name": "stdout",
     "output_type": "stream",
     "text": [
      "R_ON: 0.4030664799616575 ohms\n",
      "R_ON: 0.2934815655157515 ohms\n",
      "R_ON: 0.24236564173237332 ohms\n",
      "R_ON: 0.2127544808376838 ohms\n",
      "R_ON: 0.19358511982958293 ohms\n",
      "R_ON: 0.18031311360876093 ohms\n",
      "R_ON: 0.17071282013981406 ohms\n"
     ]
    },
    {
     "data": {
      "image/png": "[encoded data removed]",
      "text/plain": [
       "<Figure size 640x480 with 1 Axes>"
      ]
     },
     "metadata": {},
     "output_type": "display_data"
    }
   ],
   "source": [
    "import pandas as pd\n",
    "import numpy as np\n",
    "import random as rand\n",
    "from matplotlib import pyplot as plt\n",
    "\n",
    "colors=(0,0.1,0.2,0.3,0.4,0.5,0.6,0.7,0.8,0.9,1)\n",
    "df=pd.read_fwf('NMOS_R_on_calc.txt')\n",
    "df.to_csv('NMOS_R_on_calc.csv', index=False)\n",
    "data = pd.read_csv('NMOS_R_on_calc.csv').values\n",
    "\n",
    "## If you want to change the start, stop and step in the .sch file, you may change this parametres\n",
    "## here, named start, stop and step.\n",
    "start=2\n",
    "stop=5\n",
    "step=0.5\n",
    "VGS=[]\n",
    "while start<=stop:\n",
    "    VGS.append('VGS='+str(start)+'V')\n",
    "    start+=step\n",
    "\n",
    "## If you want to change the current sweep step  in the for more data, you may change this parametre\n",
    "## here, named current_sweep_step.\n",
    "current_sweep_step=100\n",
    "under=0\n",
    "top=current_sweep_step-1   \n",
    "\n",
    "\n",
    "row1=0\n",
    "row2=0\n",
    "i=0\n",
    "\n",
    "flag=True\n",
    "for volt in VGS:\n",
    "    \n",
    "    row1=under\n",
    "    row2=top\n",
    "    if flag:\n",
    "        under+=current_sweep_step\n",
    "        flag=False\n",
    "    else:\n",
    "        under+=current_sweep_step+1\n",
    "    top+=current_sweep_step+1\n",
    "    if volt==VGS[0]:\n",
    "        current = data[0:row2,0]\n",
    "        voltage = data[0:row2,1]\n",
    "    else:\n",
    "        current = data[row1:row2,0]\n",
    "        voltage = data[row1:row2,1]\n",
    "    slope,_=np.polyfit(current,voltage,1)\n",
    "    print('R_ON:',slope,'ohms')\n",
    "    plt.plot(current,voltage, color=(rand.choice(colors),rand.choice(colors),rand.choice(colors)),label=volt)\n",
    "\n",
    "    \n",
    "plt.xlabel('Current (A)')\n",
    "plt.ylabel('VDS (V)')\n",
    "plt.title('Ron characteristic for various VGS')\n",
    "plt.legend()\n",
    "plt.show()"
   ]
  },
  {
   "cell_type": "markdown",
   "metadata": {},
   "source": [
    "### Efficiency\n",
    "\n",
    "Below, there will be two sections that have parameters that can be tweaked for the case to be analyzed by the user, both being the schematic and the python file used to manipulate the data.\n"
   ]
  },
  {
   "cell_type": "markdown",
   "metadata": {},
   "source": [
    "#### Opening and simulating the schematic\n",
    "\n",
    "This cell allows to run the **.sch** file for calculating the efficiency of a core from the converter through a SPICE simulation."
   ]
  },
  {
   "cell_type": "code",
   "execution_count": null,
   "metadata": {},
   "outputs": [],
   "source": [
    "!xschem core_testbench_wfilter.sch -n -S"
   ]
  },
  {
   "cell_type": "markdown",
   "metadata": {},
   "source": [
    "#### Running the plot\n",
    "\n",
    "This cell allows to run a **.py** file to plot the converter efficiency, with and without level shifters involved, for different load values by using the data generated by the **.sch** file.\n",
    "\n",
    "The R_ON value for the typical NMOS switch device at 70°C , without parasitics, for IDS = 300mA, **is roughly 0.17Ohm** (see plot below)."
   ]
  },
  {
   "cell_type": "code",
   "execution_count": 14,
   "metadata": {},
   "outputs": [
    {
     "name": "stdout",
     "output_type": "stream",
     "text": [
      "Load: 300 Ohms\n",
      "Peak length: 22\n",
      "Efficiency 65.47091578346085\n",
      "Efficiency (considering level shifter) 52.4809182702652\n",
      "Load: 44 Ohms\n",
      "Peak length: 27\n",
      "Efficiency 90.90355828564275\n",
      "Efficiency (considering level shifter) 86.24944076547536\n",
      "Load: 22 Ohms\n",
      "Peak length: 25\n",
      "Efficiency 92.65464564884542\n",
      "Efficiency (considering level shifter) 90.06103554438909\n",
      "Load: 11 Ohms\n",
      "Peak length: 22\n",
      "Efficiency 88.46083325683348\n",
      "Efficiency (considering level shifter) 87.07096282884109\n",
      "Load: 5.5 Ohms\n",
      "Peak length: 25\n",
      "Efficiency 70.04416666011272\n",
      "Efficiency (considering level shifter) 69.3537836079603\n",
      "Load: 3 Ohms\n",
      "Peak length: 33\n",
      "Efficiency 49.3000963322576\n",
      "Efficiency (considering level shifter) 48.897079545835034\n"
     ]
    },
    {
     "data": {
      "image/png": "[encoded data removed]",
      "text/plain": [
       "<Figure size 640x480 with 1 Axes>"
      ]
     },
     "metadata": {},
     "output_type": "display_data"
    }
   ],
   "source": [
    "import pandas as pd\n",
    "import numpy as np\n",
    "from matplotlib import pyplot as plt\n",
    "\n",
    "from scipy.signal import find_peaks\n",
    "\n",
    "df=pd.read_fwf('3LFCC_core_wfilter.txt')\n",
    "df.to_csv('3LFCC_core_wfilter.csv', index=False)\n",
    "data = pd.read_csv('3LFCC_core_wfilter.csv').values\n",
    "\n",
    "\n",
    "r=[300,44,22,11,5.5,3]\n",
    "\n",
    "i_cut = 2000\n",
    "i=0\n",
    "pk_init = 10\n",
    "eff_arr=[]\n",
    "eff_ls_arr=[]\n",
    "current=[]\n",
    "\n",
    "\n",
    "for res in r:\n",
    "    flag=True\n",
    "    for number in data:\n",
    "        if flag:\n",
    "            row1=i+i_cut\n",
    "            flag=False\n",
    "        if round(number[0],13)==0.00003:\n",
    "            row2=i\n",
    "            i+=1\n",
    "            break\n",
    "        i+=1\n",
    "    \n",
    "    print('Load:',res, 'Ohms')\n",
    "    y_out = data[row1:row2,1]\n",
    "    data_iout = data[row1:row2,7]\n",
    "    y_in = (-1)*data[row1:row2,3]\n",
    "    y_in_LS = (-1)*data[row1:row2,5]\n",
    "    peaks , _ = find_peaks(y_in, height=0.7)\n",
    "    pk_len = len(peaks)\n",
    "    print('Peak length:',pk_len)\n",
    "    vout = np.mean(y_out[peaks[pk_init]:peaks[pk_len-1]])\n",
    "    iin = np.mean(y_in[peaks[pk_init]:peaks[pk_len-1]])\n",
    "    ils = np.mean(y_in_LS[peaks[pk_init]:peaks[pk_len-1]])\n",
    "    iout = np.mean(data_iout[peaks[pk_init]:peaks[pk_len-1]])\n",
    "    pout = vout*iout\n",
    "    pin = 5*iin\n",
    "    eff_ls = (pout/(5*(iin+ils)))*(100)\n",
    "    eff = (pout/pin )*(100)\n",
    "    eff_arr.append(eff)\n",
    "    eff_ls_arr.append(eff_ls)\n",
    "    current.append(iout)\n",
    "    print('Efficiency',eff)\n",
    "    print('Efficiency (considering level shifter)',eff_ls)\n",
    "\n",
    "\n",
    "\n",
    "plt.plot(current,eff_arr,color='b',label='Efficiency')\n",
    "plt.plot(current,eff_ls_arr,color='r',label='Efficiency (considering level shifter)')\n",
    "plt.xlabel('Current (A)')\n",
    "plt.ylabel('Efficiency (%)')\n",
    "plt.title('Efficiency v/s Current')\n",
    "plt.legend()\n",
    "\n",
    "plt.ylim([40,100])\n",
    "plt.show()"
   ]
  },
  {
   "cell_type": "markdown",
   "metadata": {},
   "source": [
    "## 5. Analog Layout Generation\n",
    "\n",
    "..."
   ]
  },
  {
   "attachments": {},
   "cell_type": "markdown",
   "metadata": {},
   "source": []
  },
  {
   "cell_type": "markdown",
   "metadata": {},
   "source": [
    "### Custom-size Flying Capacitor\n",
    "\n",
    "It is not recommended to make capacitors bigger than 30um because the size of the metal grains is around 30um, and metals wider than that have lower conductivity. Then, a 30um 'unitary' capacitor is the building block for the flying_cap. The size of the matrix of capacitors depends on the required capacitance. Both MIM capacitor layers available in the sky130 process are used.\n",
    "The following python code writtes a tcl script that will make a matrix of unitary capacitors, with a certain number of rows (columns number is fixed to better fit the interface of the power_stage)."
   ]
  },
  {
   "cell_type": "code",
   "execution_count": null,
   "metadata": {},
   "outputs": [],
   "source": [
    "# Configurable Parameter\n",
    "rows = 53 #Number of rows\n",
    "#Estimated capacitance is:"
   ]
  },
  {
   "cell_type": "code",
   "execution_count": null,
   "metadata": {},
   "outputs": [],
   "source": [
    "# Making of the tcl file\n",
    "fileName = input(\".mag file name: \")\n",
    "f = open(\"cap_matrix.tcl\",\"w\")\n",
    "f.write(\"# #####################\\t#\\n#\\tAC3E - UTFSM\\t\\t#\\n#\\tProject: 3LFCC\\t\\t#\\n#\\tCap matrix layout\\t#\\n# #####################\\t#\\n\\n\")\n",
    "f.write(\"getcell unit_cap.mag\\n\")\n",
    "f.write(\"set boxS [box size]\\nset boxV [box values]\\n\")\n",
    "f.write(\"undo\\n\")\n",
    "for column in range(0,43):\n",
    "    for cap in range(0,rows):\n",
    "        f.write(\"select clear\\n\")\n",
    "        f.write(\"move to [expr {[lindex $boxV 0]+[lindex $boxS 0]*\"+str(column)+\"}]i [expr {[lindex $boxV 1]+[lindex $boxS 1]*\"+str(cap)+\"}]i\\n\")\n",
    "        f.write(\"getcell unit_cap.mag\\n\")\n",
    "            \n",
    "f.write(\"save\\n\")\n",
    "f.close()"
   ]
  },
  {
   "cell_type": "markdown",
   "metadata": {},
   "source": [
    "Then run the generated tcl in magic"
   ]
  },
  {
   "cell_type": "code",
   "execution_count": null,
   "metadata": {},
   "outputs": [],
   "source": [
    "!VAR=rows magic -dnull -noconsole\n",
    "!source cap_matrix.tcl\n",
    "!exit"
   ]
  },
  {
   "cell_type": "markdown",
   "metadata": {},
   "source": [
    "Finally, metal terminals are added and the flying_capacitor is finished."
   ]
  },
  {
   "cell_type": "code",
   "execution_count": null,
   "metadata": {},
   "outputs": [],
   "source": [
    "!magic -dnull -noconsole flying_cap.tcl\n",
    "!exit"
   ]
  },
  {
   "cell_type": "markdown",
   "metadata": {},
   "source": [
    "### Convert Core\n",
    "..."
   ]
  },
  {
   "cell_type": "code",
   "execution_count": null,
   "metadata": {},
   "outputs": [],
   "source": [
    "!magic -dnull -noconsole core.tcl\n",
    "!exit"
   ]
  },
  {
   "cell_type": "markdown",
   "metadata": {},
   "source": [
    "A .gds file has been generated for the topmodule, along with a netlist (.spice) extracted from the layout."
   ]
  },
  {
   "cell_type": "markdown",
   "metadata": {},
   "source": [
    "## Layout v/s Schematic"
   ]
  },
  {
   "cell_type": "code",
   "execution_count": null,
   "metadata": {},
   "outputs": [],
   "source": []
  },
  {
   "cell_type": "markdown",
   "metadata": {},
   "source": [
    "## 6. Interleaved\n",
    "\n",
    "connecting in parallel another core with its input signal phase-shifted in 180º with respect to the first core's input, which also gives the possibility of reducing the filter. This will be added as an additional simulation inside the notebook as an illustrative example of how the topology may be implemented to achieve  better efficiency."
   ]
  },
  {
   "cell_type": "code",
   "execution_count": null,
   "metadata": {},
   "outputs": [],
   "source": []
  }
 ],
 "metadata": {
  "colab": {
   "collapsed_sections": [],
   "provenance": []
  },
  "kernelspec": {
   "display_name": "Python 3 (ipykernel)",
   "language": "python",
   "name": "python3"
  },
  "language_info": {
   "codemirror_mode": {
    "name": "ipython",
    "version": 3
   },
   "file_extension": ".py",
   "mimetype": "text/x-python",
   "name": "python",
   "nbconvert_exporter": "python",
   "pygments_lexer": "ipython3",
   "version": "3.9.7"
  },
  "vscode": {
   "interpreter": {
    "hash": "397704579725e15f5c7cb49fe5f0341eb7531c82d19f2c29d197e8b64ab5776b"
   }
  }
 },
 "nbformat": 4,
 "nbformat_minor": 1
}
