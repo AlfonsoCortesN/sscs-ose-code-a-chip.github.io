{
 "cells": [
  {
   "cell_type": "markdown",
   "metadata": {
    "id": "aK2t7aSWNojQ"
   },
   "source": [
    "# 3 - Level Flying Cap Converter"
   ]
  },
  {
   "cell_type": "markdown",
   "metadata": {
    "id": "view-in-github"
   },
   "source": [
    "<a href=\"https://colab.research.google.com/github/idea-fasoc/OpenFASOC/blob/main/docs/source/notebooks/temp_sense_genCollab.ipynb\" target=\"_parent\"><img src=\"https://colab.research.google.com/assets/colab-badge.svg\" alt=\"Open In Colab\"/></a>"
   ]
  },
  {
   "cell_type": "markdown",
   "metadata": {
    "id": "xjDewsT5Y4lP"
   },
   "source": [
    "```\n",
    "AC3E Microelectronics Team, November 2022\n",
    "SPDX-License-Identifier: Apache-2.0\n",
    "```"
   ]
  },
  {
   "cell_type": "markdown",
   "metadata": {
    "id": "qAMsCOCMVMSy"
   },
   "source": [
    "\n",
    "|Name|Affiliation|IEEE Member|SSCS Member|\n",
    "|:--:|:----------:|:----------:|:----------:|\n",
    "| Jorge Marín <br /> Email ID: jorge.marinn@usm.cl|AC3E (Chile)| No |No|\n",
    "| Christian Rojas <br /> Email ID: c.a.rojas@ieee.org|AC3E, Universidad Técnica Federico Santa María (Chile)| Yes |No|\n",
    "| Joel Gak |Universidad Católica de Uruguay (Uruguay)| No |No|\n",
    "| Nicolás |Universidad Católica de Uruguay (Uruguay)| No |No|\n",
    "| Alfonso Cortés |AC3E, Universidad Técnica Federico Santa María (Chile)| Yes |No|\n",
    "| Aquiles Viza |AC3E, Universidad Técnica Federico Santa María (Chile)| No |No|\n",
    "| Kevin Pizarro |Universidad Técnica Federico Santa María (Chile)| No |No|\n",
    "| Sebastián Neira |AC3E, Universidad Técnica Federico Santa María (Chile)| No |No|\n",
    "| Vicente Osorio |Universidad Técnica Federico Santa María (Chile)| No |No|\n",
    "| Tomás Velásquez|Universidad Técnica Federico Santa María (Chile)| No |No|\n",
    "| Max Vega |Universidad Técnica Federico Santa María (Chile)| No |No|\n",
    "| Julio Contreras |Universidad Técnica Federico Santa María (Chile)| No |No|\n",
    "| Diego Almonacid |Universidad Técnica Federico Santa María (Chile)| No |No|\n",
    "| Carolina Beckmann |Universidad Técnica Federico Santa María (Chile)| Yes |No|\n",
    "| Pablo Vera |Universidad Técnica Federico Santa María (Chile)| No |No|\n"
   ]
  },
  {
   "cell_type": "markdown",
   "metadata": {},
   "source": [
    "## Introduction"
   ]
  },
  {
   "cell_type": "markdown",
   "metadata": {
    "id": "-Xp4cEjkeHIx"
   },
   "source": [
    "Our project focuses on designing and implementing a DC-DC buck converter demonstrator based on the three-level flying capacitor converter (3L-FCC) architecture, a simple but versatile type of FCML converter, using the Skywater 130nm CMOS technology (SKY130). Since power conversion at low voltage levels has already been demonstrated in the SKY130 technology in previous work [7], we set our focus on the buck conversion block between the high voltages in solar panels (20V) and the intermediate unregulated voltages in the DC bus (12V) for photo-voltaic input channel in CubeSat applications. In our proposed architecture and topologies, depicted in Fig. 2, the power circuits are fully integrated on-chip, including the power MOSFETs (PM), the flying capacitor (FC) and the gate drivers (GD). The switching control will be delivered externally or using the integrated RISC-V module, to allow for experiments with different modulation and control schemes. \n",
    "\n",
    "**Aún por cambiar**>>\n",
    "\n",
    "**_Index Terms:_** Circuit generator, leakage-based temperature dependency, open source, synthesizable design, temperature sensor.\n",
    "\n",
    "Citation: Q. Zhang et al., \"An Open-Source and Autonomous Temperature Sensor Generator Verified With 64 Instances in SkyWater 130 nm for Comprehensive Design Space Exploration,\" in IEEE Solid-State Circuits Letters, vol. 5, pp. 174-177, 2022, doi: 10.1109/LSSC.2022.3188925.\n",
    "\n",
    "\n",
    "[^1]: This notebook is targeted at users of all professional backgrounds aiming to learn how to *code* their chips. The goal is to go through all the steps of generating the temperature sensor and an overview of the simulation results. "
   ]
  },
  {
   "cell_type": "markdown",
   "metadata": {},
   "source": [
    "## About the converter and level shifters\n",
    "\n",
    "In general, this converter allows flexibility for control and gives the possibility of achieving better signal quality, but also the option of using it as a buck or boost converter. In this case, it is being used as a buck converter.\n",
    "This converter works on 4 states, described in figure 1, as seen below. \n",
    "\n",
    "</br>\n",
    "\n",
    "<div>\n",
    "<img src=\"/tree/Images/3LFC_states.png\" width=\"350\"/>\n",
    "</div>\n",
    "\n",
    "</br> \n",
    "\n",
    "<center>Figure 1: 3-LFCC States</center>\n",
    "\n",
    "</br> \n",
    "\n",
    "Yet for achieving the logic levels necessary for other applications that are normally higher than the ones at the chip, so it is necessary to use level shifters. The level shifters used in this project are the ones depicted in figure 2.\n",
    "\n",
    "\n",
    "</br>\n",
    "\n",
    "<div>\n",
    "<img src=\"/tree/Images/levelshift.jpeg\" width=\"350\"/>\n",
    "</div>\n",
    "\n",
    "</br> \n",
    "\n",
    "<center>Figure 2: Level Shifters schematic</center>\n",
    "\n",
    "</br> \n",
    "\n"
   ]
  },
  {
   "cell_type": "markdown",
   "metadata": {},
   "source": [
    "## Install tools and dependencies"
   ]
  },
  {
   "cell_type": "code",
   "execution_count": null,
   "metadata": {},
   "outputs": [],
   "source": [
    "# install all tools and dependencies\n",
    "import os\n",
    "import pathlib\n",
    "import sys\n",
    "\n",
    "!pip install matplotlib pandas pyinstaller\n",
    "!apt-get install -y ruby-full time build-essential\n",
    "!apt install -f libqt4-designer libqt4-xml libqt4-sql libqt4-network libqtcore4 libqtgui4\n",
    "!curl -Ls https://micro.mamba.pm/api/micromamba/linux-64/latest | tar -xvj bin/micromamba\n",
    "conda_prefix_path = pathlib.Path('conda-env')\n",
    "site_package_path = conda_prefix_path / 'lib/python3.7/site-packages'\n",
    "sys.path.append(str(site_package_path.resolve()))\n",
    "CONDA_PREFIX = str(conda_prefix_path.resolve())\n",
    "PATH = os.environ['PATH']\n",
    "LD_LIBRARY_PATH = os.environ.get('LD_LIBRARY_PATH', '')\n",
    "%env CONDA_PREFIX={CONDA_PREFIX}\n",
    "%env PATH={CONDA_PREFIX}/bin:{PATH}\n",
    "%env LD_LIBRARY_PATH={CONDA_PREFIX}/lib:{LD_LIBRARY_PATH}\n",
    "!bin/micromamba create --yes --prefix $CONDA_PREFIX\n",
    "!echo 'python ==3.7*' >> {CONDA_PREFIX}/conda-meta/pinned\n",
    "!bin/micromamba install --yes --prefix $CONDA_PREFIX \\\n",
    "                        --channel litex-hub \\\n",
    "                        --channel main \\\n",
    "                        open_pdks.sky130a \\\n",
    "                        magic \\\n",
    "                        netgen \\\n",
    "                        openroad \\\n",
    "                        yosys\n",
    "!bin/micromamba install --yes --prefix $CONDA_PREFIX \\\n",
    "                        --channel conda-forge \\\n",
    "                        tcllib gdstk pyyaml click svgutils ngspice\n",
    "#!bin/micromamba install --yes --prefix $CONDA_PREFIX \\\n",
    "#                        --channel conda-forge \\\n",
    "#                        klayout\n",
    "\n",
    "!wget https://www.klayout.org/downloads/Ubuntu-18/klayout_0.27.11-1_amd64.deb\n",
    "!dpkg -i klayout_0.27.11-1_amd64.deb\n",
    "\n",
    "# clone OpenFASOC repo\n",
    "!git clone https://github.com/idea-fasoc/OpenFASOC\n",
    "# setup env\n",
    "OPENFASOC_ROOT=str(pathlib.Path('OpenFASOC').resolve())\n",
    "TEMP_SENSE_ROOT=OPENFASOC_ROOT+\"/openfasoc/generators/temp-sense-gen/\"\n",
    "PATH=os.environ['PATH']\n",
    "%env PDK_ROOT={CONDA_PREFIX}/share/pdk\n",
    "%env OPENFASOC_ROOT={OPENFASOC_ROOT}\n",
    "%env PATH={PATH}:{OPENFASOC_ROOT}:{OPENFASOC_ROOT}/openfasoc/generators/temp-sense-gen/tools\n",
    "# pip3 packages\n",
    "!apt install python3-pip\n",
    "!pip3 install matplotlib pandas pyinstaller ipykernel"
   ]
  },
  {
   "cell_type": "markdown",
   "metadata": {},
   "source": [
    "## Simulation\n",
    "\n",
    "The switch design is initially based on the 10V thick oxide NMOS and PMOS power devices implemented in the Open PMIC project. The device sizes are shown below.\n",
    "\n",
    "**ver si esto va**\n"
   ]
  },
  {
   "cell_type": "markdown",
   "metadata": {},
   "source": [
    "### PMOS R_ON calculation\n",
    "\n",
    "Below, there will be two sections that have parameters that can be tweaked for the case to be analyzed by the user, both being the schematic and the python file used to manipulate the data.\n",
    "\n",
    "#### Generating the data\n",
    "This cell allows to run the .sch file for calculating the PMOS Ron characteristic through a SPICE simulation"
   ]
  },
  {
   "cell_type": "code",
   "execution_count": null,
   "metadata": {},
   "outputs": [],
   "source": [
    "!xschem PMOS_allfingers_RONcalc_v2p2_20220626.sch -n -S"
   ]
  },
  {
   "cell_type": "markdown",
   "metadata": {},
   "source": [
    "#### Running the plot \n",
    "\n",
    "This cell allows to run a .py file to plot the R_ON characteristic for a PMOS for different VGS values by using the data generated by the .sch file.\n",
    "\n",
    "The R_ON value for the typical PMOS switch device at 70°C , without parasitics, for IDS = 300mA, **is roughly 0.28Ohm** (see plot below)."
   ]
  },
  {
   "cell_type": "code",
   "execution_count": 7,
   "metadata": {},
   "outputs": [
    {
     "data": {
      "image/png": "[encoded data removed]",
      "text/plain": [
       "<Figure size 640x480 with 1 Axes>"
      ]
     },
     "metadata": {},
     "output_type": "display_data"
    }
   ],
   "source": [
    "import pandas as pd\n",
    "import numpy as np\n",
    "import random as rand\n",
    "from matplotlib import pyplot as plt\n",
    "\n",
    "colors=(0,0.1,0.2,0.3,0.4,0.5,0.6,0.7,0.8,0.9,1)\n",
    "df=pd.read_fwf('PMOS_R_on_calc.txt')\n",
    "df.to_csv('PMOS_R_on_calc.csv', index=False)\n",
    "data = pd.read_csv('PMOS_R_on_calc.csv').values\n",
    "\n",
    "## If you want to change the start, stop and step in the .sch file, you may change this parameters\n",
    "## here, named start, stop and step.\n",
    "start=20\n",
    "stop=15\n",
    "step=0.5\n",
    "VGS=[]\n",
    "while start>=stop:\n",
    "    VGS.append('VGS='+str(start)+'V')\n",
    "    start-=step\n",
    "\n",
    "## If you want to change the current sweep step  in the for more data, you may change this parameter\n",
    "## here, named current_sweep_step.\n",
    "current_sweep_step=100\n",
    "under=0\n",
    "top=current_sweep_step-1   \n",
    "\n",
    "row1=0\n",
    "row2=0\n",
    "i=0\n",
    "\n",
    "flag=True\n",
    "for volt in VGS:\n",
    "    \n",
    "    row1=under\n",
    "    row2=top\n",
    "    if flag:\n",
    "        under+=current_sweep_step\n",
    "        flag=False\n",
    "    else:\n",
    "        under+=current_sweep_step+1\n",
    "    top+=current_sweep_step+1\n",
    "    if volt==VGS[0]:\n",
    "        current = data[0:row2,0]\n",
    "        voltage = data[0:row2,1]\n",
    "    else:\n",
    "        current = data[row1:row2,0]\n",
    "        voltage = data[row1:row2,1]\n",
    "    plt.plot(current,voltage, color=(rand.choice(colors),rand.choice(colors),rand.choice(colors)),label=volt)\n",
    "    \n",
    "plt.xlabel('Current (A)')\n",
    "plt.ylabel('VDS (V)')\n",
    "plt.title('R_ON characteristic for various VGS')\n",
    "plt.legend()\n",
    "plt.show()  "
   ]
  },
  {
   "cell_type": "markdown",
   "metadata": {},
   "source": [
    "### NMOS Ron calculation\n",
    "\n",
    "Below, there will be two sections that have parameters that can be tweaked for the case to be analyzed by the user, both being the schematic and the python file used to manipulate the data.\n",
    "\n",
    "#### Opening and simulating the schematic\n",
    "This cell below allows to run the .sch file for calculating the NMOS R_ON characteristic through a SPICE simulation"
   ]
  },
  {
   "cell_type": "code",
   "execution_count": null,
   "metadata": {},
   "outputs": [],
   "source": [
    "!xschem NMOS_allfingers_RONcalc_v2p2_20220626.sch -n -S"
   ]
  },
  {
   "cell_type": "markdown",
   "metadata": {},
   "source": [
    "#### Running the plot\n",
    "\n",
    "This cell allows to run a .py file to plot the R_ON characteristic for a NMOS for different VGS values by using the data generated by the .sch file\n",
    "\n",
    "The R_ON value for the typical NMOS switch device at 70°C , without parasitics, for IDS = 300mA, **is roughly 0.17Ohm** (see plot below)."
   ]
  },
  {
   "cell_type": "code",
   "execution_count": 8,
   "metadata": {},
   "outputs": [
    {
     "data": {
      "image/png": "[encoded data removed]",
      "text/plain": [
       "<Figure size 640x480 with 1 Axes>"
      ]
     },
     "metadata": {},
     "output_type": "display_data"
    }
   ],
   "source": [
    "import pandas as pd\n",
    "import numpy as np\n",
    "import random as rand\n",
    "from matplotlib import pyplot as plt\n",
    "\n",
    "colors=(0,0.1,0.2,0.3,0.4,0.5,0.6,0.7,0.8,0.9,1)\n",
    "df=pd.read_fwf('NMOS_R_on_calc.txt')\n",
    "df.to_csv('NMOS_R_on_calc.csv', index=False)\n",
    "data = pd.read_csv('NMOS_R_on_calc.csv').values\n",
    "\n",
    "## If you want to change the start, stop and step in the .sch file, you may change this parameters\n",
    "## here, named start, stop and step.\n",
    "start=2\n",
    "stop=5\n",
    "step=0.5\n",
    "VGS=[]\n",
    "while start<=stop:\n",
    "    VGS.append('VGS='+str(start)+'V')\n",
    "    start+=step\n",
    "\n",
    "## If you want to change the current sweep step  in the for more data, you may change this parameter\n",
    "## here, named current_sweep_step.\n",
    "current_sweep_step=100\n",
    "under=0\n",
    "top=current_sweep_step-1   \n",
    "\n",
    "row1=0\n",
    "row2=0\n",
    "i=0\n",
    "\n",
    "flag=True\n",
    "for volt in VGS:\n",
    "    \n",
    "    row1=under\n",
    "    row2=top\n",
    "    if flag:\n",
    "        under+=current_sweep_step\n",
    "        flag=False\n",
    "    else:\n",
    "        under+=current_sweep_step+1\n",
    "    top+=current_sweep_step+1\n",
    "    if volt==VGS[0]:\n",
    "        current = data[0:row2,0]\n",
    "        voltage = data[0:row2,1]\n",
    "    else:\n",
    "        current = data[row1:row2,0]\n",
    "        voltage = data[row1:row2,1]\n",
    "    plt.plot(current,voltage, color=(rand.choice(colors),rand.choice(colors),rand.choice(colors)),label=volt)\n",
    "    \n",
    "plt.xlabel('Current (A)')\n",
    "plt.ylabel('VDS (V)')\n",
    "plt.title('R_ON characteristic for various VGS')\n",
    "plt.legend()\n",
    "plt.show()  "
   ]
  },
  {
   "cell_type": "markdown",
   "metadata": {},
   "source": [
    "### Efficiency\n",
    "\n",
    "Below, there will be two sections that have parameters that can be tweaked for the case to be analyzed by the user, both being the schematic and the python file used to manipulate the data.\n"
   ]
  },
  {
   "cell_type": "markdown",
   "metadata": {},
   "source": [
    "#### Opening and simulating the schematic\n",
    "\n",
    "This cell allows to run the .sch file for calculating the efficiency of a core from the converter through a SPICE simulation."
   ]
  },
  {
   "cell_type": "code",
   "execution_count": null,
   "metadata": {},
   "outputs": [],
   "source": [
    "!xschem core_testbench_wfilter.sch -n -S"
   ]
  },
  {
   "cell_type": "markdown",
   "metadata": {},
   "source": [
    "#### Running the plot\n",
    "\n",
    "This cell allows to run a .py file to plot the converter efficiency, with and without level shifters involved, for different load values by using the data generated by the .sch file\n",
    "\n",
    "The R_ON value for the typical NMOS switch device at 70°C , without parasitics, for IDS = 300mA, **is roughly 0.17Ohm** (see plot below)."
   ]
  },
  {
   "cell_type": "code",
   "execution_count": 6,
   "metadata": {},
   "outputs": [
    {
     "name": "stdout",
     "output_type": "stream",
     "text": [
      "Load: 50 ohms\n",
      "Peak length: 23\n",
      "Efficiency: 86.97203714402934 %\n",
      "Efficiency (considering level shifter): 82.2455254221848 %\n",
      "Load: 45 ohms\n",
      "Peak length: 21\n",
      "Efficiency: 87.59617740255412 %\n",
      "Efficiency (considering level shifter): 83.1486848316201 %\n",
      "Load: 40 ohms\n",
      "Peak length: 21\n",
      "Efficiency: 87.91237613782668 %\n",
      "Efficiency (considering level shifter): 83.8956320262659 %\n",
      "Load: 35 ohms\n",
      "Peak length: 22\n",
      "Efficiency: 88.75036300102734 %\n",
      "Efficiency (considering level shifter): 83.44140797547146 %\n",
      "Load: 30 ohms\n",
      "Peak length: 22\n",
      "Efficiency: 89.52566569897684 %\n",
      "Efficiency (considering level shifter): 84.44967251634998 %\n",
      "Load: 25 ohms\n",
      "Peak length: 23\n",
      "Efficiency: 89.82483646550783 %\n",
      "Efficiency (considering level shifter): 86.61060670142469 %\n",
      "Load: 20 ohms\n",
      "Peak length: 23\n",
      "Efficiency: 90.61621334976422 %\n",
      "Efficiency (considering level shifter): 87.87913625258177 %\n",
      "Load: 15 ohms\n",
      "Peak length: 22\n",
      "Efficiency: 91.31973346773229 %\n",
      "Efficiency (considering level shifter): 88.99721335510432 %\n",
      "Load: 10 ohms\n",
      "Peak length: 22\n",
      "Efficiency: 92.17321456709547 %\n",
      "Efficiency (considering level shifter): 90.36473244359318 %\n",
      "Load: 5 ohms\n",
      "Peak length: 22\n",
      "Efficiency: 81.30604477729626 %\n",
      "Efficiency (considering level shifter): 79.61600344143412 %\n"
     ]
    },
    {
     "data": {
      "image/png": "[encoded data removed]",
      "text/plain": [
       "<Figure size 640x480 with 1 Axes>"
      ]
     },
     "metadata": {},
     "output_type": "display_data"
    }
   ],
   "source": [
    "import pandas as pd\n",
    "import numpy as np\n",
    "from matplotlib import pyplot as plt\n",
    "from scipy.signal import find_peaks\n",
    "\n",
    "df=pd.read_fwf('3LFCC_core_wfilter_vicente.txt')\n",
    "df.to_csv('3LFCC_core_wfilter_vicente.csv', index=False)\n",
    "data = pd.read_csv('3LFCC_core_wfilter_vicente.csv').values\n",
    "\n",
    "\n",
    "\n",
    "start=50\n",
    "stop=5\n",
    "step=5\n",
    "r=[]\n",
    "while start>=stop:\n",
    "    r.append(start)\n",
    "    start-=step\n",
    "i_cut = 2000\n",
    "i=0\n",
    "pk_init = 10\n",
    "eff_arr=[]\n",
    "eff_ls_arr=[]\n",
    "\n",
    "\n",
    "for res in r:\n",
    "    flag=True\n",
    "    for number in data:\n",
    "        if flag:\n",
    "            row1=i+i_cut\n",
    "            flag=False\n",
    "        if round(number[0],5)==0.00003:\n",
    "            row2=i\n",
    "            i+=1\n",
    "            break\n",
    "        i+=1\n",
    "    print('Load:',res,'ohms')\n",
    "    y_out = data[row1:row2,1]\n",
    "    data_iout = data[row1:row2,7]\n",
    "    y_in = (-1)*data[row1:row2,3]\n",
    "    y_in_LS = (-1)*data[row1:row2,5]\n",
    "    peaks , _ = find_peaks(y_in, height=0.7)\n",
    "    pk_len = len(peaks)\n",
    "    print('Peak length:',pk_len)\n",
    "    vout = np.mean(y_out[peaks[pk_init]:peaks[pk_len-1]])\n",
    "    iin = np.mean(y_in[peaks[pk_init]:peaks[pk_len-1]])\n",
    "    ils = np.mean(y_in_LS[peaks[pk_init]:peaks[pk_len-1]])\n",
    "    iout = np.mean(data_iout[peaks[pk_init]:peaks[pk_len-1]])\n",
    "    pout = vout*iout\n",
    "    pin = 5*iin\n",
    "    eff_ls = (pout/(5*(iin+ils)))*(100)\n",
    "    eff = (pout/pin )*(100)\n",
    "    eff_arr.append(eff)\n",
    "    eff_ls_arr.append(eff_ls)\n",
    "    print('Efficiency:',eff,'%')\n",
    "    print('Efficiency (considering level shifter):',eff_ls,'%')\n",
    "\n",
    "\n",
    "\n",
    "plt.plot(r,eff_arr,color='b',label='Efficiency')\n",
    "plt.plot(r,eff_ls_arr,color='r',label='Efficiency (considering level shifter)')\n",
    "plt.xlabel('Load (Ohms)')\n",
    "plt.ylabel('Efficiency (%)')\n",
    "plt.title('Efficiency v/s Load')\n",
    "plt.legend()\n",
    "plt.ylim([0,100])\n",
    "plt.show()"
   ]
  },
  {
   "cell_type": "markdown",
   "metadata": {
    "id": "5gyYr7tTjrep"
   },
   "source": [
    "### Understanding User Input\n",
    "The generator must first parse the user’s requirements into a high-level circuit description or verilog. Note that verilog is a circuit description type that uses theoretical constructs (like mathematical operators, if-else blocks, always @ blocks,... etc) to concisely describe circuits. User input parsing is implemented by reading from a JSON spec file directly in the temp-sense-gen repository. The JSON allows for specifying power, area, maximum error (temperature result accuracy), an optimization option (to choose which option to prioritize), and an operating temperature range (minimum and maximum operating temperature values). The operating temperature range and optimization must be specified, but other items can be left blank. The example we are using here runs the sky130 node, and we already have a silicon model file for this node. The generator uses this model file to automatically determine the number of headers and inverters, among other necessary modifications that can be made to meet spec. The generator references the model file in an iterative process until either meeting spec or failing. A verilog description is then produced by substituting specifics into several template verilog files.\n",
    "\n",
    "You can see this solve and verilog generation by running the code below and exploring the temp-sense-gen/src folder in your python virtual environment:\n"
   ]
  },
  {
   "cell_type": "code",
   "execution_count": null,
   "metadata": {
    "id": "Bu55CvsAlbIh"
   },
   "outputs": [],
   "source": [
    "!cd OpenFASOC/openfasoc/generators/temp-sense-gen && make sky130hd_temp_verilog"
   ]
  },
  {
   "cell_type": "markdown",
   "metadata": {
    "id": "XEd8QqFgkog2"
   },
   "source": [
    "### Logic Synthesis\n",
    "At this phase, the implementation of fundamental components — such as transistors and resistors — is not considered. Logic synthesis takes the verilog description from the previous step and outputs a more detailed netlist by parsing theoretical verilog constructs like always, case, if-else, operator, etc… blocks. Note that a netlist is just a list of pins and component connections. Additionally the entire description is consolidated into one file (not considering the node specific library files we will need later) which means that the low and high voltage components are correctly connected. Specifics such as the shapes, placement, length, size of wires and components, along with power connections are still not considered. \n",
    "\n",
    "You can see the synthesis step by running the code below and viewing the temp-sense-gen/flow/results/sky130hd/tempsense/1_synth.v file in your python virtual environment:"
   ]
  },
  {
   "cell_type": "code",
   "execution_count": null,
   "metadata": {
    "id": "414sh8FtlgTk"
   },
   "outputs": [],
   "source": [
    "!cd OpenFASOC/openfasoc/generators/temp-sense-gen/flow && make synth"
   ]
  },
  {
   "cell_type": "markdown",
   "metadata": {
    "id": "Jd1rMEAzlLUT"
   },
   "source": [
    "### Automatic Place and Route\n",
    "Now that we have a description of our circuit which includes specific connections and components to use, it is possible to consider drawing the wires, placing the components, and choosing materials. Below is a step-by-step visual breakdown of the openroad APR."
   ]
  },
  {
   "cell_type": "markdown",
   "metadata": {
    "id": "_JBpH5AOmEcl"
   },
   "source": [
    "#### Floorplan\n",
    "First, an outline of the circuit is created encompassing the area that the circuit will occupy and including all the input and output pins for the top level circuit. Inside the temperature sensor, power rails, tap, and decap cells are placed. The tap and decap cells serve to address manufacturing and real-world circuit performance concerns. Within the box, a grid is formed with rows of fixed height.\n",
    "\n",
    "Run floorplan and render a polygon graphic for this stage by executing the code below:"
   ]
  },
  {
   "cell_type": "code",
   "execution_count": null,
   "metadata": {
    "id": "ognjm4xZK01-"
   },
   "outputs": [],
   "source": [
    "!cd OpenFASOC/openfasoc/generators/temp-sense-gen/flow && make floorplan"
   ]
  },
  {
   "cell_type": "code",
   "execution_count": null,
   "metadata": {
    "id": "BW8q1xrsmjre"
   },
   "outputs": [],
   "source": [
    "import gdstk\n",
    "import os\n",
    "import IPython.display\n",
    "import svgutils.transform as sg\n",
    "# work dir setup\n",
    "!cp OpenFASOC/openfasoc/generators/temp-sense-gen/flow/results/sky130hd/tempsense/2_floorplan.odb OpenFASOC/docs/source/notebooks/aux_files\n",
    "os.environ['from_oprd_'] = '2_floorplan.odb'\n",
    "os.environ['to_oprd_'] = 'out2.def'\n",
    "# convert odb to def\n",
    "!cd OpenFASOC/docs/source/notebooks/aux_files && openroad -no_init -exit dbtodef.tcl\n",
    "# convert def to gds\n",
    "!cd OpenFASOC/docs/source/notebooks/aux_files && klayout -zz -rd design_name=tempsenseInst_error \\\n",
    "\t        -rd in_def=\"out2.def\" \\\n",
    "\t        -rd in_gds=\"HEADER.gds SLC.gds sky130_fd_sc_hd.gds\" \\\n",
    "\t        -rd config_file=\"fill.json\" \\\n",
    "\t        -rd out_gds=\"out2.gds\" \\\n",
    "\t        -rd tech_file=\"klayout.lyt\" \\\n",
    "\t        -rm def2gds.py\n",
    "!cp OpenFASOC/docs/source/notebooks/aux_files/out2.gds /content\n",
    "flrpln = gdstk.read_gds(\"out2.gds\".format(TEMP_SENSE_ROOT))\n",
    "flrpln_top_cell = flrpln.top_level()\n",
    "flrpln_top_cell[0].write_svg('out2.svg')\n",
    "fig = sg.fromfile('out2.svg')\n",
    "fig.set_size(('700','700'))\n",
    "fig.save('out2.svg')\n",
    "IPython.display.SVG('out2.svg')"
   ]
  },
  {
   "cell_type": "markdown",
   "metadata": {
    "id": "7WhybkqFKhAC"
   },
   "source": [
    "####Place\n",
    "Within the rows (visualized in the run above) the standard cells are placed. Cells are building block circuits that, when combined, implement the bulk of temperature sensor functionality. These standard components include: inverters or other logic gates, headers (used to convert from high to low voltage), SLC (used to convert from low to high voltage), etc. \n",
    "\n",
    "Run place and render a polygon graphic for this stage by executing the code below:"
   ]
  },
  {
   "cell_type": "code",
   "execution_count": null,
   "metadata": {
    "id": "SwsxoyqaNfL-"
   },
   "outputs": [],
   "source": [
    "!cd OpenFASOC/openfasoc/generators/temp-sense-gen/flow && make place"
   ]
  },
  {
   "cell_type": "code",
   "execution_count": null,
   "metadata": {
    "id": "38GZw7r2Nj3r"
   },
   "outputs": [],
   "source": [
    "import gdstk\n",
    "import IPython.display\n",
    "import svgutils.transform as sg\n",
    "# work dir setup\n",
    "!cp OpenFASOC/openfasoc/generators/temp-sense-gen/flow/results/sky130hd/tempsense/3_place.odb OpenFASOC/docs/source/notebooks/aux_files\n",
    "os.environ['from_oprd_'] = '3_place.odb'\n",
    "os.environ['to_oprd_'] = 'out3.def'\n",
    "# convert odb to def\n",
    "!cd OpenFASOC/docs/source/notebooks/aux_files && openroad -no_init -exit dbtodef.tcl\n",
    "# convert def to gds\n",
    "!cd OpenFASOC/docs/source/notebooks/aux_files && klayout -zz -rd design_name=tempsenseInst_error \\\n",
    "\t        -rd in_def=\"out3.def\" \\\n",
    "\t        -rd in_gds=\"HEADER.gds SLC.gds sky130_fd_sc_hd.gds\" \\\n",
    "\t        -rd config_file=\"fill.json\" \\\n",
    "\t        -rd out_gds=\"out3.gds\" \\\n",
    "\t        -rd tech_file=\"klayout.lyt\" \\\n",
    "\t        -rm def2gds.py\n",
    "!cp OpenFASOC/docs/source/notebooks/aux_files/out3.gds /content\n",
    "flrpln = gdstk.read_gds(\"out3.gds\".format(TEMP_SENSE_ROOT))\n",
    "flrpln_top_cell = flrpln.top_level()\n",
    "flrpln_top_cell[0].write_svg('out3.svg')\n",
    "fig = sg.fromfile('out3.svg')\n",
    "fig.set_size(('700','700'))\n",
    "fig.save('out3.svg')\n",
    "IPython.display.SVG('out3.svg')"
   ]
  },
  {
   "cell_type": "markdown",
   "metadata": {
    "id": "XJMjGSEAOaZA"
   },
   "source": [
    "#### CTS\n",
    "CTS stands for clock tree synthesis (balancing a clock delay to all parts of a circuit); We do not require this in the temperature sensor, but we do require the filler cells which are placed by openroad during CTS. Filler cells are exactly what they sound like. There are many large gaps (see the above run graphic) within each row, between components. These gaps must be filled such that there are continous silicon p and n wells — among other manufacturing and performance reasons. Fillers are placed to fill the gaps.\n",
    "\n",
    "Run CTS and render a polygon graphic for this stage by executing the code below:"
   ]
  },
  {
   "cell_type": "code",
   "execution_count": null,
   "metadata": {
    "id": "g9RZCeac3xwn"
   },
   "outputs": [],
   "source": [
    "!cd OpenFASOC/openfasoc/generators/temp-sense-gen/flow && make cts"
   ]
  },
  {
   "cell_type": "code",
   "execution_count": null,
   "metadata": {
    "id": "95kPlokE3_bG"
   },
   "outputs": [],
   "source": [
    "import gdstk\n",
    "import IPython.display\n",
    "import svgutils.transform as sg\n",
    "# work dir setup\n",
    "!cp OpenFASOC/openfasoc/generators/temp-sense-gen/flow/results/sky130hd/tempsense/4_cts.odb OpenFASOC/docs/source/notebooks/aux_files\n",
    "os.environ['from_oprd_'] = '4_cts.odb'\n",
    "os.environ['to_oprd_'] = 'out4.def'\n",
    "# convert odb to def\n",
    "!cd OpenFASOC/docs/source/notebooks/aux_files && openroad -no_init -exit dbtodef.tcl\n",
    "# convert def to gds\n",
    "!cd OpenFASOC/docs/source/notebooks/aux_files && klayout -zz -rd design_name=tempsenseInst_error \\\n",
    "\t        -rd in_def=\"out4.def\" \\\n",
    "\t        -rd in_gds=\"HEADER.gds SLC.gds sky130_fd_sc_hd.gds\" \\\n",
    "\t        -rd config_file=\"fill.json\" \\\n",
    "\t        -rd out_gds=\"out4.gds\" \\\n",
    "\t        -rd tech_file=\"klayout.lyt\" \\\n",
    "\t        -rm def2gds.py\n",
    "!cp OpenFASOC/docs/source/notebooks/aux_files/out4.gds /content\n",
    "flrpln = gdstk.read_gds(\"out4.gds\".format(TEMP_SENSE_ROOT))\n",
    "flrpln_top_cell = flrpln.top_level()\n",
    "flrpln_top_cell[0].write_svg('out4.svg')\n",
    "fig = sg.fromfile('out4.svg')\n",
    "fig.set_size(('700','700'))\n",
    "fig.save('out4.svg')\n",
    "IPython.display.SVG('out4.svg')"
   ]
  },
  {
   "cell_type": "markdown",
   "metadata": {
    "id": "c69tCiuC4TIM"
   },
   "source": [
    "####Routing\n",
    "The last step is to connect the components. During routing, wire-like pathways known as traces are placed in the design.\n",
    "\n",
    "Run route and finish then render a polygon graphic by executing the code below:"
   ]
  },
  {
   "cell_type": "code",
   "execution_count": null,
   "metadata": {
    "id": "bd8LNyPM6KYD"
   },
   "outputs": [],
   "source": [
    "!cd OpenFASOC/openfasoc/generators/temp-sense-gen/flow && make finish"
   ]
  },
  {
   "cell_type": "code",
   "execution_count": null,
   "metadata": {
    "id": "CJtokFjA6TJn"
   },
   "outputs": [],
   "source": [
    "import gdstk\n",
    "import IPython.display\n",
    "import svgutils.transform as sg\n",
    "!cp OpenFASOC/openfasoc/generators/temp-sense-gen/flow/results/sky130hd/tempsense/6_final.gds /content\n",
    "flrpln = gdstk.read_gds(\"6_final.gds\".format(TEMP_SENSE_ROOT))\n",
    "flrpln_top_cell = flrpln.top_level()\n",
    "flrpln_top_cell[0].write_svg('6_final.svg')\n",
    "fig = sg.fromfile('6_final.svg')\n",
    "fig.set_size(('700','700'))\n",
    "fig.save('6_final.svg')\n",
    "IPython.display.SVG('6_final.svg')"
   ]
  },
  {
   "cell_type": "markdown",
   "metadata": {
    "id": "EoI8lnEq-cJ9"
   },
   "source": [
    "### DRC and LVS\n",
    "Now that the generator has completed the flow, an automatic checking process is initiated. DRC or design rule checking ensures that the final circuit obeys manufacturing rules. Rules are set by the foundry for each of their nodes. LVS or layout vs schematic will compare the final output from APR to the netlist that we gave the APR tool (in this case openroad). This ensures that APR ran correctly and our final circuit matches our netlist description from logic synthesis. Both of these steps will use magic (LVS will also run on magic).\n",
    "\n",
    "Run checks by executing the below code. Both checks will give command line output below with complete status:"
   ]
  },
  {
   "cell_type": "code",
   "execution_count": null,
   "metadata": {
    "id": "g6ER_-6VAIIG"
   },
   "outputs": [],
   "source": [
    "!cd OpenFASOC/openfasoc/generators/temp-sense-gen/flow && make magic_drc\n",
    "!cd OpenFASOC/openfasoc/generators/temp-sense-gen/flow && make netgen_lvs"
   ]
  },
  {
   "cell_type": "markdown",
   "metadata": {
    "id": "SRb8x4VlTPfz"
   },
   "source": [
    " Simulations\n",
    "To see how the final design functions, run simulations across a temperature range by executing the code block below.\n",
    "\n",
    "**_Note:_** This may take over 30 minutes."
   ]
  },
  {
   "cell_type": "code",
   "execution_count": null,
   "metadata": {
    "id": "ZRpMHTBPN6Pc"
   },
   "outputs": [],
   "source": [
    "%cd /content/OpenFASOC/openfasoc/generators/temp-sense-gen\n",
    "!mkdir -p work\n",
    "%cd tools\n",
    "from simulation import generate_runs\n",
    "import shutil\n",
    "import json\n",
    "import os\n",
    "shutil.copyfile(\n",
    "    \"/content/OpenFASOC/openfasoc/generators/temp-sense-gen/flow/results/sky130hd/tempsense/6_final.gds\",\n",
    "    \"/content/OpenFASOC/openfasoc/generators/temp-sense-gen/work/tempsenseInst_error.gds\",\n",
    ")\n",
    "shutil.copyfile(\n",
    "    \"/content/OpenFASOC/openfasoc/generators/temp-sense-gen/flow/results/sky130hd/tempsense/6_final.def\",\n",
    "    \"/content/OpenFASOC/openfasoc/generators/temp-sense-gen/work/tempsenseInst_error.def\",\n",
    ")\n",
    "shutil.copyfile(\n",
    "    \"/content/OpenFASOC/openfasoc/generators/temp-sense-gen/flow/objects/sky130hd/tempsense/netgen_lvs/spice/tempsenseInst_error.spice\",\n",
    "    \"/content/OpenFASOC/openfasoc/generators/temp-sense-gen/work/tempsenseInst_error.spice\",\n",
    ")\n",
    "shutil.copyfile(\n",
    "    \"/content/OpenFASOC/openfasoc/generators/temp-sense-gen/flow/objects/sky130hd/tempsense/netgen_lvs/spice/tempsenseInst_error_pex.spice\",\n",
    "    \"/content/OpenFASOC/openfasoc/generators/temp-sense-gen/work/tempsenseInst_error_pex.spice\",\n",
    ")\n",
    "%cd ..\n",
    "stage_var = [int(6) - 1]\n",
    "header_var = [int(3)]\n",
    "# make a temp list\n",
    "temp_start = -20\n",
    "temp_stop = 100\n",
    "temp_step = 20\n",
    "temp_points = int((temp_stop - temp_start) / temp_step)\n",
    "temp_list = []\n",
    "for i in range(0, temp_points + 1):\n",
    "    temp_list.append(temp_start + i * temp_step)\n",
    "with open(\"/content/OpenFASOC/openfasoc/common/platform_config.json\") as file:\n",
    "    jsonConfig = json.load(file)\n",
    "pdkrt = os.environ.get('PDK_ROOT')\n",
    "prepexDir = generate_runs(\n",
    "    \"/content/OpenFASOC/openfasoc/generators/temp-sense-gen/\",\n",
    "    \"tempsenseInst_error\",\n",
    "    header_var,\n",
    "    stage_var,\n",
    "    temp_list,\n",
    "    jsonConfig,\n",
    "    \"sky130hd\",\n",
    "    pdkrt+\"/sky130A/\",\n",
    "    spiceDir=\"work\",\n",
    "    prePEX=True,\n",
    ")\n",
    "%cd /content"
   ]
  },
  {
   "cell_type": "markdown",
   "metadata": {
    "id": "uBkrKOa_ckOl"
   },
   "source": [
    "Run the below code block to view the sensor inaccuracy over the operating range -20 to 100C :"
   ]
  },
  {
   "cell_type": "code",
   "execution_count": null,
   "metadata": {
    "id": "NE_sFcgqcvyb"
   },
   "outputs": [],
   "source": [
    "%cd /content/OpenFASOC/openfasoc/generators/temp-sense-gen\n",
    "with open(\"tools/readparamgen.py\",\"r\") as pltr:\n",
    "  pltr_str=pltr.read()\n",
    "  pltr_str=pltr_str+\"\\nplot()\\n\"\n",
    "with open(\"tools/readparamgen.py\",\"w\") as pltr:\n",
    "  pltr.write(pltr_str)\n",
    "!python3 tools/readparamgen.py --specfile test.json --outputDir ./work --platform sky130hd --mode macro\n",
    "IPython.display.SVG('run_stats.svg')"
   ]
  },
  {
   "cell_type": "code",
   "execution_count": null,
   "metadata": {},
   "outputs": [],
   "source": []
  },
  {
   "cell_type": "markdown",
   "metadata": {},
   "source": [
    "## Analog Layout Generation\n",
    "\n",
    "insertar comandos para correr tcls"
   ]
  },
  {
   "cell_type": "code",
   "execution_count": null,
   "metadata": {},
   "outputs": [],
   "source": []
  },
  {
   "cell_type": "code",
   "execution_count": null,
   "metadata": {},
   "outputs": [],
   "source": []
  }
 ],
 "metadata": {
  "colab": {
   "collapsed_sections": [],
   "provenance": []
  },
  "kernelspec": {
   "display_name": "Python 3 (ipykernel)",
   "language": "python",
   "name": "python3"
  },
  "language_info": {
   "codemirror_mode": {
    "name": "ipython",
    "version": 3
   },
   "file_extension": ".py",
   "mimetype": "text/x-python",
   "name": "python",
   "nbconvert_exporter": "python",
   "pygments_lexer": "ipython3",
   "version": "3.9.15"
  },
  "vscode": {
   "interpreter": {
    "hash": "397704579725e15f5c7cb49fe5f0341eb7531c82d19f2c29d197e8b64ab5776b"
   }
  }
 },
 "nbformat": 4,
 "nbformat_minor": 1
}
