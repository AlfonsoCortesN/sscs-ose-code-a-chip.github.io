{
 "cells": [
  {
   "cell_type": "markdown",
   "id": "8b627c61-91e2-4097-a79e-19e13277c029",
   "metadata": {
    "tags": []
   },
   "source": [
    "# 2.4GHz LC-VCO in SKY130\n",
    "#### By Ryan Wans for ISSCC's 2023 Notebook Competitions\n",
    "#### SPDX-License-Identifier: Apache-2.0\n",
    "\n",
    "|Name|Affiliation|IEEE Member|SSCS Member|\n",
    "|:--:|:----------:|:----------:|:----------:|\n",
    "|Ryan Wans|University of Michigan|No|No|\n",
    "---\n",
    "## Table of Contents\n",
    "1. About The Project\n",
    "2. Design Parameters\n",
    "3. Inductor Derivation\n",
    "4. Varactor Calculations\n",
    "5. VCO Core Design\n",
    "6. Layout & Verification\n",
    "7. Conclusion\n",
    "---\n",
    "## About The Project\n",
    "<img src=\"./assets/lcvco_diagram.svg\" alt=\"lc-vco schematic\" style=\"width:400px;\"/><br>\n",
    "*Fig. 1   Basic Schematic of LC-VCO*\n",
    "  \n",
    "The LC-VCO, as stated in the name, relies on an LC tank circuit that resonates at a target center frequency. The parallel inductor and capacitor will resonate at a frequency dependent on their values, but they also have parasitic resistances associated with them. This resistance, most prominent in the inductor, causes any produced tones to quickly diminish, defeating the purpose of the oscillator. In order to counteract this effect, we can include a second resistor in parallel with the RLC tank that creates an equivalent negative resistance to the parasitics faced. To realize this \"negative resistance\", we can use a cross-coupled pair (XCP) circuit, which creates a negative transconductance looking into the circuit.\n",
    "\n",
    "## Design Parameters\n",
    "The target frequency for this VCO is 2.4GHz. This frequency was decided upon because of its extensive usage between IoT, BLE, WiFi, and more. In future revisions, 20GHz and 40GHz implementations will also be explored. Equation (1) describes the ideal relationship between the LC tank values and its resonant frequency. \n",
    "$$\\omega=\\frac{1}{\\sqrt{LC}} \\tag{1}$$\n",
    "For this oscillator, an inductance value of 2nH was chosen, primarily for its size and potential for a high Q-factor. Using the above equation, an ideal capacitance of around 2.2pF is derived. \n",
    "\n",
    "## Inductor Derivation\n",
    "ASITIC was used to realize the planar inductors needed to create the LC tank. ASITIC provides an excellent tool for optimizing inductor layouts based on Q-factor and inductance for given size parameters. Because ASITIC does not natively support DRC rules, square inductors are used to keep it DRC-clean for SKY130. The 2nH inductor was derived in ASITIC using the following:\n",
    "```\n",
    "ASITIC> optsymsq\n",
    "\n",
    "Desired inductance and percent error? 2 0.5\n",
    "\n",
    "Name? 2nhInductor\n",
    "\n",
    "Length? 250\n",
    "\n",
    "Min/Step/Max Spacing? 2 0.2 5\n",
    "\n",
    "Min/Step/Max Width? 10 0.2 30\n",
    "\n",
    "Metal layer? met5\n",
    "\n",
    "Exit metal layer? met4\n",
    "\n",
    "Frequency? (GHz) 2.4G\n",
    "\n",
    "```\n",
    "ASITIC produced an inductor with the following parameters:\n",
    "```\n",
    "L = 1.999 nH, R = 2.9...\n",
    "Found: n=3, w=24, s=2, L=1.999, Q=10.3\n",
    "```\n",
    "You can then export the CIF file (layout), which KLayout can import and convert to GDS.\n",
    "```\n",
    "cif ../exports/2nhInductor.cif 2nhInductor\n",
    "```\n",
    "This has been visualized below.\n",
    "\n"
   ]
  },
  {
   "cell_type": "code",
   "execution_count": 17,
   "id": "63fee0fa-3fb3-4070-8cd3-4e5f6810cafd",
   "metadata": {},
   "outputs": [
    {
     "name": "stderr",
     "output_type": "stream",
     "text": [
      "1209.82s - pydevd: Sending message related to process being replaced timed-out after 5 seconds\n"
     ]
    },
    {
     "name": "stdout",
     "output_type": "stream",
     "text": [
      "Requirement already satisfied: gdstk in /usr/local/lib/python3.10/site-packages (0.9.34)\n",
      "Requirement already satisfied: svgutils in /usr/local/lib/python3.10/site-packages (0.3.4)\n",
      "Requirement already satisfied: numpy in /usr/local/lib/python3.10/site-packages (from gdstk) (1.23.5)\n",
      "Requirement already satisfied: lxml in /usr/local/lib/python3.10/site-packages (from svgutils) (4.9.1)\n",
      "\n",
      "\u001b[1m[\u001b[0m\u001b[34;49mnotice\u001b[0m\u001b[1;39;49m]\u001b[0m\u001b[39;49m A new release of pip available: \u001b[0m\u001b[31;49m22.2.2\u001b[0m\u001b[39;49m -> \u001b[0m\u001b[32;49m22.3.1\u001b[0m\n",
      "\u001b[1m[\u001b[0m\u001b[34;49mnotice\u001b[0m\u001b[1;39;49m]\u001b[0m\u001b[39;49m To update, run: \u001b[0m\u001b[32;49mpython3.10 -m pip install --upgrade pip\u001b[0m\n"
     ]
    }
   ],
   "source": [
    "import sys\n",
    "!{sys.executable} -m pip install gdstk svgutils\n",
    "import gdstk\n",
    "import IPython.display\n",
    "import svgutils.transform as sg\n",
    "\n",
    "layout = gdstk.read_gds(\"./assets/inductor.gds\")\n",
    "top_cell = layout.top_level()\n",
    "top_cell[0].write_svg('inductor_layout.svg', background=\"none\", shape_style={(71, 20): {\"fill\": \"yellow\"},(72, 20): {\"fill\": \"purple\"},(71, 44): {\"fill\": \"black\"}})\n",
    "fig = sg.fromfile('inductor_layout.svg')\n",
    "fig.set_size(('400','400'))\n",
    "fig.save('inductor_layout.svg')\n",
    "# IPython.display.SVG('inductor_layout.svg')    removed; renders as black on some browsers"
   ]
  },
  {
   "cell_type": "markdown",
   "id": "963e4149-3fd3-4742-a26a-ff10aaf94d2a",
   "metadata": {},
   "source": [
    "<img src=\"./inductor_layout.svg\" alt=\"inductor\" style=\"width:400px;\"/><br>\n",
    "\n",
    "Note that becuase the PDK has strict rules about the angle at which metal can be drawn, the metal4 layer that interconnects the difference parts of the inductor has been squared off. \n",
    "\n",
    "<img src=\"./assets/pimodel.svg\" alt=\"pi model\" style=\"width:300px;\"/><br>\n",
    "*Fig. 2   Pi-Equivalent Circuit Model*\n",
    "\n",
    "Extracting a pi-equivalent circuit model of the inductor, as depicted in Figure 2, is the next step. This is an instrumental part of the process; the parasitic series resistance within the inductor will play a large role in the creation of the VCO core later on. There are 2 ways this can be accomplished in ASITIC; `pi` will calculate the equivalent circuit, whereas `pi2` will attempt to extract it using EM analysis. Because both return theoretical results that are only accurate to some degree, an average of the two should be sufficient for most approximations. Once you have extracted the series resistance of the inductor, you can use equation (2) to calculate the equivalent parallel resistance:\n",
    "$$R_{P}=\\frac{(\\omega_{o}L)^{2}}{R_{S}}=Q_{L}^{2}R_{S} \\tag{2}$$\n",
    "\n",
    "## Varactor Calculations\n",
    "To implement the tuning functionality of this LC-VCO, varactors are used in place of a conventional capacitor in the LC tank circuit. This provides a way to adjust the reactance of the capacitors with a tuning voltage, which will consequently alter the resonant frequency of the tank circuit. However, conceiving accurate simulations with the current SKY130 varactor models has proven difficult because of their non-continuous nature. To overcome this, the measurement data provided by CoolCAD of a few varactor test structures were used. \n",
    "\n",
    "<img src=\"./assets/varactorPlot.png\" alt=\"varactor data\" style=\"width:600px;\"/><br>\n",
    "*Fig. 3   5um x 10um m56 Varactor Measured Data*\n",
    "\n",
    "The measured behavior of m56 parallel 5x10 micron varactors has been graphed above. This data [2] can be used to roughly approximate the behavior of the 5x10 varactor, which can be used to build a varactor large enough for the LC tank. In this circuit example, we will assume that we want the target resonant frequency of 2.4GHz to be achieved through a tuning voltage of 0. To account for this, take the $C_{BC}$ of the varactor such that $V_{BC}=0$ and divide by the target capacitance derived in (1). Neglecting parasitics, we have derived that around 16 parallel 5x10 micron varactors will achieve the needed 2.2pF capacitance needed for a 2.4GHz resonance at $V_{tune}=0$. Of course, the floorplanning and matching of the varactors will affect this figure, and so parasitic extraction will be needed later to account for this. One can then use the previously measured data to extract the ideal resonance of the tank circuit as $V_{BC}$ varies over some range. This will allow you to understand the tuning range of the circuit. \n",
    "\n",
    "## VCO Core Design\n",
    "With the theoretical behavior of the inductor-varactor tank circuit and the required negative resistance now understood, an adequate cross-coupled pair can be constructed. To understand how this design will be derived, let us first examine how exactly an XCP works. \n",
    "\n",
    "<img src=\"./assets/xcpCircuit.svg\" alt=\"cross-coupled pair\" style=\"width:600px;\"/><br>\n",
    "*Fig. 4 (a) Basic Cross-Coupled Pair (b) Equivalent Small Signal Model*\n",
    "\n",
    "Analyzing the small signal model of the cross-coupled pair allows us to derive and analyze it's behavior. With known parasitic capacitances and resistances such as $C_{o}$, $C_{gd}$, and $r_{o}$ we can find the input impedance such that\n",
    "$$Z_{o}=r_{o}\\parallel(j\\omega{}C_{o}+4j\\omega{}C_{gd}) \\tag{3}$$\n",
    "and the according admittance $Y$ can be found from the reciprocal $Z_{o}^{-1}$. Additionally, conducting nodal analysis on Figure 4 (b) yeilds that the input resistance of the circuit can be modeled by:\n",
    "$$R_{in}=-\\frac{2}{g_{m}} \\tag{4}$$\n",
    "From the extracted ASITIC inductor model, we learned that the series resistance of the inductor is close to 2.9 ohms and the Q-factor is around 10.3. We can use equation (2) to derive a parallel resistance of around 315 ohms. From here, we use equation (4) to find our target transconductance for the XCP, which happend to be around 6.349 mS. \n",
    "\n",
    "## Layout & Verification\n",
    "Realizing the simulated circuit as a physical layout and verifying it are the final steps in the process. The layout of the inductor can easily be imported into KLayout and is discussed in earlier sections. It is the layout of the varactors and VCO core that will be challenging, as much effort will go into reducing the parasitics and improving the matching of the layout. \n",
    "\n",
    "Verification with the current toolchain will be near impossible, as the current extraction method only support R+C+CC extraction. We will have to rely on the extracted inductance of the inductor layout from ASITIC's calculations. \n",
    "\n",
    "## Conclusion"
   ]
  },
  {
   "cell_type": "code",
   "execution_count": null,
   "id": "25eb0aaf-7a61-4674-8098-24bae843287f",
   "metadata": {},
   "outputs": [],
   "source": []
  },
  {
   "cell_type": "code",
   "execution_count": null,
   "id": "b2a58117-7ad7-4afc-8049-1c610c7466f9",
   "metadata": {},
   "outputs": [],
   "source": []
  }
 ],
 "metadata": {
  "kernelspec": {
   "display_name": "Python 3 (ipykernel)",
   "language": "python",
   "name": "python3"
  },
  "language_info": {
   "codemirror_mode": {
    "name": "ipython",
    "version": 3
   },
   "file_extension": ".py",
   "mimetype": "text/x-python",
   "name": "python",
   "nbconvert_exporter": "python",
   "pygments_lexer": "ipython3",
   "version": "3.10.6"
  },
  "vscode": {
   "interpreter": {
    "hash": "1ee38ef4a5a9feb55287fd749643f13d043cb0a7addaab2a9c224cbe137c0062"
   }
  }
 },
 "nbformat": 4,
 "nbformat_minor": 5
}
