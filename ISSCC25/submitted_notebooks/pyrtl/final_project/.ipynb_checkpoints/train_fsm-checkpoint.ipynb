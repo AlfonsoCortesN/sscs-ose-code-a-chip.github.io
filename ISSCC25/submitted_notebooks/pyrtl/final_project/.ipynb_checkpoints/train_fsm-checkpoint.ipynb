{
 "cells": [
  {
   "cell_type": "code",
   "execution_count": 1,
   "id": "386cf65f",
   "metadata": {},
   "outputs": [],
   "source": [
    "from pyrtl import *\n",
    "import pyrtl"
   ]
  },
  {
   "cell_type": "code",
   "execution_count": 2,
   "id": "b1bd81f2",
   "metadata": {},
   "outputs": [],
   "source": [
    "def twoinp_and( a_input, b_input ):\n",
    "    \n",
    "    y_output = a_input & b_input\n",
    "\n",
    "    return y_output"
   ]
  },
  {
   "cell_type": "code",
   "execution_count": 3,
   "id": "a4367476",
   "metadata": {},
   "outputs": [],
   "source": [
    "def twoinp_or( a_input, b_input ):\n",
    "     \n",
    "    y_output = a_input | b_input\n",
    "\n",
    "    return y_output"
   ]
  },
  {
   "cell_type": "code",
   "execution_count": 4,
   "id": "74fa93bf",
   "metadata": {},
   "outputs": [],
   "source": [
    "def twoinp_xor( a_input, b_input ):\n",
    "    \n",
    "    y_output = a_input ^ b_input\n",
    "\n",
    "    return y_output"
   ]
  },
  {
   "cell_type": "code",
   "execution_count": 5,
   "id": "f9e2199d",
   "metadata": {},
   "outputs": [],
   "source": [
    "def threeinp_and( a_input, b_input, c_input ):\n",
    "    \n",
    "    y_output = a_input & b_input & c_input\n",
    "\n",
    "    return y_output"
   ]
  },
  {
   "cell_type": "code",
   "execution_count": 6,
   "id": "00119276",
   "metadata": {},
   "outputs": [],
   "source": [
    "def threeinp_or( a_input, b_input, c_input ):\n",
    "    \n",
    "    y_output = a_input | b_input | c_input\n",
    "\n",
    "    return y_output"
   ]
  },
  {
   "cell_type": "markdown",
   "id": "57a601b5",
   "metadata": {},
   "source": [
    "### States of our FSM\n",
    "\n",
    "<p> Our FSM is designed to represent a train deciding on its route based on certain conditions specified below:</p>\n",
    "<li>a represents good weather</li> \n",
    "<li>b represents enough passenger</li> \n",
    "<li>c represents added freight</li>\n",
    "<ol>\n",
    "    <li><b>State Name:</b><code>q0</code>, <b>Outputs:</b> <code>out_0 = 0</code>, <code>out_1 = a & b & c</code></li>\n",
    "    <li><b>State Name:</b><code>q1</code>, <b>Outputs:</b> <code>out_0 = b^c</code>, <code>out_1 = a|b</code></li>\n",
    "    <li><b>State Name:</b><code>q2</code>, <b>Outputs:</b> <code>out_0 = a & b </code>, <code>out_1 = b & c</code></li>\n",
    "    <li><b>State Name:</b><code>q3</code>, <b>Outputs:</b> <code>out_0 = a | b | c</code>, <code>out_1 = 0</code></li>\n",
    "    <li><b>State Name:</b><code>q4</code>, <b>Outputs:</b> <code>out_0 = 0</code>, <code>out_1 = 1</code></li>\n",
    "    \n",
    "</ol>\n",
    "\n",
    "<img src = \"https://nassink-nd.neocities.org/97AFE2FF-6CDB-4702-8515-06E7B462D837.jpeg\" width=900 height=700>"
   ]
  },
  {
   "cell_type": "markdown",
   "id": "f627681a",
   "metadata": {},
   "source": [
    "### Test Suite\n",
    "\n",
    "Here is the truth table for our Finite State Machine\n",
    "\n",
    "| State | out_0 | out_1 | next_state 0 | next_state 1 |\n",
    "|---|---|---|---|---|\n",
    "|q0| 0 | a & b & c | q0 | q1 |\n",
    "|q1| b ^ c | a or b | q2 | q3 |\n",
    "|q2| a & b | b & c | q1 | q0 |\n",
    "|q3| a or b or c | 0| q2 | q4 |\n",
    "|q4| 0 | 1 |q0 | q2 |\n",
    "\n",
    "Based on these functions and the FSM Diagram, here are the <i>expected</i> outputs:\n",
    "\n",
    "\n",
    "| Start State | a | b | c | out_0 | out_1 | Control | Next State |\n",
    "|---|---|---|---|---|---|---|---|\n",
    "|<b><font color=\"purple\">q0</font></b>|0|1|1|<b><font color=\"red\">0</font></b>| a & b & c = <b><font color=\"blue\">0</font></b>| 0 | q0 |\n",
    "|<b><font color=\"purple\">q0</font></b>|1|1|1|<b><font color=\"red\">0</font></b>| a & b & c = <b><font color=\"blue\">1</font></b>| 1 | q1 |\n",
    "|<b><font color=\"purple\">q1</font></b>|0|1|0|b^c = <b><font color=\"red\">1</font></b>|a or b= <b><font color=\"blue\">0</font></b> | 1 | q2 |\n",
    "|<b><font color=\"purple\">q2</font></b>|1|1|0|a & b= <b><font color=\"red\">1</font></b>| b & c= <b><font color=\"blue\">0</font></b> | 0 | q0 |\n",
    "|<b><font color=\"purple\">q0</font></b>|1|1|1| <b><font color=\"red\">0</font></b>|a & b & c = <b><font color=\"blue\">1</font></b> | 1 | q1 |\n",
    "|<b><font color=\"purple\">q1</font></b>|1|1|1| b^c = <b><font color=\"red\">0</font></b>|a or b= <b><font color=\"blue\">1</font></b> | 1 | q3 |\n",
    "|<b><font color=\"purple\">q3</font></b>|1|0|0| a or b or c = <b><font color=\"red\">1</font></b> | <b><font color=\"blue\">0</font></b> | 0 | q2 |\n",
    "|<b><font color=\"purple\">q2</font></b>|1|1|0| a & b = <b><font color=\"red\">1</font></b> | b & c = <b><font color=\"blue\">0</font></b> | 0 | q1 |\n",
    "|<b><font color=\"purple\">q1</font></b>|1|0|1| b^c = <b><font color=\"red\">1</font></b>| a or b = <b><font color=\"blue\">1</font></b> | 1 | q3 |\n",
    "|<b><font color=\"purple\">q3</font></b>|0|0|1| a or b or c = <b><font color=\"red\">1</font></b>| <b><font color=\"blue\">0</font></b> | 1 | q4 |\n",
    "|<b><font color=\"purple\">q4</font></b>|0|0|0| <b><font color=\"red\">0</font></b>| <b><font color=\"blue\">1</font></b> | 0 | q0 |\n",
    "|<b><font color=\"purple\">q0</font></b>|1|1|1| <b><font color=\"red\">0</font></b>| a & b & c= <b><font color=\"blue\">1</font></b> | 1 | q1 |\n",
    "|<b><font color=\"purple\">q1</font></b>|0|1|0| b^c = <b><font color=\"red\">1</font></b>| a or b = <b><font color=\"blue\">1</font></b> | 1 | q3 |\n",
    "|<b><font color=\"purple\">q3</font></b>|1|0|0| a or b or c = <b><font color=\"red\">1</font></b>| <b><font color=\"blue\">0</font></b> | 1 | q4 |\n",
    "|<b><font color=\"purple\">q4</font></b>|0|0|1| <b><font color=\"red\">0</font></b>| <b><font color=\"blue\">1</font></b> | 1 | q2 |"
   ]
  },
  {
   "cell_type": "code",
   "execution_count": 7,
   "id": "79933721",
   "metadata": {},
   "outputs": [],
   "source": [
    "def current_s( curr_state, a_input, b_input, c_input ):\n",
    "    \n",
    "    with pyrtl.conditional_assignment:\n",
    "        \n",
    "        state_out_0 = pyrtl.WireVector(1)\n",
    "        state_out_1 = pyrtl.WireVector(1)\n",
    "        \n",
    "        \n",
    "        with curr_state == 0:\n",
    "            state_out_0 |= 0\n",
    "            state_out_1 |= threeinp_and( a_input, b_input, c_input )\n",
    "        \n",
    "        with curr_state == 1:\n",
    "            state_out_0 |= twoinp_xor( b_input, c_input )\n",
    "            state_out_1 |= twoinp_or(a_input, b_input)\n",
    "        \n",
    "        with curr_state == 2:\n",
    "            state_out_0 |= twoinp_and(a_input, b_input)\n",
    "            state_out_1 |= twoinp_and(b_input, c_input)\n",
    "\n",
    "        with curr_state == 3:\n",
    "            state_out_0 |= threeinp_or( a_input, b_input, c_input )\n",
    "            state_out_1 |= 0\n",
    "            \n",
    "        with curr_state == 4:\n",
    "            state_out_0 |= 0\n",
    "            state_out_1 |= 1\n",
    "            \n",
    "            \n",
    "        return state_out_0, state_out_1"
   ]
  },
  {
   "cell_type": "code",
   "execution_count": 8,
   "id": "5f0ed87d",
   "metadata": {},
   "outputs": [],
   "source": [
    "def next_s( curr_state, control_signal ):\n",
    "    \n",
    "    with pyrtl.conditional_assignment:\n",
    "            \n",
    "\n",
    "        with curr_state == 0:\n",
    "            \n",
    "            with control_signal == 0:\n",
    "                curr_state.next |= 0\n",
    "                \n",
    "            with control_signal == 1:\n",
    "                curr_state.next |= 1\n",
    "                \n",
    "        with curr_state == 1:\n",
    "            \n",
    "            with control_signal == 0:\n",
    "                curr_state.next |= 2\n",
    "                \n",
    "            with control_signal == 1:\n",
    "                curr_state.next |= 3\n",
    "                \n",
    "        with curr_state == 2:\n",
    "            \n",
    "            with control_signal == 0:\n",
    "                curr_state.next |= 1\n",
    "                \n",
    "            with control_signal == 1:\n",
    "                curr_state.next |= 0\n",
    "                \n",
    "        with curr_state == 3:\n",
    "            \n",
    "            with control_signal == 0:\n",
    "                curr_state.next |= 2\n",
    "                \n",
    "            with control_signal == 1:\n",
    "                curr_state.next |= 4\n",
    "                \n",
    "\n",
    "        with curr_state == 4:\n",
    "            \n",
    "            with control_signal == 0:\n",
    "                curr_state.next |= 0\n",
    "                \n",
    "            with control_signal == 1:\n",
    "                curr_state.next |= 2\n",
    "        \n",
    "        return curr_state.next"
   ]
  },
  {
   "cell_type": "code",
   "execution_count": 9,
   "id": "76b88284",
   "metadata": {},
   "outputs": [],
   "source": [
    "def fsm_simulate( ):\n",
    "\n",
    "    pyrtl.reset_working_block()\n",
    "    \n",
    "    control_signal = pyrtl.Input(2, 'control_signal')\n",
    "    a_in = pyrtl.Input(1, 'a_in')\n",
    "    b_in = pyrtl.Input(1, 'b_in')\n",
    "    c_in = pyrtl.Input(1, 'c_in')\n",
    "    \n",
    "    output_0 = pyrtl.Output(1, 'output_0')\n",
    "    output_1 = pyrtl.Output(1, 'output_1')\n",
    "    \n",
    "    \n",
    "    curr_state = pyrtl.Register(3, 'curr_state')\n",
    "\n",
    "    \n",
    "    inter_0, inter_1 = current_s( curr_state, a_in, b_in, c_in )\n",
    "    \n",
    "    output_0 <<= inter_0\n",
    "    output_1 <<= inter_1\n",
    "    \n",
    "    curr_state = next_s( curr_state, control_signal )\n",
    "    \n",
    "    sim = pyrtl.Simulation()\n",
    "    \n",
    "    control_signals = [0,1,1,0,1,1,0,0,1,1,0,1,1,1,1]\n",
    "    a_inputs        = [0,1,0,1,1,1,1,1,1,0,0,1,0,1,0]\n",
    "    b_inputs        = [1,1,1,1,1,1,0,1,0,0,0,1,1,0,0]\n",
    "    c_inputs        = [1,1,0,0,1,1,0,0,1,1,0,1,0,0,1]\n",
    "    \n",
    "    \n",
    "    \n",
    "    for value in range(0, len(a_inputs)):\n",
    "\n",
    "        sim.step({\n",
    "            \n",
    "            'control_signal' : control_signals[value],\n",
    "            'a_in' : a_inputs[value],\n",
    "            'b_in' : b_inputs[value],\n",
    "            'c_in' : c_inputs[value] \n",
    "            \n",
    "        })\n",
    "    \n",
    "    sim.tracer.render_trace()"
   ]
  },
  {
   "cell_type": "code",
   "execution_count": 10,
   "id": "b341448a",
   "metadata": {},
   "outputs": [
    {
     "data": {
      "text/html": [
       "<script type=\"WaveDrom\">\n",
       "{\n",
       "  signal : [\n",
       "    { name: \"a_in\",  wave: \"0101.....0.1010\" },\n",
       "    { name: \"b_in\",  wave: \"1.....010..1.0.\" },\n",
       "    { name: \"c_in\",  wave: \"1.0.1.0.1.010.1\" },\n",
       "    { name: \"control_signal\",  wave: \"==.==.=.=.==...\", data: [\"0x0\", \"0x1\", \"0x0\", \"0x1\", \"0x0\", \"0x1\", \"0x0\", \"0x1\"] },\n",
       "    { name: \"curr_state\",  wave: \"=.=============\", data: [\"0x0\", \"0x1\", \"0x3\", \"0x2\", \"0x0\", \"0x1\", \"0x2\", \"0x1\", \"0x3\", \"0x4\", \"0x0\", \"0x1\", \"0x3\", \"0x4\"] },\n",
       "    { name: \"output_0\",  wave: \"0.1..0.1..0.1.0\" },\n",
       "    { name: \"output_1\",  wave: \"01.01..0101..01\" },\n",
       "  ],\n",
       "  config: { hscale: 1 }\n",
       "}\n",
       "</script>\n"
      ],
      "text/plain": [
       "<IPython.core.display.HTML object>"
      ]
     },
     "metadata": {},
     "output_type": "display_data"
    },
    {
     "data": {
      "application/javascript": [
       "\n",
       "            $.when(\n",
       "            $.getScript(\"https://cdnjs.cloudflare.com/ajax/libs/wavedrom/1.6.2/skins/default.js\"),\n",
       "            $.getScript(\"https://cdnjs.cloudflare.com/ajax/libs/wavedrom/1.6.2/wavedrom.min.js\"),\n",
       "            $.Deferred(function( deferred ){\n",
       "                $( deferred.resolve );\n",
       "            })).done(function(){\n",
       "                WaveDrom.ProcessAll();\n",
       "            });"
      ],
      "text/plain": [
       "<IPython.core.display.Javascript object>"
      ]
     },
     "metadata": {},
     "output_type": "display_data"
    }
   ],
   "source": [
    "fsm_simulate()"
   ]
  },
  {
   "cell_type": "markdown",
   "id": "d37a51de",
   "metadata": {},
   "source": [
    "### Check :) Success!\n",
    "\n",
    "| Start State | a | b | c | out_0 | out_1 | Control | Next State |\n",
    "|---|---|---|---|---|---|---|---|\n",
    "|<b><font color=\"purple\">q0</font></b>|0|1|1|<b><font color=\"red\">0</font></b>| a & b & c = <b><font color=\"blue\">0</font></b>| 0 | q0 |\n",
    "|<b><font color=\"purple\">q0</font></b>|1|1|1|<b><font color=\"red\">0</font></b>| a & b & c = <b><font color=\"blue\">1</font></b>| 1 | q1 |\n",
    "|<b><font color=\"purple\">q1</font></b>|0|1|0|b^c = <b><font color=\"red\">1</font></b>|a or b= <b><font color=\"blue\">0</font></b> | 1 | q2 |\n",
    "|<b><font color=\"purple\">q2</font></b>|1|1|0|a & b= <b><font color=\"red\">1</font></b>| b & c= <b><font color=\"blue\">0</font></b> | 0 | q0 |\n",
    "|<b><font color=\"purple\">q0</font></b>|1|1|1| <b><font color=\"red\">0</font></b>|a & b & c = <b><font color=\"blue\">1</font></b> | 1 | q1 |\n",
    "|<b><font color=\"purple\">q1</font></b>|1|1|1| b^c = <b><font color=\"red\">0</font></b>|a or b= <b><font color=\"blue\">1</font></b> | 1 | q3 |\n",
    "|<b><font color=\"purple\">q3</font></b>|1|0|0| a or b or c = <b><font color=\"red\">1</font></b> | <b><font color=\"blue\">0</font></b> | 0 | q2 |\n",
    "|<b><font color=\"purple\">q2</font></b>|1|1|0| a & b = <b><font color=\"red\">1</font></b> | b & c = <b><font color=\"blue\">0</font></b> | 0 | q1 |\n",
    "|<b><font color=\"purple\">q1</font></b>|1|0|1| b^c = <b><font color=\"red\">1</font></b>| a or b = <b><font color=\"blue\">1</font></b> | 1 | q3 |\n",
    "|<b><font color=\"purple\">q3</font></b>|0|0|1| a or b or c = <b><font color=\"red\">1</font></b>| <b><font color=\"blue\">0</font></b> | 1 | q4 |\n",
    "|<b><font color=\"purple\">q4</font></b>|0|0|0| <b><font color=\"red\">0</font></b>| <b><font color=\"blue\">1</font></b> | 0 | q0 |\n",
    "|<b><font color=\"purple\">q0</font></b>|1|1|1| <b><font color=\"red\">0</font></b>| a & b & c= <b><font color=\"blue\">1</font></b> | 1 | q1 |\n",
    "|<b><font color=\"purple\">q1</font></b>|0|1|0| b^c = <b><font color=\"red\">1</font></b>| a or b = <b><font color=\"blue\">1</font></b> | 1 | q3 |\n",
    "|<b><font color=\"purple\">q3</font></b>|1|0|0| a or b or c = <b><font color=\"red\">1</font></b>| <b><font color=\"blue\">0</font></b> | 1 | q4 |\n",
    "|<b><font color=\"purple\">q4</font></b>|0|0|1| <b><font color=\"red\">0</font></b>| <b><font color=\"blue\">1</font></b> | 1 | q2 |"
   ]
  }
 ],
 "metadata": {
  "kernelspec": {
   "display_name": "Python 3 (ipykernel)",
   "language": "python",
   "name": "python3"
  },
  "language_info": {
   "codemirror_mode": {
    "name": "ipython",
    "version": 3
   },
   "file_extension": ".py",
   "mimetype": "text/x-python",
   "name": "python",
   "nbconvert_exporter": "python",
   "pygments_lexer": "ipython3",
   "version": "3.9.13"
  }
 },
 "nbformat": 4,
 "nbformat_minor": 5
}
