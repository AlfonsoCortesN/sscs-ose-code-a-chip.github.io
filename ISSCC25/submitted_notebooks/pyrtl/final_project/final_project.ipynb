{
 "cells": [
  {
   "cell_type": "markdown",
   "metadata": {},
   "source": [
    "# Group Project - Finite State Machine\n",
    "\n",
    "> Note: This page contains the directions provided to the CSE 10001 students regarding their final project for the course\n",
    "\n",
    "The goal of this project assignment to allow you to explore using PyRTL to perform logic design and logic simulation of a proposed task.\n",
    "\n",
    "For this assignment, you are to work with a group and use Jupyter Notebook to perform the design and simulation.   "
   ]
  },
  {
   "cell_type": "markdown",
   "metadata": {},
   "source": [
    "## Activity 1: Design your own Finite State Machine\n",
    "\n",
    "For this assignment, you are to create your own Jupyter Notebook where you and your group members.\n",
    "\n",
    "<ul>\n",
    "<li>Put the name and email of each group member in a Markdown box.\n",
    "Use of Markdown, including tables and images to describe your Finite State Machine, similarly to how the example FSM was presented in class in <a href = \"https://github.com/mmorri22/sscs-ose-code-a-chip.github.io/blob/main/ISSCC25/pytrl/inclass-sols/In-Class%202%20-%20Solutions.ipynb\">Lecture 2 In Class</a>.</li>\n",
    "<li>You must include an image of your designed Finite State Machine.\n",
    "Hint: You can either use Markdown for a local image (which you will also need to submit) or include an img src Markdown by uploading the FSM image to your Neocities page.</li>\n",
    "<li>You must include a Truth Table describing the operations and expected transitions.</li>\n",
    "<li>You must include another Truth Table describing your testing and outputs.</li>\n",
    "</ul>\n",
    "\n",
    "### FSM Requirements\n",
    "\n",
    "Your Finite State Machine must meet the following requirements:\n",
    "<ol>\n",
    "    <li>Must have an initial state</li>\n",
    "    <li>Must contain at least four states.</li>\n",
    "    <li>Must contain at least six total transition edges.</li>\n",
    "    <li>At least one state must reference itself.</li>\n",
    "</ol>"
   ]
  },
  {
   "cell_type": "markdown",
   "metadata": {},
   "source": [
    "## Activity 2: Performing Logic Design and Simulation of your Finite State Machine\n",
    "\n",
    "For this assignment, you are to take the design of your Finite State Machine and perform Logic Design and Logic Simulation using PyRTL.\n",
    "\n",
    "Your test suite must perform the following to be consider \"thoroughly tested\":\n",
    "<ol>\n",
    "    <li>Test every transition between states at least once</li>\n",
    "    <li>Must test every logical case to ensure the design is correct.</li>\n",
    "</ol>"
   ]
  },
  {
   "cell_type": "markdown",
   "metadata": {},
   "source": [
    "## Submission\n",
    "Only one group member is required to submit a Notebook. The grading TA will enter the grade for the other group members based on the names and netIDs in the Notebook.\n",
    "\n",
    "You will be graded on the following metrics:\n",
    "<ol>\n",
    "<li><b>Requirements</b>: Did you meet the requirements above? (75 Points)</li>\n",
    "<li><b>Execution</b>: How functionally complete is your application? (50 Points)</li>\n",
    "<li><b>Thorough Testing</b>: How complete is the testing of your Finite State Machine? (50 Points)</li>\n",
    "<li><b>Creativity</b>: How creative or interesting is your finite state machine? Is there an application you considered in designing your FSM? (25 Points)</li>\n",
    "</ol>"
   ]
  }
 ],
 "metadata": {
  "language_info": {
   "name": "python"
  }
 },
 "nbformat": 4,
 "nbformat_minor": 2
}
