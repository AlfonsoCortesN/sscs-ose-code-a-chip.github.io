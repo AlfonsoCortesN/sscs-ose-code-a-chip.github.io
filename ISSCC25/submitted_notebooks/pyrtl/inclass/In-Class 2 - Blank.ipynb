{
 "cells": [
  {
   "cell_type": "markdown",
   "id": "03b806c7",
   "metadata": {},
   "source": [
    "### This is the Notebook for In-Class Coding 2 - Logic Design - Full Adders\n",
    "\n",
    "In this lecture, we will learn\n",
    "<ol>\n",
    "    <li>Develop and test a 1-bit Full Adder</li>\n",
    "    <li>Use Recursion to develop a 4-bit Full Adder with connected gates</li>\n",
    "</ol>\n",
    "<br />\n",
    "First, we will run the code blocks we developed in Mondays's lecture:"
   ]
  },
  {
   "cell_type": "code",
   "execution_count": null,
   "id": "386cf65f",
   "metadata": {},
   "outputs": [],
   "source": [
    "# You will do this library import with every PyRTL assignment\n",
    "from pyrtl import *\n",
    "import pyrtl"
   ]
  },
  {
   "cell_type": "code",
   "execution_count": null,
   "id": "b1bd81f2",
   "metadata": {},
   "outputs": [],
   "source": [
    "def two_input_and( a_input, b_input ):\n",
    "    \n",
    "    # Create the wire out and put a & b on that \n",
    "    y_output = a_input & b_input\n",
    "\n",
    "    # Use assert to ensure that the signals are one bit\n",
    "    return y_output"
   ]
  },
  {
   "cell_type": "code",
   "execution_count": null,
   "id": "a4367476",
   "metadata": {},
   "outputs": [],
   "source": [
    "def two_input_or( a_input, b_input ):\n",
    "    \n",
    "    # Create the wire out and put a | b on that \n",
    "    y_output = a_input | b_input\n",
    "\n",
    "    # Use assert to ensure that the signals are one bit\n",
    "    return y_output"
   ]
  },
  {
   "cell_type": "code",
   "execution_count": null,
   "id": "74fa93bf",
   "metadata": {},
   "outputs": [],
   "source": [
    "def two_input_xor( a_input, b_input ):\n",
    "    \n",
    "    # Create the wire out and put a ^ b on that \n",
    "    y_output = a_input ^ b_input\n",
    "\n",
    "    # Use assert to ensure that the signals are one bit\n",
    "    return y_output"
   ]
  },
  {
   "cell_type": "markdown",
   "id": "cf868e99",
   "metadata": {},
   "source": [
    "## Classic Advanced Circuit: Adder\n",
    "\n",
    "Now we will build the full adder that we developed together in class on Mnday\n",
    "\n",
    "Recall that the logic <b>equations</b> we developed were as follows:\n",
    "<ol>\n",
    "    <li><code>Sum = a ^ b ^ Cin</code></li>\n",
    "    <li><code>Cout = (a & b) | (Cin & (a ^ b))</code></li>\n",
    "</ol>\n",
    "\n",
    "The <b>logic diagram</b> and <b>truth table</b> are presented below:\n",
    "\n",
    "<center><img src=\"https://upload.wikimedia.org/wikipedia/commons/thumb/6/69/Full-adder_logic_diagram.svg/400px-Full-adder_logic_diagram.svg.png\"></center> <br />\n",
    "\n",
    "| A | B | Cin | Sum | Cout |\n",
    "|---|---|---|---|---|\n",
    "|0|0|0|0|0|\n",
    "|0|0|1|1|0|\n",
    "|0|1|0|1|0|\n",
    "|0|1|1|0|1|\n",
    "|1|0|0|1|0|\n",
    "|1|0|1|0|1|\n",
    "|1|1|0|0|1|\n",
    "|1|1|1|1|1|"
   ]
  },
  {
   "cell_type": "code",
   "execution_count": null,
   "id": "91bfeae7",
   "metadata": {},
   "outputs": [],
   "source": [
    "def sum( a, b, c_in ):\n",
    "    \n",
    "    # In-Class: Return the sum using previously design cells\n",
    "    # Could also simply do a ^ b ^ cin\n",
    "    "
   ]
  },
  {
   "cell_type": "code",
   "execution_count": null,
   "id": "73aacb86",
   "metadata": {},
   "outputs": [],
   "source": [
    "def carry_out( a, b, c_in ):\n",
    "    \n",
    "    # In-Class: Return the carry out\n",
    "    "
   ]
  },
  {
   "cell_type": "code",
   "execution_count": null,
   "id": "c22fabb7",
   "metadata": {},
   "outputs": [],
   "source": [
    "def full_adder( a, b, c_in ):\n",
    "    \n",
    "    # In-Class: Calculate the sum\n",
    "    \n",
    "\n",
    "    # In-Class: Calculate the carry out\n",
    "    \n",
    "    \n",
    "    # Return both\n",
    "    "
   ]
  },
  {
   "cell_type": "code",
   "execution_count": null,
   "id": "731e4808",
   "metadata": {},
   "outputs": [],
   "source": [
    "def full_adder_simulate():\n",
    "    \n",
    "    # Step 1 - Reset the working block\n",
    "    pyrtl.reset_working_block()\n",
    "    \n",
    "    # In-Class: Step 2 - Create the input and ouput wires\n",
    "    \n",
    "    \n",
    "    \n",
    "    \n",
    "    # In-Class: Step 3-a - Save to an intermediate value using the three_input_and_or function\n",
    "    \n",
    "    \n",
    "    # In-Class: Step 3-b Assign to a wire using <<=\n",
    "    \n",
    "    \n",
    "    \n",
    "    # Step 4 - - Simulate the design\n",
    "    sim = pyrtl.Simulation()\n",
    "    \n",
    "    # Step 5 - Create lists for the inputs\n",
    "    a_inputs = [0,0,0,0,1,1,1,1]\n",
    "    b_inputs = [0,0,1,1,0,0,1,1]\n",
    "    c_in_inputs = [0,1,0,1,0,1,0,1]\n",
    "    \n",
    "    # Step 6 - Loop through and simuluate\n",
    "    for value in range(0, len(a_inputs)):\n",
    "\n",
    "        sim.step({\n",
    "            'a' : a_inputs[value],\n",
    "            'b' : b_inputs[value],\n",
    "            'c_in' : c_in_inputs[value] \n",
    "        })\n",
    "    \n",
    "    # Render the trace\n",
    "    sim.tracer.render_trace()"
   ]
  },
  {
   "cell_type": "code",
   "execution_count": null,
   "id": "26ab0ff6",
   "metadata": {},
   "outputs": [],
   "source": [
    "# Call the function\n",
    "full_adder_simulate()"
   ]
  },
  {
   "cell_type": "markdown",
   "id": "fd9c0a4f",
   "metadata": {},
   "source": [
    "### Combining Concepts: Using Recursion to Create a Full Adder\n",
    "\n",
    "When we create a circuit in PyRTL, we cannot use loop to create the signals, only the input signals. But if there is repetition, we can use <b>recursion</b>!"
   ]
  },
  {
   "cell_type": "code",
   "execution_count": null,
   "id": "4e17cd8b",
   "metadata": {},
   "outputs": [],
   "source": [
    "def ripple_carry_adder( a, b, c_in ):\n",
    "    \n",
    "    # Base Case: When a is a length of 1, we put the first full adder\n",
    "    \n",
    "        \n",
    "    \n",
    "    # Recursive Case\n",
    "    \n",
    "\n",
    "        # Get the \"least significant\" bit and the rippecarry to the next full adder\n",
    "        \n",
    "        \n",
    "        # Recursively call the remaining bits to get the \"most significant\" bits and the current carry out\n",
    "        \n",
    "        \n",
    "        # Use pyrtl.concat Concatenate the results on the recursive call back up\n",
    "        \n",
    "\n",
    "    # Return the results                                      \n",
    "    "
   ]
  },
  {
   "cell_type": "code",
   "execution_count": null,
   "id": "519353b8",
   "metadata": {},
   "outputs": [],
   "source": [
    "def ripple_carry_sim( ):\n",
    "    \n",
    "    # Step 1 - Reset the working block\n",
    "    pyrtl.reset_working_block()\n",
    "    \n",
    "    # In-Class: Step 2 - Create the input and ouput wires for a 4-bit adder\n",
    "    \n",
    "    \n",
    "    # In-Class: Output of 4 bits\n",
    "    \n",
    "    \n",
    "    # In-Class:c_out is one bit, so we can still use .Output without issue\n",
    "    \n",
    "    \n",
    "    # In-Class:Step 3-a - Save to an intermediate value using the three_input_and_or function\n",
    "    \n",
    "    \n",
    "    # In-Class: Step 3-b Assign to a bus wire using <<=\n",
    "    \n",
    "    \n",
    "    \n",
    "    # Step 4 - Simulate the design\n",
    "    sim = pyrtl.Simulation()\n",
    "    \n",
    "    # Step 5 - Create lists for the inputs\n",
    "    a_inputs = [ 0, 3, 10, 2, 15, 3, 14 ]\n",
    "    b_inputs = [ 4, 6, 6, 11, 15, 12, 1 ]\n",
    "    c_in_inputs = [0, 0, 0, 0, 0, 0, 0]\n",
    "\n",
    "    # Step 6 - Loop through and simuluate\n",
    "    for value in range( 0, len(a_inputs) ):\n",
    "\n",
    "        sim.step({\n",
    "            'a' : a_inputs[value],\n",
    "            'b' : b_inputs[value],\n",
    "            'c_in' : c_in_inputs[value] \n",
    "        })\n",
    "    \n",
    "    # Render the trace\n",
    "    sim.tracer.render_trace()"
   ]
  },
  {
   "cell_type": "code",
   "execution_count": null,
   "id": "6fb97cc9",
   "metadata": {},
   "outputs": [],
   "source": [
    "ripple_carry_sim( )"
   ]
  }
 ],
 "metadata": {
  "kernelspec": {
   "display_name": "Python 3 (ipykernel)",
   "language": "python",
   "name": "python3"
  },
  "language_info": {
   "codemirror_mode": {
    "name": "ipython",
    "version": 3
   },
   "file_extension": ".py",
   "mimetype": "text/x-python",
   "name": "python",
   "nbconvert_exporter": "python",
   "pygments_lexer": "ipython3",
   "version": "3.9.12"
  }
 },
 "nbformat": 4,
 "nbformat_minor": 5
}
