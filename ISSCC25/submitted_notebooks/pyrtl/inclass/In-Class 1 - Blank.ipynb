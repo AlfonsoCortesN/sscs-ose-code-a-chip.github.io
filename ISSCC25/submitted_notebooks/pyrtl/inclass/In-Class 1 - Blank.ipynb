{
 "cells": [
  {
   "cell_type": "markdown",
   "id": "110a5eff",
   "metadata": {},
   "source": [
    "### This is the Notebook for In-Class Coding 1 - Logic Design - Combinational Logic\n",
    "\n",
    "In this lecture, we will learn\n",
    "<ol>\n",
    "    <li>Implement Basic Logic Gates</li>\n",
    "    <li>Develop and test a 1-bit Full Adder</li>\n",
    "    <li>Use Recursion to develop a 4-bit Full Adder with connected gates</li>\n",
    "</ol>"
   ]
  },
  {
   "cell_type": "markdown",
   "id": "9fd4539b",
   "metadata": {},
   "source": [
    "In order to properly simulate the output of a circuit, you will need to develop <b>logic blocks</b> that build upon each other. This approach is the hardware equivalent of using <b>functions</b> in software design!"
   ]
  },
  {
   "cell_type": "code",
   "execution_count": null,
   "id": "303f7ac1",
   "metadata": {},
   "outputs": [],
   "source": [
    "# You will do this library import with every PyRTL assignment"
   ]
  },
  {
   "cell_type": "code",
   "execution_count": null,
   "id": "9944db85",
   "metadata": {},
   "outputs": [],
   "source": [
    "def two_input_and( a_input, b_input ):\n",
    "    \n",
    "    # Security to ensure the lengths passed to the block are 1\n",
    "    \n",
    "    \n",
    "    # Create the wire out and put a & b on that \n",
    "    \n",
    "\n",
    "    # Use assert to ensure that the signals are one bit\n",
    "    "
   ]
  },
  {
   "cell_type": "code",
   "execution_count": null,
   "id": "bbf77695",
   "metadata": {},
   "outputs": [],
   "source": [
    "def two_input_and_simulate():\n",
    "\n",
    "    # Step 1 - Reset the working block\n",
    "    \n",
    "\n",
    "    # Step 2 - Create the input and ouput wires\n",
    "\n",
    "\n",
    "    # Step 3 - Save to an intermediate value using the function(s)\n",
    "\n",
    "    \n",
    "    # Step 3b - Connect them to the outputs using the <<= operator\n",
    "\n",
    "    \n",
    "    # Step 4 - Start the design simulation\n",
    "\n",
    "    \n",
    "    # Step 5 - Create lists for the inputs\n",
    "\n",
    "    \n",
    "    # Step 6 - Loop through and simuluate\n",
    "\n",
    "    \n",
    "    # Step 7- Render the trace\n"
   ]
  },
  {
   "cell_type": "code",
   "execution_count": null,
   "id": "ce68618d",
   "metadata": {
    "scrolled": true
   },
   "outputs": [],
   "source": [
    "# Call the function\n",
    "two_input_and_simulate()"
   ]
  },
  {
   "cell_type": "markdown",
   "id": "792a63b3",
   "metadata": {},
   "source": [
    "### Now we can combine circuits using a larger block and multiple outputs!"
   ]
  },
  {
   "cell_type": "code",
   "execution_count": null,
   "id": "c9093c14",
   "metadata": {},
   "outputs": [],
   "source": [
    "def two_input_or( a_input, b_input ):\n",
    "    \n",
    "    # Security to ensure the lengths passed to the block are 1\n",
    "    assert len(a_input) == len(b_input)  == 1  \n",
    "    \n",
    "    # In-Class: Create the wire out and put a | b on that \n",
    "    \n",
    "\n",
    "    # Use assert to ensure that the signals are one bit\n",
    "    return y_output\n",
    "\n",
    "\n",
    "def two_input_xor( a_input, b_input ):\n",
    "    \n",
    "    # Security to ensure the lengths passed to the block are 1\n",
    "    assert len(a_input) == len(b_input)  == 1  \n",
    "    \n",
    "    # In-Class: Create the wire out and put a ^ b on that \n",
    "    \n",
    "\n",
    "    # Use assert to ensure that the signals are one bit\n",
    "    return y_output"
   ]
  },
  {
   "cell_type": "code",
   "execution_count": null,
   "id": "e48605c6",
   "metadata": {},
   "outputs": [],
   "source": [
    "def two_input_or_xor_simulate():\n",
    "\n",
    "    # Step 1 - Reset the working block\n",
    "    pyrtl.reset_working_block()\n",
    "\n",
    "    # In-Class Step 2 - Create the input and ouput wires\n",
    "    a, b = pyrtl.Input(1, 'a'), pyrtl.Input(1, 'b')\n",
    "    \n",
    "\n",
    "    # In-Class Step 3 - Save to an intermediate value using the function(s)\n",
    "\n",
    "    \n",
    "    # In-Class Step 3b - Connect them to the outputs using the <<= operator\n",
    "\n",
    "    \n",
    "    \n",
    "    # Step 4 - Start the design simulation\n",
    "    sim = pyrtl.Simulation()\n",
    "    \n",
    "    # Step 5 - Create lists for the inputs\n",
    "    a_inputs = [0,0,1,1]\n",
    "    b_inputs = [0,1,0,1]\n",
    "    \n",
    "    # Step 6 - Loop through and simuluate\n",
    "    for value in range(0, 4):\n",
    "\n",
    "        sim.step({\n",
    "            'a' : a_inputs[value],\n",
    "            'b' : b_inputs[value]\n",
    "        })\n",
    "    \n",
    "    # Step 7- Render the trace\n",
    "    sim.tracer.render_trace()"
   ]
  },
  {
   "cell_type": "code",
   "execution_count": null,
   "id": "c8ac5f6f",
   "metadata": {},
   "outputs": [],
   "source": [
    "two_input_or_xor_simulate()"
   ]
  },
  {
   "cell_type": "markdown",
   "id": "c5d5b9e6",
   "metadata": {},
   "source": [
    "### Now let's develop a logic circuit with a 3-input AND and 2-input OR"
   ]
  },
  {
   "cell_type": "code",
   "execution_count": null,
   "id": "07608c99",
   "metadata": {},
   "outputs": [],
   "source": [
    "def three_input_and_two_input_or( a_input, b_input, c_input ):\n",
    "    \n",
    "    # Security to ensure the lengths passed to the block are 1\n",
    "    assert len(a_input) == len(b_input) == len(c_input) == 1  \n",
    "    \n",
    "    # In-Class: Calculate the and output\n",
    "    \n",
    "\n",
    "    # In-Class: Calculate the or output\n",
    "    \n",
    "    \n",
    "    # Return both\n",
    "    return output_and, output_or"
   ]
  },
  {
   "cell_type": "code",
   "execution_count": null,
   "id": "eaf6ddd9",
   "metadata": {},
   "outputs": [],
   "source": [
    "def three_input_and_two_input_or_simulate():\n",
    "    \n",
    "    # Step 1 - Reset the working block\n",
    "    pyrtl.reset_working_block()\n",
    "    \n",
    "    # Step 2 - Create the input and output wires\n",
    "    a, b, c = pyrtl.Input(1, 'a'), pyrtl.Input(1, 'b'), pyrtl.Input(1, 'c')\n",
    "    \n",
    "    output_3_and = pyrtl.Output(1, 'output_3_and')\n",
    "    output_2_or = pyrtl.Output(1, 'output_2_or')\n",
    "    \n",
    "    # In-Class - Step 3 - Save to an intermediate value using the three_input_and_or\n",
    "\n",
    "    \n",
    "    # In-Class - Step 3-b Assign to wires using <<=\n",
    "\n",
    "    \n",
    "    # Step 4 - - Simulate the design\n",
    "    sim = pyrtl.Simulation()\n",
    "    \n",
    "    # In-Class Step 5 - Create lists for the inputs\n",
    "\n",
    "    \n",
    "    # In-Class Step 6 - Loop through and simuluate\n",
    "\n",
    "    \n",
    "    # Render the trace\n",
    "    sim.tracer.render_trace()"
   ]
  },
  {
   "cell_type": "code",
   "execution_count": null,
   "id": "64ad0a93",
   "metadata": {},
   "outputs": [],
   "source": [
    "three_input_and_two_input_or_simulate()"
   ]
  }
 ],
 "metadata": {
  "kernelspec": {
   "display_name": "Python 3 (ipykernel)",
   "language": "python",
   "name": "python3"
  },
  "language_info": {
   "codemirror_mode": {
    "name": "ipython",
    "version": 3
   },
   "file_extension": ".py",
   "mimetype": "text/x-python",
   "name": "python",
   "nbconvert_exporter": "python",
   "pygments_lexer": "ipython3",
   "version": "3.9.12"
  }
 },
 "nbformat": 4,
 "nbformat_minor": 5
}
