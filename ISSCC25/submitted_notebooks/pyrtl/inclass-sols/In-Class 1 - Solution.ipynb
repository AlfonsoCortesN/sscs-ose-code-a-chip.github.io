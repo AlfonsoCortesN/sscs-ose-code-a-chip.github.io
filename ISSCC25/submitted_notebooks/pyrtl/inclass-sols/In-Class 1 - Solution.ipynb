{
 "cells": [
  {
   "cell_type": "markdown",
   "id": "110a5eff",
   "metadata": {},
   "source": [
    "### This is the Notebook for In-Class Coding 1 - Logic Design - Combinational Logic\n",
    "\n",
    "In this lecture, we will learn\n",
    "<ol>\n",
    "    <li>Implement Basic Logic Gates</li>\n",
    "    <li>Develop and test a 1-bit Full Adder</li>\n",
    "    <li>Use Recursion to develop a 4-bit Full Adder with connected gates</li>\n",
    "</ol>"
   ]
  },
  {
   "cell_type": "markdown",
   "id": "9fd4539b",
   "metadata": {},
   "source": [
    "In order to properly simulate the output of a circuit, you will need to develop <b>logic blocks</b> that build upon each other. This approach is the hardware equivalent of using <b>functions</b> in software design!"
   ]
  },
  {
   "cell_type": "code",
   "execution_count": 1,
   "id": "303f7ac1",
   "metadata": {},
   "outputs": [],
   "source": [
    "# You will do this library import with every PyRTL assignment\n",
    "from pyrtl import *\n",
    "import pyrtl"
   ]
  },
  {
   "cell_type": "code",
   "execution_count": 2,
   "id": "9944db85",
   "metadata": {},
   "outputs": [],
   "source": [
    "def two_input_and( a_input, b_input ):\n",
    "    \n",
    "    # Security to ensure the lengths passed to the block are 1\n",
    "    assert len(a_input) == len(b_input) == 1\n",
    "    \n",
    "    # Create the wire out and put a & b on that \n",
    "    y_output = a_input & b_input\n",
    "\n",
    "    # Use assert to ensure that the signals are one bit\n",
    "    return y_output"
   ]
  },
  {
   "cell_type": "code",
   "execution_count": 3,
   "id": "bbf77695",
   "metadata": {},
   "outputs": [],
   "source": [
    "def two_input_and_simulate():\n",
    "\n",
    "    # Step 1 - Reset the working block\n",
    "    pyrtl.reset_working_block()\n",
    "\n",
    "    # Step 2 - Create the input and ouput wires\n",
    "    a, b = pyrtl.Input(1, 'a'), pyrtl.Input(1, 'b')\n",
    "    out = pyrtl.Output(1, 'out')\n",
    "\n",
    "    # Step 3 - Save to an intermediate value using the function(s)\n",
    "    out_inter = two_input_and( a, b )\n",
    "    \n",
    "    # Step 3b - Connect them to the outputs using the <<= operator\n",
    "    out <<= out_inter\n",
    "    \n",
    "    # Step 4 - Start the design simulation\n",
    "    sim = pyrtl.Simulation()\n",
    "    \n",
    "    # Step 5 - Create lists for the inputs\n",
    "    a_inputs = [0,0,1,1]\n",
    "    b_inputs = [0,1,0,1]\n",
    "    \n",
    "    # Step 6 - Loop through and simuluate\n",
    "    for value in range(0, 4):\n",
    "        \n",
    "        sim.step({\n",
    "            'a' : a_inputs[value],\n",
    "            'b' : b_inputs[value]\n",
    "        })\n",
    "    \n",
    "    # Step 7- Render the trace\n",
    "    sim.tracer.render_trace()"
   ]
  },
  {
   "cell_type": "code",
   "execution_count": 4,
   "id": "ce68618d",
   "metadata": {
    "scrolled": false
   },
   "outputs": [
    {
     "data": {
      "text/html": [
       "<script type=\"WaveDrom\">\n",
       "{\n",
       "  signal : [\n",
       "    { name: \"a\",  wave: \"0.1.\" },\n",
       "    { name: \"b\",  wave: \"0101\" },\n",
       "    { name: \"out\",  wave: \"0..1\" },\n",
       "  ],\n",
       "  config: { hscale: 1 }\n",
       "}\n",
       "</script>\n"
      ],
      "text/plain": [
       "<IPython.core.display.HTML object>"
      ]
     },
     "metadata": {},
     "output_type": "display_data"
    },
    {
     "data": {
      "application/javascript": "\n            $.when(\n            $.getScript(\"https://cdnjs.cloudflare.com/ajax/libs/wavedrom/1.6.2/skins/default.js\"),\n            $.getScript(\"https://cdnjs.cloudflare.com/ajax/libs/wavedrom/1.6.2/wavedrom.min.js\"),\n            $.Deferred(function( deferred ){\n                $( deferred.resolve );\n            })).done(function(){\n                WaveDrom.ProcessAll();\n            });",
      "text/plain": [
       "<IPython.core.display.Javascript object>"
      ]
     },
     "metadata": {},
     "output_type": "display_data"
    }
   ],
   "source": [
    "# Call the function\n",
    "two_input_and_simulate()"
   ]
  },
  {
   "cell_type": "markdown",
   "id": "792a63b3",
   "metadata": {},
   "source": [
    "### Now we can combine circuits using a larger block and multiple outputs!"
   ]
  },
  {
   "cell_type": "code",
   "execution_count": 5,
   "id": "c9093c14",
   "metadata": {},
   "outputs": [],
   "source": [
    "def two_input_or( a_input, b_input ):\n",
    "    \n",
    "    # Security to ensure the lengths passed to the block are 1\n",
    "    assert len(a_input) == len(b_input)  == 1  \n",
    "    \n",
    "    # In-Class: Create the wire out and put a | b on that \n",
    "    y_output = a_input | b_input\n",
    "\n",
    "    # Use assert to ensure that the signals are one bit\n",
    "    return y_output\n",
    "\n",
    "\n",
    "def two_input_xor( a_input, b_input ):\n",
    "    \n",
    "    # Security to ensure the lengths passed to the block are 1\n",
    "    assert len(a_input) == len(b_input)  == 1  \n",
    "    \n",
    "    # In-Class: Create the wire out and put a ^ b on that \n",
    "    y_output = a_input ^ b_input\n",
    "\n",
    "    # Use assert to ensure that the signals are one bit\n",
    "    return y_output"
   ]
  },
  {
   "cell_type": "code",
   "execution_count": 6,
   "id": "e48605c6",
   "metadata": {},
   "outputs": [],
   "source": [
    "def two_input_or_xor_simulate():\n",
    "\n",
    "    # Step 1 - Reset the working block\n",
    "    pyrtl.reset_working_block()\n",
    "\n",
    "    # In-Class Step 2 - Create the input and ouput wires\n",
    "    a, b = pyrtl.Input(1, 'a'), pyrtl.Input(1, 'b')\n",
    "    out_or = pyrtl.Output(1, 'out_or')\n",
    "    out_xor = pyrtl.Output(1, 'out_xor')\n",
    "\n",
    "    # In-Class Step 3 - Save to an intermediate value using the function(s)\n",
    "    out_or_inter = two_input_or( a, b )\n",
    "    out_xor_inter = two_input_xor( a, b )\n",
    "    \n",
    "    # In-Class Step 3b - Connect them to the outputs using the <<= operator\n",
    "    out_or <<= out_or_inter\n",
    "    out_xor <<= out_xor_inter\n",
    "    \n",
    "    # Step 4 - Start the design simulation\n",
    "    sim = pyrtl.Simulation()\n",
    "    \n",
    "    # Step 5 - Create lists for the inputs\n",
    "    a_inputs = [0,0,1,1]\n",
    "    b_inputs = [0,1,0,1]\n",
    "    \n",
    "    # Step 6 - Loop through and simuluate\n",
    "    for value in range(0, 4):\n",
    "\n",
    "        sim.step({\n",
    "            'a' : a_inputs[value],\n",
    "            'b' : b_inputs[value]\n",
    "        })\n",
    "    \n",
    "    # Step 7- Render the trace\n",
    "    sim.tracer.render_trace()"
   ]
  },
  {
   "cell_type": "code",
   "execution_count": 7,
   "id": "c8ac5f6f",
   "metadata": {},
   "outputs": [
    {
     "data": {
      "text/html": [
       "<script type=\"WaveDrom\">\n",
       "{\n",
       "  signal : [\n",
       "    { name: \"a\",  wave: \"0.1.\" },\n",
       "    { name: \"b\",  wave: \"0101\" },\n",
       "    { name: \"out_or\",  wave: \"01..\" },\n",
       "    { name: \"out_xor\",  wave: \"01.0\" },\n",
       "  ],\n",
       "  config: { hscale: 1 }\n",
       "}\n",
       "</script>\n"
      ],
      "text/plain": [
       "<IPython.core.display.HTML object>"
      ]
     },
     "metadata": {},
     "output_type": "display_data"
    },
    {
     "data": {
      "application/javascript": "\n            $.when(\n            $.getScript(\"https://cdnjs.cloudflare.com/ajax/libs/wavedrom/1.6.2/skins/default.js\"),\n            $.getScript(\"https://cdnjs.cloudflare.com/ajax/libs/wavedrom/1.6.2/wavedrom.min.js\"),\n            $.Deferred(function( deferred ){\n                $( deferred.resolve );\n            })).done(function(){\n                WaveDrom.ProcessAll();\n            });",
      "text/plain": [
       "<IPython.core.display.Javascript object>"
      ]
     },
     "metadata": {},
     "output_type": "display_data"
    }
   ],
   "source": [
    "two_input_or_xor_simulate()"
   ]
  }
 ],
 "metadata": {
  "kernelspec": {
   "display_name": "Python 3 (ipykernel)",
   "language": "python",
   "name": "python3"
  },
  "language_info": {
   "codemirror_mode": {
    "name": "ipython",
    "version": 3
   },
   "file_extension": ".py",
   "mimetype": "text/x-python",
   "name": "python",
   "nbconvert_exporter": "python",
   "pygments_lexer": "ipython3",
   "version": "3.9.13"
  }
 },
 "nbformat": 4,
 "nbformat_minor": 5
}
