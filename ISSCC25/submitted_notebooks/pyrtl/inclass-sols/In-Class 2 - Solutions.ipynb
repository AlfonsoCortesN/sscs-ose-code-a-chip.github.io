{
 "cells": [
  {
   "cell_type": "markdown",
   "id": "03b806c7",
   "metadata": {},
   "source": [
    "### This is the Notebook for In-Class Coding 2 - Logic Design - Full Adder\n",
    "\n",
    "In this lecture, we will learn\n",
    "<ol>\n",
    "    <li>Develop and test a 1-bit Full Adder</li>\n",
    "    <li>Use Recursion to develop a 4-bit Full Adder with connected gates</li>\n",
    "</ol>\n",
    "<br />\n",
    "First, we will run the code blocks we developed in Mondays's lecture:"
   ]
  },
  {
   "cell_type": "code",
   "execution_count": 1,
   "id": "386cf65f",
   "metadata": {},
   "outputs": [],
   "source": [
    "# You will do this library import with every PyRTL assignment\n",
    "from pyrtl import *\n",
    "import pyrtl"
   ]
  },
  {
   "cell_type": "code",
   "execution_count": 2,
   "id": "b1bd81f2",
   "metadata": {},
   "outputs": [],
   "source": [
    "def two_input_and( a_input, b_input ):\n",
    "    \n",
    "    # Create the wire out and put a & b on that \n",
    "    y_output = a_input & b_input\n",
    "\n",
    "    # Use assert to ensure that the signals are one bit\n",
    "    return y_output"
   ]
  },
  {
   "cell_type": "code",
   "execution_count": 3,
   "id": "a4367476",
   "metadata": {},
   "outputs": [],
   "source": [
    "def two_input_or( a_input, b_input ):\n",
    "    \n",
    "    # Create the wire out and put a | b on that \n",
    "    y_output = a_input | b_input\n",
    "\n",
    "    # Use assert to ensure that the signals are one bit\n",
    "    return y_output"
   ]
  },
  {
   "cell_type": "code",
   "execution_count": 4,
   "id": "74fa93bf",
   "metadata": {},
   "outputs": [],
   "source": [
    "def two_input_xor( a_input, b_input ):\n",
    "    \n",
    "    # Create the wire out and put a ^ b on that \n",
    "    y_output = a_input ^ b_input\n",
    "\n",
    "    # Use assert to ensure that the signals are one bit\n",
    "    return y_output"
   ]
  },
  {
   "cell_type": "markdown",
   "id": "cf868e99",
   "metadata": {},
   "source": [
    "## Classic Advanced Circuit: Adder\n",
    "\n",
    "Now we will build the full adder that we developed together in class on Mnday\n",
    "\n",
    "Recall that the logic <b>equations</b> we developed were as follows:\n",
    "<ol>\n",
    "    <li><code>Sum = a ^ b ^ Cin</code></li>\n",
    "    <li><code>Cout = (a & b) | (Cin & (a ^ b))</code></li>\n",
    "</ol>\n",
    "\n",
    "The <b>logic diagram</b> and <b>truth table</b> are presented below:\n",
    "\n",
    "<center><img src=\"https://upload.wikimedia.org/wikipedia/commons/thumb/6/69/Full-adder_logic_diagram.svg/400px-Full-adder_logic_diagram.svg.png\"></center> <br />\n",
    "\n",
    "| A | B | Cin | Sum | Cout |\n",
    "|---|---|---|---|---|\n",
    "|0|0|0|0|0|\n",
    "|0|0|1|1|0|\n",
    "|0|1|0|1|0|\n",
    "|0|1|1|0|1|\n",
    "|1|0|0|1|0|\n",
    "|1|0|1|0|1|\n",
    "|1|1|0|0|1|\n",
    "|1|1|1|1|1|"
   ]
  },
  {
   "cell_type": "code",
   "execution_count": 5,
   "id": "91bfeae7",
   "metadata": {},
   "outputs": [],
   "source": [
    "def sum( a, b, c_in ):\n",
    "    \n",
    "    # In-Class: Return the sum using previously design cells\n",
    "    # Could also simply do a ^ b ^ cin\n",
    "    return two_input_xor( two_input_xor(a, b), c_in )"
   ]
  },
  {
   "cell_type": "code",
   "execution_count": 6,
   "id": "73aacb86",
   "metadata": {},
   "outputs": [],
   "source": [
    "def carry_out( a, b, c_in ):\n",
    "    \n",
    "    # In-Class: Return the carry out\n",
    "    return (a & b) | ( c_in & (a ^ b) )"
   ]
  },
  {
   "cell_type": "code",
   "execution_count": 7,
   "id": "c22fabb7",
   "metadata": {},
   "outputs": [],
   "source": [
    "def full_adder( a, b, c_in ):\n",
    "    \n",
    "    # In-Class: Calculate the sum\n",
    "    output_sum = sum( a, b, c_in )\n",
    "\n",
    "    # In-Class: Calculate the carry out\n",
    "    output_c_out = carry_out( a, b, c_in )\n",
    "    \n",
    "    # Return both\n",
    "    return output_sum, output_c_out"
   ]
  },
  {
   "cell_type": "code",
   "execution_count": 8,
   "id": "731e4808",
   "metadata": {},
   "outputs": [],
   "source": [
    "def full_adder_simulate():\n",
    "    \n",
    "    # Step 1 - Reset the working block\n",
    "    pyrtl.reset_working_block()\n",
    "    \n",
    "    # In-Class: Step 2 - Create the input and ouput wires\n",
    "    a, b, c_in = pyrtl.Input(1, 'a'), pyrtl.Input(1, 'b'), pyrtl.Input(1, 'c_in')\n",
    "    output_sum = pyrtl.Output(1, 'output_sum')\n",
    "    output_c_out = pyrtl.Output(1, 'output_c_out')\n",
    "    \n",
    "    # In-Class: Step 3-a - Save to an intermediate value using the three_input_and_or function\n",
    "    inter_sum, inter_c_out = full_adder( a, b, c_in )\n",
    "    \n",
    "    # In-Class: Step 3-b Assign to a wire using <<=\n",
    "    output_sum <<= inter_sum\n",
    "    output_c_out <<= inter_c_out\n",
    "    \n",
    "    # Step 4 - - Simulate the design\n",
    "    sim = pyrtl.Simulation()\n",
    "    \n",
    "    # Step 5 - Create lists for the inputs\n",
    "    a_inputs =    [0,0,0,0,1,1,1,1]\n",
    "    b_inputs =    [0,0,1,1,0,0,1,1]\n",
    "    c_in_inputs = [0,1,0,1,0,1,0,1]\n",
    "    \n",
    "    # Step 6 - Loop through and simuluate\n",
    "    for value in range(0, len(a_inputs)):\n",
    "\n",
    "        sim.step({\n",
    "            'a' : a_inputs[value],\n",
    "            'b' : b_inputs[value],\n",
    "            'c_in' : c_in_inputs[value] \n",
    "        })\n",
    "    \n",
    "    # Render the trace\n",
    "    sim.tracer.render_trace()"
   ]
  },
  {
   "cell_type": "code",
   "execution_count": 9,
   "id": "26ab0ff6",
   "metadata": {},
   "outputs": [
    {
     "data": {
      "text/html": [
       "<script type=\"WaveDrom\">\n",
       "{\n",
       "  signal : [\n",
       "    { name: \"a\",  wave: \"0...1...\" },\n",
       "    { name: \"b\",  wave: \"0.1.0.1.\" },\n",
       "    { name: \"c_in\",  wave: \"01010101\" },\n",
       "    { name: \"output_c_out\",  wave: \"0..101..\" },\n",
       "    { name: \"output_sum\",  wave: \"01.010.1\" },\n",
       "  ],\n",
       "  config: { hscale: 1 }\n",
       "}\n",
       "</script>\n"
      ],
      "text/plain": [
       "<IPython.core.display.HTML object>"
      ]
     },
     "metadata": {},
     "output_type": "display_data"
    },
    {
     "data": {
      "application/javascript": "\n            $.when(\n            $.getScript(\"https://cdnjs.cloudflare.com/ajax/libs/wavedrom/1.6.2/skins/default.js\"),\n            $.getScript(\"https://cdnjs.cloudflare.com/ajax/libs/wavedrom/1.6.2/wavedrom.min.js\"),\n            $.Deferred(function( deferred ){\n                $( deferred.resolve );\n            })).done(function(){\n                WaveDrom.ProcessAll();\n            });",
      "text/plain": [
       "<IPython.core.display.Javascript object>"
      ]
     },
     "metadata": {},
     "output_type": "display_data"
    }
   ],
   "source": [
    "# Call the function\n",
    "full_adder_simulate()"
   ]
  },
  {
   "cell_type": "markdown",
   "id": "fd9c0a4f",
   "metadata": {},
   "source": [
    "### Combining Concepts: Using Recursion to Create a Full Adder\n",
    "\n",
    "When we create a circuit in PyRTL, we cannot use loop to create the signals, only the input signals. But if there is repetition, we can use <b>recursion</b>!"
   ]
  },
  {
   "cell_type": "code",
   "execution_count": 10,
   "id": "4e17cd8b",
   "metadata": {},
   "outputs": [],
   "source": [
    "def ripple_carry_adder( a, b, c_in ):\n",
    "    \n",
    "    # Base Case: When a is a length of 1, we put the first full adder\n",
    "    if len(a) == 1:\n",
    "        sum_result, c_out = full_adder(a, b, c_in )\n",
    "    \n",
    "    # Recursive Case\n",
    "    else:\n",
    "\n",
    "        # Get the \"least significant\" bit and the rippecarry to the next full adder\n",
    "        ls_bit, ripplecarry = full_adder(a[0], b[0], c_in)\n",
    "        \n",
    "        # Recursively call the remaining bits to get the \"most significant\" bits and the current carry out\n",
    "        ms_bits, c_out = ripple_carry_adder( a[1:], b[1:], ripplecarry )\n",
    "        \n",
    "        # Use pyrtl.concat Concatenate the results on the recursive call back up\n",
    "        sum_result = pyrtl.concat(ms_bits, ls_bit)\n",
    "\n",
    "    # Return the results                                      \n",
    "    return sum_result, c_out"
   ]
  },
  {
   "cell_type": "code",
   "execution_count": 11,
   "id": "519353b8",
   "metadata": {},
   "outputs": [],
   "source": [
    "def ripple_carry_sim( ):\n",
    "    \n",
    "    # Step 1 - Reset the working block\n",
    "    pyrtl.reset_working_block()\n",
    "    \n",
    "    # In-Class: Step 2 - Create the input and ouput wires for a 4-bit adder\n",
    "    a, b, c_in = pyrtl.Input(4, 'a'), pyrtl.Input(4, 'b'), pyrtl.Input(1, 'c_in')\n",
    "    output_sum = pyrtl.Output(4, 'output_sum')\n",
    "    output_c_out = pyrtl.Output(1, 'output_c_out')    \n",
    "    \n",
    "    \n",
    "    # In-Class:Step 3-a - Save to an intermediate value using the three_input_and_or function\n",
    "    inter_sum, inter_c_out = ripple_carry_adder(a, b, c_in)\n",
    "    \n",
    "    # In-Class: Step 3-b Assign to a bus wire using <<=\n",
    "    output_sum <<= inter_sum\n",
    "    output_c_out <<= inter_c_out\n",
    "    \n",
    "    # Step 4 - Simulate the design\n",
    "    sim = pyrtl.Simulation()\n",
    "    \n",
    "    # Step 5 - Create lists for the inputs\n",
    "    a_inputs = [ 0, 3, 10, 2, 15, 3, 14 ]\n",
    "    b_inputs = [ 4, 6, 6, 11, 15, 12, 1 ]\n",
    "    c_in_inputs = [0, 0, 0, 0, 0, 0, 0]\n",
    "\n",
    "    # Step 6 - Loop through and simuluate\n",
    "    for value in range( 0, len(a_inputs) ):\n",
    "\n",
    "        sim.step({\n",
    "            'a' : a_inputs[value],\n",
    "            'b' : b_inputs[value],\n",
    "            'c_in' : c_in_inputs[value] \n",
    "        })\n",
    "    \n",
    "    # Render the trace\n",
    "    sim.tracer.render_trace()"
   ]
  },
  {
   "cell_type": "code",
   "execution_count": 12,
   "id": "6fb97cc9",
   "metadata": {},
   "outputs": [
    {
     "data": {
      "text/html": [
       "<script type=\"WaveDrom\">\n",
       "{\n",
       "  signal : [\n",
       "    { name: \"a\",  wave: \"=======\", data: [\"0x0\", \"0x3\", \"0xa\", \"0x2\", \"0xf\", \"0x3\", \"0xe\"] },\n",
       "    { name: \"b\",  wave: \"==.====\", data: [\"0x4\", \"0x6\", \"0xb\", \"0xf\", \"0xc\", \"0x1\"] },\n",
       "    { name: \"c_in\",  wave: \"0......\" },\n",
       "    { name: \"output_c_out\",  wave: \"0.1010.\" },\n",
       "    { name: \"output_sum\",  wave: \"======.\", data: [\"0x4\", \"0x9\", \"0x0\", \"0xd\", \"0xe\", \"0xf\"] },\n",
       "  ],\n",
       "  config: { hscale: 1 }\n",
       "}\n",
       "</script>\n"
      ],
      "text/plain": [
       "<IPython.core.display.HTML object>"
      ]
     },
     "metadata": {},
     "output_type": "display_data"
    },
    {
     "data": {
      "application/javascript": "\n            $.when(\n            $.getScript(\"https://cdnjs.cloudflare.com/ajax/libs/wavedrom/1.6.2/skins/default.js\"),\n            $.getScript(\"https://cdnjs.cloudflare.com/ajax/libs/wavedrom/1.6.2/wavedrom.min.js\"),\n            $.Deferred(function( deferred ){\n                $( deferred.resolve );\n            })).done(function(){\n                WaveDrom.ProcessAll();\n            });",
      "text/plain": [
       "<IPython.core.display.Javascript object>"
      ]
     },
     "metadata": {},
     "output_type": "display_data"
    }
   ],
   "source": [
    "ripple_carry_sim( )"
   ]
  }
 ],
 "metadata": {
  "kernelspec": {
   "display_name": "Python 3",
   "language": "python",
   "name": "python3"
  },
  "language_info": {
   "codemirror_mode": {
    "name": "ipython",
    "version": 3
   },
   "file_extension": ".py",
   "mimetype": "text/x-python",
   "name": "python",
   "nbconvert_exporter": "python",
   "pygments_lexer": "ipython3",
   "version": "3.8.10"
  }
 },
 "nbformat": 4,
 "nbformat_minor": 5
}
