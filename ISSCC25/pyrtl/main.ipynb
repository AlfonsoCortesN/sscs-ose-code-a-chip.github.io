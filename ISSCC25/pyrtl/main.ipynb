{
 "cells": [
  {
   "cell_type": "markdown",
   "metadata": {},
   "source": [
    "# Introduction to Logic Design for Business Majors using PyRTL"
   ]
  },
  {
   "cell_type": "markdown",
   "metadata": {},
   "source": [
    "In this introductory tutorial, we will discuss <a href = \"https://en.wikipedia.org/wiki/Hardware_description_language\">Hardware Description Languages</a>, and the <a href = \"https://pyrtl.readthedocs.io/en/latest/\">PyRTL</a> framework, in order to gain a base understanding of how to perform Logic Design hardware in computers.\n",
    "\n",
    "The objective of introducing these topics to Business majors was presented to the students as follows:\n",
    "> The objective for this reading assignment and final project is to <b>position you as an informed leader in the semiconductor space, so you can productively manage and lead hardware desginers on your team while simultaneously effectively conveying your challenges, achievements, and vision to investors</b>.\n",
    "\n",
    "These notebooks and guides were initially developed in the Fall 2022 Semester of <a href = \"https://canvas.nd.edu/courses/53612/pages/lecture-notes-and-schedule\">CSE 10001 - Principles of Computing for Business Majors</a> at the University of Notre Dame by Professor <a href = \"https://engineering.nd.edu/faculty/matthew-morrison/\">Matthew Morrison</a>."
   ]
  },
  {
   "cell_type": "markdown",
   "metadata": {},
   "source": [
    "## Prerequisites\n",
    "\n",
    "The students had completed 10 weeks of Python programming using Jupyter Notebooks.\n",
    "\n",
    "The full course Lecture Notes and Schedule may be found at the following link: https://canvas.nd.edu/courses/53612/pages/lecture-notes-and-schedule\n",
    "\n",
    "The introductory directions for installing all the appropriate tools in Jupyter for the class may be found here at the beginning of the first homework assignment: <a href = \"https://canvas.nd.edu/courses/91978/pages/homework-01-hardware-programming\">Homework 01 - Hardware, Programming</a>\n",
    "\n",
    "Prior to the Logic Design sequence, the students covered topics including:\n",
    "<ul>\n",
    "    <li>Introduction to Computational Thinking and Hardware</li>\n",
    "    <li>Data Representation</li>\n",
    "    <li>Variables, Expressions, and Functions</li>\n",
    "    <li>CPU and Conditional Executions</li>\n",
    "    <li>Advanced Conditionals and HTML Printing</li>\n",
    "    <li>Iteration, Lists, and Sequences</li>\n",
    "    <li>Algorithms</li>\n",
    "    <li>Strings and Duplicates</li>\n",
    "    <li>File I/O</li>\n",
    "    <li>Data Structures, such as <code>dict</code></li>\n",
    "    <li>Operating Systems and Recursion</li>\n",
    "    <li>Images and Image Filters</li>\n",
    "    <li>Intellectual Property</li>\n",
    "    <li>The Internet and Networks</li>\n",
    "</ul> "
   ]
  },
  {
   "cell_type": "markdown",
   "metadata": {},
   "source": [
    "## Outline\n",
    "\n",
    "To gain the most benefit from these notebooks, follow the sequence below, including <b>Preview Reading</b>, <b>In-Class Coding Assignments</b>, and the breakdown of the Final Project.\n",
    "\n",
    "|Assignment|Objectives|Notes|\n",
    "|:--|:--|:--|\n",
    "|Reading 1 - <a href = \"https://github.com/mmorri22/sscs-ose-code-a-chip.github.io/blob/main/ISSCC25/pytrl/readings/Reading%201%20-%20Introduction%20and%20Logic%20Gates.ipynb\">Introduction and Logic Gates</a> |In this preview reading, students will:<br><ul><li>Discover of Impact of Semiconductor Design on the Economy</li><li>Learn the fundamentals of logic gates and their operation</li><li>Learn the foudational implementation of PyRTL</ul>|x |\n",
    "|Reading 2 - <a href = \"\">Logic Blocks and Advanced Logic Circuits</a>|In this preview reading, students will:<br><ul><li>Learn how to implement Combinational Logic Design using the PyRTL Framework</li><li>Build their understanding through the design of a one-bit Full Adder</li></ul>| x|\n",
    "|In-Class Coding 1 - <a href = \"https://github.com/mmorri22/sscs-ose-code-a-chip.github.io/blob/main/ISSCC25/pytrl/inclass/In-Class%201%20-%20Blank.ipynb\">Logic Design - Combinational Logic</a>|In this lecture, you will:<ul><li>Implement Basic Logic Gates</li><li>Develop and test a 1-bit Full Adder</li></ul> | <a href = \"https://github.com/mmorri22/sscs-ose-code-a-chip.github.io/blob/main/ISSCC25/pytrl/inclass-sols/In-Class%201%20-%20Solution.ipynb\">In-Class Coding 1 Solutions</a> |\n",
    "|Reading 3 - <a href = \"\">Finite State Machines</a>|<ul><li>Combinational Logic Design</li><li>Full Adder</li></ul>| |\n",
    "|In-Class Coding 2 - <a href = \"https://github.com/mmorri22/sscs-ose-code-a-chip.github.io/blob/main/ISSCC25/pytrl/inclass/In-Class%202%20-%20Blank.ipynb\">Logic Design - Finite State Machines</a>|In this lecture, you will:<br><ul><li>Develop and test a 1-bit Full Adder</li><li>Use Recursion to develop a 4-bit Full Adder with connected gates</li><li>Use a register to store the state value for a Finite State Machine</li></ul>|<a href = \"https://github.com/mmorri22/sscs-ose-code-a-chip.github.io/blob/main/ISSCC25/pytrl/inclass-sols/In-Class%202%20-%20Solutions.ipynb\">In-Class Coding 2 Solutions</a>|\n",
    "|Final Project - <a href = \"\">Finite State Machines</a>|The goal of this lab assignment to allow you to explore using PyRTL to perform logic design and logic simulation of a proposed task.| |\n",
    "\n",
    "\n"
   ]
  }
 ],
 "metadata": {
  "language_info": {
   "name": "python"
  }
 },
 "nbformat": 4,
 "nbformat_minor": 2
}
