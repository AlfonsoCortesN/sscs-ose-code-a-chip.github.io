{
 "cells": [
  {
   "cell_type": "markdown",
   "id": "03b806c7",
   "metadata": {},
   "source": [
    "### This is the Notebook for In-Class Coding 3 - Logic Design - Finite State Machines\n",
    "\n",
    "In this lecture, we will:\n",
    "<ol>\n",
    "    <li>Use a register to store the state value for a Finite State Machine</li>\n",
    "    <li>Learn to compare the sequential output with a PyRTL Waveform</li>\n",
    "</ol>\n",
    "<br />"
   ]
  },
  {
   "cell_type": "code",
   "execution_count": 1,
   "id": "386cf65f",
   "metadata": {},
   "outputs": [],
   "source": [
    "# You will do this library import with every PyRTL assignment\n",
    "from pyrtl import *\n",
    "import pyrtl"
   ]
  },
  {
   "cell_type": "code",
   "execution_count": 2,
   "id": "b1bd81f2",
   "metadata": {},
   "outputs": [],
   "source": [
    "def two_input_and( a_input, b_input ):\n",
    "    \n",
    "    # Create the wire out and put a & b on that \n",
    "    y_output = a_input & b_input\n",
    "\n",
    "    # Use assert to ensure that the signals are one bit\n",
    "    return y_output"
   ]
  },
  {
   "cell_type": "code",
   "execution_count": 3,
   "id": "a4367476",
   "metadata": {},
   "outputs": [],
   "source": [
    "def two_input_or( a_input, b_input ):\n",
    "    \n",
    "    # Create the wire out and put a | b on that \n",
    "    y_output = a_input | b_input\n",
    "\n",
    "    # Use assert to ensure that the signals are one bit\n",
    "    return y_output"
   ]
  },
  {
   "cell_type": "code",
   "execution_count": 4,
   "id": "74fa93bf",
   "metadata": {},
   "outputs": [],
   "source": [
    "def two_input_xor( a_input, b_input ):\n",
    "    \n",
    "    # Create the wire out and put a ^ b on that \n",
    "    y_output = a_input ^ b_input\n",
    "\n",
    "    # Use assert to ensure that the signals are one bit\n",
    "    return y_output"
   ]
  },
  {
   "cell_type": "markdown",
   "id": "b9c13e36",
   "metadata": {},
   "source": [
    "# Finite State Machine Example\n",
    "\n",
    "Recall from the reading assignment: We can write digital logic that acts like a graph called a <b>Finite State Machine</b>. A <b>Finite State Machine</b> consists of:<br />\n",
    "<ol>\n",
    "    <li>A set of states (represented as nodes)</li>\n",
    "    <li>An initial state</li>\n",
    "    <li>A set of transitions between states (represented by edges)</li>\n",
    "    <li>A set of control input signals</li>\n",
    "</ol>"
   ]
  },
  {
   "cell_type": "markdown",
   "id": "57a601b5",
   "metadata": {},
   "source": [
    "### Now, we can define states. \n",
    "\n",
    "Using the same nodes and transitions as above, Here are the outputs we will create for our new FSM:\n",
    "\n",
    "<ol>\n",
    "    <li><b>State Name:</b><code>q0</code>, <b>Outputs:</b> <code>out_0 = 1</code>, <code>out_1 = a & b</code></li>\n",
    "    <li><b>State Name:</b><code>q1</code>, <b>Outputs:</b> <code>out_0 = a | b | c</code>, <code>out_1 = a ^ b</code></li>\n",
    "    <li><b>State Name:</b><code>q2</code>, <b>Outputs:</b> <code>out_0 = a & b & c</code>, <code>out_1 = 0</code></li>\n",
    "    <li><b>State Name:</b><code>q3</code>, <b>Outputs:</b> <code>out_0 = a ^ b</code>, <code>out_1 = b & c</code></li>\n",
    "    <li><b>State Name:</b><code>q4</code>, <b>Outputs:</b> <code>out_0 = 0</code>, <code>out_1 = 1</code></li>\n",
    "</ol>\n",
    "\n",
    "<img src = \"https://mmorri22-nd.neocities.org/images/lec26_fsm.jpg\" width=700 height=700>"
   ]
  },
  {
   "cell_type": "markdown",
   "id": "f627681a",
   "metadata": {},
   "source": [
    "### Test Suite\n",
    "\n",
    "Here is the truth table for our Finite State Machine\n",
    "\n",
    "| State | out_0 | out_1 | next_state 0 | next_state 1 |\n",
    "|---|---|---|---|---|\n",
    "|q0| 1 | a & b | q1 | q2 |\n",
    "|q1| a or b or c | a ^ b | q1 | q3 |\n",
    "|q2| a & b & c | 0 | q4 | q2 |\n",
    "|q3| a ^ b | b & c| q4 | q2 |\n",
    "|q4| 0 | 1 |q1 | q3 |\n",
    "\n",
    "Based on these functions and the FSM Diagram, here are the <i>expected</i> outputs:\n",
    "\n",
    "\n",
    "| Start State | a | b | c | out_0 | out_1 | Control | Next State |\n",
    "|---|---|---|---|---|---|---|---|\n",
    "|<b><font color=\"purple\">q0</font></b>|1|1|1|<b><font color=\"red\">1</font></b>| a & b = <b><font color=\"blue\">1</font></b>| 1 | q2 |\n",
    "|<b><font color=\"purple\">q2</font></b>|1|0|0|a & b & c = <b><font color=\"red\">0</font></b>| <b><font color=\"blue\">0</font></b> | 1 | q2 |\n",
    "|<b><font color=\"purple\">q2</font></b>|1|1|1|a & b & c = <b><font color=\"red\">1</font></b>| <b><font color=\"blue\">0</font></b> | 0 | q4 |\n",
    "|<b><font color=\"purple\">q4</font></b>|0|1|0|<b><font color=\"red\">0</font></b>| <b><font color=\"blue\">1</font></b> | 1 | q3 |\n",
    "|<b><font color=\"purple\">q3</font></b>|0|1|1|a ^ b = <b><font color=\"red\">1</font></b>| b & c = <b><font color=\"blue\">1</font></b> | 0 | q4 |\n",
    "|<b><font color=\"purple\">q4</font></b>|1|0|0|<b><font color=\"red\">0</font></b>| <b><font color=\"blue\">1</font></b> | 0 | q1 |\n",
    "|<b><font color=\"purple\">q1</font></b>|1|0|0| a or b or c = <b><font color=\"red\">1</font></b> | a ^ b = <b><font color=\"blue\">1</font></b> | 0 | q1 |\n",
    "|<b><font color=\"purple\">q1</font></b>|1|1|0| a or b or c = <b><font color=\"red\">1</font></b> | a ^ b = <b><font color=\"blue\">0</font></b> | 1 | q3 |\n",
    "|<b><font color=\"purple\">q3</font></b>|1|1|1| a ^ b = <b><font color=\"red\">0</font></b>| b & c = <b><font color=\"blue\">1</font></b> | 1 | q2 |"
   ]
  },
  {
   "cell_type": "markdown",
   "id": "c309ec5e",
   "metadata": {},
   "source": [
    "### Additional Functions\n",
    "\n",
    "Click through these functions that we will use inside each state:"
   ]
  },
  {
   "cell_type": "code",
   "execution_count": 5,
   "id": "f9e2199d",
   "metadata": {},
   "outputs": [],
   "source": [
    "def three_input_and( a_input, b_input, c_input ):\n",
    "    \n",
    "    # Create the wire out and put a & b & c on that \n",
    "    y_output = a_input & b_input & c_input\n",
    "\n",
    "    # Use assert to ensure that the signals are one bit\n",
    "    return y_output"
   ]
  },
  {
   "cell_type": "code",
   "execution_count": 6,
   "id": "00119276",
   "metadata": {},
   "outputs": [],
   "source": [
    "def three_input_or( a_input, b_input, c_input ):\n",
    "    \n",
    "    # Create the wire out and put a | b | c on that \n",
    "    y_output = a_input | b_input | c_input\n",
    "\n",
    "    # Use assert to ensure that the signals are one bit\n",
    "    return y_output"
   ]
  },
  {
   "cell_type": "markdown",
   "id": "a77181e1",
   "metadata": {},
   "source": [
    "### First, define each state in the FSM\n",
    "\n",
    "To promote modularity, and reduce the challenges of troubleshooting, keep the \"current state operations\" and the \"next state calculations separate."
   ]
  },
  {
   "cell_type": "code",
   "execution_count": 7,
   "id": "79933721",
   "metadata": {},
   "outputs": [],
   "source": [
    "# For this function, we assume the initial state has already been executed impemented\n",
    "\n",
    "def curr_state_op( curr_state, a_input, b_input, c_input ):\n",
    "    \n",
    "    # In-Class: Must include with pyrtl.conditional_assignment\n",
    "    with pyrtl.conditional_assignment:\n",
    "        \n",
    "        # In-Class: Create two intermediate WireVectors of bitwidth 1\n",
    "        state_out_0 = pyrtl.WireVector(1)\n",
    "        state_out_1 = pyrtl.WireVector(1)\n",
    "        \n",
    "        # In-Class: Perform the transition\n",
    "        \n",
    "        # State q0\n",
    "        with curr_state == 0:\n",
    "            state_out_0 |= 1\n",
    "            state_out_1 |= two_input_and( a_input, b_input )\n",
    "        \n",
    "        # State q1\n",
    "        with curr_state == 1:\n",
    "            state_out_0 |= three_input_or( a_input, b_input, c_input )\n",
    "            state_out_1 |= two_input_xor( a_input, b_input )\n",
    "        \n",
    "        # State q2\n",
    "        with curr_state == 2:\n",
    "            state_out_0 |= three_input_and( a_input, b_input, c_input )\n",
    "            state_out_1 |= 0\n",
    "\n",
    "        # State q3\n",
    "        with curr_state == 3:\n",
    "            state_out_0 |= two_input_xor( a_input, b_input )\n",
    "            state_out_1 |= two_input_and( b_input, c_input )\n",
    "\n",
    "        # State q4\n",
    "        with curr_state == 4:\n",
    "            state_out_0 |= 0\n",
    "            state_out_1 |= 1\n",
    "            \n",
    "        # Return both wire outputs\n",
    "        return state_out_0, state_out_1"
   ]
  },
  {
   "cell_type": "code",
   "execution_count": 8,
   "id": "5f0ed87d",
   "metadata": {},
   "outputs": [],
   "source": [
    "# For this function, we assume the initial state has already been executed impemented\n",
    "\n",
    "def next_state( curr_state, control_signal ):\n",
    "    \n",
    "    # Every time you perform a conditional assignment\n",
    "    with pyrtl.conditional_assignment:\n",
    "            \n",
    "        # Perform the transition\n",
    "        \n",
    "        # State q0\n",
    "        with curr_state == 0:\n",
    "            \n",
    "            with control_signal == 0:\n",
    "                curr_state.next |= 1\n",
    "                \n",
    "            with control_signal == 1:\n",
    "                curr_state.next |= 2\n",
    "                \n",
    "        # State q1\n",
    "        with curr_state == 1:\n",
    "            \n",
    "            with control_signal == 0:\n",
    "                curr_state.next |= 1\n",
    "                \n",
    "            with control_signal == 1:\n",
    "                curr_state.next |= 3\n",
    "                \n",
    "        # State q2\n",
    "        with curr_state == 2:\n",
    "            \n",
    "            with control_signal == 0:\n",
    "                curr_state.next |= 4\n",
    "                \n",
    "            with control_signal == 1:\n",
    "                curr_state.next |= 2\n",
    "                \n",
    "        # State q3\n",
    "        with curr_state == 3:\n",
    "            \n",
    "            with control_signal == 0:\n",
    "                curr_state.next |= 4\n",
    "                \n",
    "            with control_signal == 1:\n",
    "                curr_state.next |= 2\n",
    "                \n",
    "\n",
    "        # State q4\n",
    "        with curr_state == 4:\n",
    "            \n",
    "            with control_signal == 0:\n",
    "                curr_state.next |= 1\n",
    "                \n",
    "            with control_signal == 1:\n",
    "                curr_state.next |= 3\n",
    "        \n",
    "        # Return the updated memory\n",
    "        return curr_state.next"
   ]
  },
  {
   "cell_type": "code",
   "execution_count": 9,
   "id": "76b88284",
   "metadata": {},
   "outputs": [],
   "source": [
    "def example_fsm_simulate( ):\n",
    "    \n",
    "    # Step 1 - Reset the working block\n",
    "    pyrtl.reset_working_block()\n",
    "    \n",
    "    # Step 2 - Create the input and ouput wires\n",
    "    \n",
    "    # Inputs \n",
    "    control_signal = pyrtl.Input(2, 'control_signal')\n",
    "    a_in = pyrtl.Input(1, 'a_in')\n",
    "    b_in = pyrtl.Input(1, 'b_in')\n",
    "    c_in = pyrtl.Input(1, 'c_in')\n",
    "    \n",
    "    # Outputs\n",
    "    output_0 = pyrtl.Output(1, 'output_0')\n",
    "    output_1 = pyrtl.Output(1, 'output_1')\n",
    "    \n",
    "    \n",
    "    # In-Class: Define Register. Needs to have the number of bits requried to hold the value \n",
    "    # Since we have five states, we need three bits\n",
    "    curr_state = pyrtl.Register(3, 'curr_state')\n",
    "\n",
    "    \n",
    "    # In-Class Step 3 - Save to an intermediate value using example_fsm the function\n",
    "    inter_0, inter_1 = curr_state_op( curr_state, a_in, b_in, c_in )\n",
    "    \n",
    "    output_0 <<= inter_0\n",
    "    output_1 <<= inter_1\n",
    "    \n",
    "    # 3b - Map intermediate states to output signals\n",
    "    curr_state = next_state( curr_state, control_signal )\n",
    "    \n",
    "    # Step 4 - Start the design simulation\n",
    "    sim = pyrtl.Simulation()\n",
    "    \n",
    "    # Step 5 - Create lists for the inputs\n",
    "    control_signals = [1,1,0,1,0,0,0,1,1]\n",
    "    a_inputs        = [1,1,1,0,0,1,1,1,1]\n",
    "    b_inputs        = [1,0,1,1,1,0,0,1,1]\n",
    "    c_inputs        = [1,0,1,0,1,0,0,0,1]\n",
    "    \n",
    "    \n",
    "    # Step 6 - Loop through and simuluate\n",
    "    \n",
    "    for value in range(0, len(a_inputs)):\n",
    "\n",
    "        sim.step({\n",
    "            \n",
    "            'control_signal' : control_signals[value],\n",
    "            'a_in' : a_inputs[value],\n",
    "            'b_in' : b_inputs[value],\n",
    "            'c_in' : c_inputs[value] \n",
    "            \n",
    "        })\n",
    "    \n",
    "    # Step 7- Render the trace\n",
    "    sim.tracer.render_trace()"
   ]
  },
  {
   "cell_type": "code",
   "execution_count": 10,
   "id": "b341448a",
   "metadata": {},
   "outputs": [
    {
     "data": {
      "text/html": [
       "<script type=\"WaveDrom\">\n",
       "{\n",
       "  signal : [\n",
       "    { name: \"a_in\",  wave: \"1..0.1...\" },\n",
       "    { name: \"b_in\",  wave: \"101..0.1.\" },\n",
       "    { name: \"c_in\",  wave: \"101010..1\" },\n",
       "    { name: \"control_signal\",  wave: \"=.===..=.\", data: [\"0x1\", \"0x0\", \"0x1\", \"0x0\", \"0x1\"] },\n",
       "    { name: \"curr_state\",  wave: \"==.====.=\", data: [\"0x0\", \"0x2\", \"0x4\", \"0x3\", \"0x4\", \"0x1\", \"0x3\"] },\n",
       "    { name: \"output_0\",  wave: \"1010101.0\" },\n",
       "    { name: \"output_1\",  wave: \"10.1...01\" },\n",
       "  ],\n",
       "  config: { hscale: 1 }\n",
       "}\n",
       "</script>\n"
      ],
      "text/plain": [
       "<IPython.core.display.HTML object>"
      ]
     },
     "metadata": {},
     "output_type": "display_data"
    },
    {
     "data": {
      "application/javascript": [
       "\n",
       "            $.when(\n",
       "            $.getScript(\"https://cdnjs.cloudflare.com/ajax/libs/wavedrom/1.6.2/skins/default.js\"),\n",
       "            $.getScript(\"https://cdnjs.cloudflare.com/ajax/libs/wavedrom/1.6.2/wavedrom.min.js\"),\n",
       "            $.Deferred(function( deferred ){\n",
       "                $( deferred.resolve );\n",
       "            })).done(function(){\n",
       "                WaveDrom.ProcessAll();\n",
       "            });"
      ],
      "text/plain": [
       "<IPython.core.display.Javascript object>"
      ]
     },
     "metadata": {},
     "output_type": "display_data"
    }
   ],
   "source": [
    "example_fsm_simulate()"
   ]
  },
  {
   "cell_type": "markdown",
   "id": "d37a51de",
   "metadata": {},
   "source": [
    "### Check: Compare the generated waveform with the table we developed earlier\n",
    "\n",
    "| Start State | a | b | c | out_0 | out_1 | Control | Next State |\n",
    "|---|---|---|---|---|---|---|---|\n",
    "|<b><font color=\"purple\">q0</font></b>|1|1|1|<b><font color=\"red\">1</font></b>| a & b = <b><font color=\"blue\">1</font></b>| 1 | q2 |\n",
    "|<b><font color=\"purple\">q2</font></b>|1|0|0|a & b & c = <b><font color=\"red\">0</font></b>| <b><font color=\"blue\">0</font></b> | 1 | q2 |\n",
    "|<b><font color=\"purple\">q2</font></b>|1|1|1|a & b & c = <b><font color=\"red\">1</font></b>| <b><font color=\"blue\">0</font></b> | 0 | q4 |\n",
    "|<b><font color=\"purple\">q4</font></b>|0|1|0|<b><font color=\"red\">0</font></b>| <b><font color=\"blue\">1</font></b> | 1 | q3 |\n",
    "|<b><font color=\"purple\">q3</font></b>|0|1|1|a ^ b = <b><font color=\"red\">1</font></b>| b & c = <b><font color=\"blue\">1</font></b> | 0 | q4 |\n",
    "|<b><font color=\"purple\">q4</font></b>|1|0|0|<b><font color=\"red\">0</font></b>| <b><font color=\"blue\">1</font></b> | 0 | q1 |\n",
    "|<b><font color=\"purple\">q1</font></b>|1|0|0| a or b or c = <b><font color=\"red\">1</font></b> | a ^ b = <b><font color=\"blue\">1</font></b> | 0 | q1 |\n",
    "|<b><font color=\"purple\">q1</font></b>|1|1|0| a or b or c = <b><font color=\"red\">1</font></b> | a ^ b = <b><font color=\"blue\">0</font></b> | 1 | q3 |\n",
    "|<b><font color=\"purple\">q3</font></b>|1|1|1| a ^ b = <b><font color=\"red\">0</font></b>| b & c = <b><font color=\"blue\">1</font></b> | 1 | q2 |"
   ]
  }
 ],
 "metadata": {
  "kernelspec": {
   "display_name": "Python 3 (ipykernel)",
   "language": "python",
   "name": "python3"
  },
  "language_info": {
   "codemirror_mode": {
    "name": "ipython",
    "version": 3
   },
   "file_extension": ".py",
   "mimetype": "text/x-python",
   "name": "python",
   "nbconvert_exporter": "python",
   "pygments_lexer": "ipython3",
   "version": "3.9.13"
  }
 },
 "nbformat": 4,
 "nbformat_minor": 5
}
